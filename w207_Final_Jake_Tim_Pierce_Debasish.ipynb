{
 "cells": [
  {
   "cell_type": "markdown",
   "metadata": {},
   "source": [
    "# W207 Spring 2019 Final Project\n",
    "## Kaggle Competition: Forest Cover Prediction\n",
    "**Pierce Coggins, Jake Mitchell, Debasish Mukhopadhyay, and Tim Slade**"
   ]
  },
  {
   "cell_type": "markdown",
   "metadata": {},
   "source": [
    "# Table of Contents/Section Notes"
   ]
  },
  {
   "cell_type": "markdown",
   "metadata": {},
   "source": [
    "- [Introduction](#introduction)\n",
    "- [Housekeeping](#housekeeping)\n",
    "  - [Importing Libraries and Helper Functions](#import)\n",
    "  - [Splitting Data into Train and Test Sets](#splittingData)\n",
    "- [About the Data](#aboutTheData)\n",
    "  - [Initial Exploration of the Challenge](#summary)\n",
    "  - [Where do we start?](#exploratoryDataAnalysis)\n",
    "  - [Cleaning the Data](#dataCleaning)\n",
    "- [Feature Engineering](#featureEngineering)\n",
    "  - Describe a basic model that we will use to test the usefulness of new features (LR or NB)\n",
    "  - Normalization\n",
    "  - Review each added or removed feature\n",
    "- [Models](#models)\n",
    "  - [Logistic Regression](#logistic)\n",
    "  - \n",
    "- [Error Analysis]\n",
    "  - Summary and remediation of errors in model\n",
    "- [Results](#results)\n",
    "  - What went well, what went poorly\n",
    "  - Final comparison of models on test data\n",
    "- [Conclusion](#conclusion)\n",
    "- [Annexes](#annexA)\n",
    "  "
   ]
  },
  {
   "cell_type": "markdown",
   "metadata": {},
   "source": [
    "<a id=\"introduction\"></a>\n",
    "# Introduction"
   ]
  },
  {
   "cell_type": "markdown",
   "metadata": {},
   "source": [
    "In this report, our objective is to predict the forest cover type (defined as the predominant type of tree cover) for an area of land in Colorado given only cartographic input variables.  This problem and dataset was initially posted on Kaggle in 2015.  We have elected to take on this problem as it uniquely allows for various machine learning techniques to be applied.  This report provides a detailed explanation of our methodology from data exploration through to model creation and evaluation.\n",
    "\n",
    "The problem of understanding what type of vegetation is present in a given area of wilderness is surprisingly important.  In this example we are exploring the forests of Colorado, which are home to a diverse set of trees each with their own enviornmental benefits and vulnerabilities.  For example, many of the pine trees in Colorado are susceptible to the [mountain pine beetle](https://csfs.colostate.edu/forest-management/common-forest-insects-diseases/mountain-pine-beetle/), while Spruce and Fir trees are much less suceptible.  Without manually surveying thousands of miles of wilderness, it is very difficult to distinguish these types of trees from one another as they look very similar from the air.  However, it is relatively easy to get cartographic data for larger wilderness areas. Given that this is the challenge at hand, if it were possible to accurately predict the predominant forest cover type from cartographic data then all Colorado forests could be mapped using this method. That information would be invaluable to firefighters and forest service personnel to direct their resources to the areas of wilderness that may be more vulnerable to certain pests or environmental hazards.\n",
    "\n",
    "If you would like to learn more about the problem or try for yourself, all information and data can be found within the kaggle competition:<br>[Kaggle's Forest Cover Type Prediction](https://www.kaggle.com/c/forest-cover-type-prediction)."
   ]
  },
  {
   "cell_type": "markdown",
   "metadata": {},
   "source": [
    "<a id=\"housekeeping\"></a>\n",
    "## Housekeeping"
   ]
  },
  {
   "cell_type": "markdown",
   "metadata": {},
   "source": [
    "<a id=\"import\"></a>\n",
    "### Importing Libraries, Helper Functions, and Loading Data"
   ]
  },
  {
   "cell_type": "code",
   "execution_count": 1,
   "metadata": {
    "ExecuteTime": {
     "end_time": "2019-04-08T17:45:33.770078Z",
     "start_time": "2019-04-08T17:45:21.938324Z"
    },
    "scrolled": false
   },
   "outputs": [],
   "source": [
    "%%capture\n",
    "# %matplotlib inline\n",
    "# %matplotlib notebook\n",
    "%matplotlib qt\n",
    "\n",
    "# General libraries\n",
    "import pandas as pd\n",
    "import numpy as np\n",
    "import os\n",
    "import copy\n",
    "import warnings\n",
    "import statsmodels.api as sm\n",
    "from scipy import stats\n",
    "import math\n",
    "\n",
    "# Plotting and printing libraries\n",
    "import matplotlib.pyplot as plt\n",
    "import matplotlib.ticker as ticker\n",
    "import matplotlib.patches as mpatches\n",
    "from matplotlib.pyplot import figure, imshow, axis\n",
    "from matplotlib.image import imread\n",
    "import pprint\n",
    "\n",
    "# Model-building libraries\n",
    "from sklearn.model_selection import train_test_split, StratifiedKFold\n",
    "from sklearn.preprocessing import normalize, MinMaxScaler, StandardScaler, RobustScaler, Normalizer, scale\n",
    "\n",
    "# SK-learn libraries for learning\n",
    "from sklearn.pipeline import Pipeline\n",
    "from sklearn.neighbors import KNeighborsClassifier\n",
    "from sklearn.linear_model import LogisticRegression, LinearRegression\n",
    "from sklearn.naive_bayes import BernoulliNB, GaussianNB, MultinomialNB\n",
    "from sklearn.model_selection import GridSearchCV\n",
    "from sklearn.ensemble import GradientBoostingRegressor\n",
    "from sklearn.ensemble import RandomForestClassifier, ExtraTreesClassifier\n",
    "from sklearn.svm import SVC, LinearSVC\n",
    "from sklearn.decomposition import PCA\n",
    "from xgboost import XGBClassifier\n",
    "from sklearn.ensemble import VotingClassifier\n",
    "\n",
    "# SK-learn libraries for evaluation\n",
    "from sklearn.metrics import confusion_matrix, classification_report\n",
    "from sklearn import metrics\n",
    "from sklearn.model_selection import cross_val_score\n",
    "from sklearn.metrics import jaccard_similarity_score\n",
    "from sklearn.metrics import hamming_loss\n",
    "import itertools\n",
    "\n",
    "import warnings\n",
    "warnings.filterwarnings('ignore')\n",
    "\n",
    "# Run the helper functions notebook\n",
    "%run w207_final_helper_functions.ipynb"
   ]
  },
  {
   "cell_type": "markdown",
   "metadata": {},
   "source": [
    "<a id=\"splittingData\"></a>\n",
    "### Splitting Data into Train and Test Sets"
   ]
  },
  {
   "cell_type": "markdown",
   "metadata": {},
   "source": [
    "In our dataset, the forest cover types we aim to predict are included with the features we plan to use to predict them. Our first step is to separate our input variables from our output variable. We also want to split the dataset into _train_ and _test_ subsets; this will give us insight into how well our chosen models and parameters will perform against out-of-sample data.\n",
    "\n",
    "The original dataset contained 15,120 observations. We will train our models on 90% of the data and hold out 10% for testing. We thus expect to have approximately 13,608 observations in our training set."
   ]
  },
  {
   "cell_type": "code",
   "execution_count": 2,
   "metadata": {
    "ExecuteTime": {
     "end_time": "2019-04-08T17:45:57.918825Z",
     "start_time": "2019-04-08T17:45:57.471558Z"
    }
   },
   "outputs": [
    {
     "name": "stdout",
     "output_type": "stream",
     "text": [
      "\n",
      "                 | Observations |  Features  |\n",
      "----------------------------------------------\n",
      "Training dataset |    13608     |     54     |\n",
      "Training labels  |    13608     |     --     |\n",
      "  Test dataset   |     1512     |     54     |\n",
      "  Test labels    |     1512     |     --     |\n",
      "\n"
     ]
    }
   ],
   "source": [
    "%%capture --no-stdout --no-display\n",
    "full_data = pd.DataFrame.from_csv('./train.csv')\n",
    "full_data.shape\n",
    "\n",
    "# Separating out the labels\n",
    "full_labels = full_data['Cover_Type']\n",
    "full_features = full_data.drop('Cover_Type', axis=1)\n",
    "\n",
    "# Setting seed so we get consistent results from our splitting\n",
    "np.random.seed(0)\n",
    "X_train, X_test, y_train, y_test = train_test_split(full_features, full_labels, test_size=0.10)\n",
    "\n",
    "# Verifying our data shapes are as expected\n",
    "print(f'''\n",
    "{'':^16} | {'Observations':^12} | {'Features':^10} |\n",
    "{'-'*46}\n",
    "{'Training dataset':^16} | {X_train.shape[0]:^12} | {X_train.shape[1]:^10} |\n",
    "{'Training labels':^16} | {y_train.shape[0]:^12} | {'--':^10} |\n",
    "{'Test dataset':^16} | {X_test.shape[0]:^12} | {X_test.shape[1]:^10} |\n",
    "{'Test labels':^16} | {y_test.shape[0]:^12} | {'--':^10} |\n",
    "''')"
   ]
  },
  {
   "cell_type": "markdown",
   "metadata": {},
   "source": [
    "<a id=\"aboutTheData\"></a>"
   ]
  },
  {
   "cell_type": "markdown",
   "metadata": {},
   "source": [
    "<a id=\"aboutTheData\"></a>\n",
    "# About the Data"
   ]
  },
  {
   "cell_type": "markdown",
   "metadata": {},
   "source": [
    "The data comes from several wilderness areas in northern Colorado, specifically the Rawah Wilderness Area, Neota Wilderness Area, Comanche Peak Wilderness Area and the Cache la Poudre Wilderness Area.  These are all fairly remote areas of Colorado, which is likely why they were chosen; there is unlikely to be evidence of human influence in these regions, simplifying our prediction task.\n",
    "\n",
    "The features in the dataset are all cartographic measures of a 30x30m square plot of land.  We have 10 simple features. The 11th and 12th - `wilderness_area` and `soil_type` - are categorical variables comprised of 4 and 40 dummy variables respectively. We therefore have a total of 54 features to work with.\n",
    "The list below contains a short description of each feature, including its range, median, and mean when relevant. (See [Annex A](#annexA) for the associated code and further discussion of the exploratory data analysis).\n",
    "\n",
    "- `Elevation`: _Elevation in meters_\n",
    "  - **Range**: 1863 to 3849 | **Mean**: 2749.3 | **Median**: 2752\n",
    "\n",
    "\n",
    "- `Aspect`: _Aspect in degrees azimuth. i.e., degrees clockwise from a line pointed at true North. So North = 0$^\\circ$, East = 90$^\\circ$, South = 180$^\\circ$, and West = 270$^\\circ$_\n",
    "  - **Range**: 0 to 360 | **Mean**: 156.7 | **Median**: 126.0\n",
    "\n",
    "\n",
    "- `Slope`: _Slope in degrees. 0$^\\circ$ would indicate a flat plane; greater values represent steeper slopes._\n",
    "  - **Range**: 0 to 52 | **Mean**: 16.5 | **Median**: 15.0 \n",
    "\n",
    "\n",
    "- `Horizontal_Distance_To_Hydrology`: _Horizontal distance to nearest surface water features. Units unspecified._\n",
    "  - **Range**: 0 to 1343 | **Mean**: 227.2 | **Median**: 180 \n",
    "\n",
    "\n",
    "- `Vertical_Distance_To_Hydrology`: _Vertical distance to nearest surface water features. Units unspecified._\n",
    "  - **Range**: -146 to 554 | **Mean**: 51.1 | **Median**: 32.0\n",
    "\n",
    "\n",
    "- `Horizontal_Distance_To_Roadways`: _Horizontal distance to nearest roadway. Units unspecified._\n",
    "  - **Range**: 0 to 6890 | **Mean**: 1714.0 | **Median**: 1316\n",
    "\n",
    "\n",
    "- `Hillshade_9am`: _(0 to 255 index) - Hillshade index at 9am, summer solstice_\n",
    "  - **Range**: 0 to 254 | **Mean**: 212.7 | **Median**: 220\n",
    "\n",
    "\n",
    "- `Hillshade_Noon`: _(0 to 255 index) - Hillshade index at noon, summer solstice_\n",
    "  - **Range**: 99 to 254 | **Mean**: 219.0 | **Median**: 223\n",
    "\n",
    "\n",
    "- `Hillshade_3pm`: _(0 to 255 index) - Hillshade index at 3pm, summer solstice_\n",
    "  - **Range**: 0 to 248 | **Mean**: 135.1 | **Median**: 138.0\n",
    "\n",
    "\n",
    "- `Horizontal_Distance_To_Fire_Points`: _Horizontal distance to nearest wildfire ignition points. Units unspecified._\n",
    "  - **Range**: 0 to 6993 | **Mean**: 1511.2 | **Median**: 1256 \n",
    "\n",
    "\n",
    "- `Wilderness_Area`: _(4 binary columns, 0 = absence or 1 = presence) - Wilderness area designation_\n",
    "  - % of cases - **Area 1**: 24% || **Area 2**: 3% || **Area 3**: 42% || **Area 4**: 31% \n",
    "\n",
    "\n",
    "- `Soil_Type`: _(40 binary columns, 0 = absence or 1 = presence) - Soil type designation_\n",
    "  - The soil types descriptions can be found at the [Kaggle Competition Data Page](https://www.kaggle.com/c/forest-cover-type-prediction/data)"
   ]
  },
  {
   "cell_type": "markdown",
   "metadata": {},
   "source": [
    "<a id=\"summary\" > </a>\n",
    "### Initial Exploration of the Challenge\n",
    "The categorical label we are trying to predict is contained in the `Cover_Type` variable, and is split up into 7  designations. While the tree species discussed in the Colorado State Forest Service's [_Colorado's Major Tree Species_](https://csfs.colostate.edu/colorado-trees/colorados-major-tree-species/) article do not map perfectly to these categories, the article provides some context that may prove useful.\n",
    "\n",
    "#### <span style='color:blue'>Category 1</span>: 'Spruce/Fir'\n",
    "- Species that might fit into this category include the **Blue Spruce** (which thrives at an altitude of 6700-11500 ft in sandy soils near moisture), the **Engelmann Spruce** (8000-11000 ft, moist north-facing slopes), the **Subalpine Fir** (8000-12000 ft, cold high-elevation forests), and the **White Fir** (7900-10200 ft, moist soils in valleys).\n",
    "\n",
    "<center>Blue Spruce</center> | <center>Engelmann Spruce</center> | <center>Subalpine Fir</center> | <center>White Fir</center>\n",
    "- | - | - | -\n",
    "<img src=\"imgs/1_blue-spruce-tree.jpg\" alt=\"BlueSpruce\" style=\"width: 250px;\"/>  | <img src=\"imgs/1_engelmann-spruce.jpg\" alt=\"EngelmannSpruce\" style=\"width: 250px;\"/> | <img src=\"imgs/1_subalpine-fir.jpg\" alt=\"SubalpineFir\" style=\"width: 250px;\"/> | <img src=\"imgs/1_white-fir-tree.jpg\" alt=\"WhiteFir\" style=\"width: 250px;\"/>"
   ]
  },
  {
   "cell_type": "markdown",
   "metadata": {},
   "source": [
    "#### <span style='color:blue'>Category 2</span>: 'Lodgepole Pine' and <span style='color:blue'>Category 3</span>: 'Ponderosa Pine'\n",
    "- The **Lodgepole Pine** thrives in well-drained soils at high elevations (6000-11000 ft).\n",
    "- The **Ponderosa Pine** thrives in dry, nutrient-poor soils at elevations of 6300-9500 ft. It is often found with Douglas Firs.\n",
    "\n",
    "<center>Lodgepole Pine</center> | <center>Ponderosa Pine</center> |\n",
    "- |-|\n",
    "<img src=\"imgs/2_lodgepole-pine.jpg\" alt=\"LodgepolePine\" style=\"width: 250px;\"/> | <img src=\"imgs/3_ponderosa-pine.jpg\" alt=\"PonderosaPine\" style=\"width: 250px;\"/> |"
   ]
  },
  {
   "cell_type": "markdown",
   "metadata": {},
   "source": [
    "#### <span style='color:blue'>Category 4</span>: 'Cottonwood/Willow'\n",
    "- This category includes the **Plains Cottonwood** (which thrives at altitudes of 3500-6500 ft near sources of water), the **Narrowleaf Cottonwood** (5000-8000 ft, moist soils along streams), and the **Peachleaf Willow** (3500-7500 ft, near water sources).\n",
    "\n",
    "<center>Plains Cottonwood</center> | <center>Narrowleaf Cottonwood</center> | <center>Peachleaf Willow</center> |\n",
    "- |- |- |\n",
    "<img src=\"imgs/4_plains-cottonwood.jpg\" alt=\"PlainsCottonwood\" style=\"width: 250px;\"/> |<img src=\"imgs/4_narrowleaf-cottonwood.jpg\" alt=\"NarrowleafCottonwood\" style=\"width: 250px;\"/> |<img src=\"imgs/4_peachleaf-willow.jpg\" alt=\"PeachleafWillow\" style=\"width: 250px;\"/> |"
   ]
  },
  {
   "cell_type": "markdown",
   "metadata": {},
   "source": [
    "#### <span style='color:blue'>Category 5</span>: 'Aspen' and <span style='color:blue'>Category 6</span>: 'Douglas Fir'\n",
    "- The **Quaking Aspen** thrives at altitudes of 6500-11500 ft. While it can be in many soil types, it is most often found on sandy and gravelly slopes.\n",
    "- The **Douglas Fir** thrives at altitudes of 6000-9500 ft and thrives in rocky soils and moist northern facing slopes.\n",
    "\n",
    "<center>Quaking Aspen</center> | <center>Douglas Fir</center> |\n",
    "- | - |\n",
    "<img src=\"imgs/5_aspen.jpg\" alt=\"QuakingAspen\" style=\"width: 250px;\"/> | <img src=\"imgs/6_douglas-fir.jpg\" alt=\"DouglasFir\" style=\"width: 250px;\"/>|"
   ]
  },
  {
   "cell_type": "markdown",
   "metadata": {},
   "source": [
    "#### <span style='color:blue'>Category 7</span>: 'Krummholz'\n",
    "- Interestingly, _krummholz_ is not a species of tree; it is a type of tree formation (which can emerge across various tree species) that results from long-term wind exposure, often strong and cold winds. Per [Wikipedia](https://en.wikipedia.org/wiki/Krummholz), Subalpine Fir and Engelmann Spruce are often associated with Krummholz conditions (as is Lodgepole Pine, although that is more common in British Columbia). This category, while not specific to a species may be a better indication of a certain subset of environmental vulnerabilies than species alone.\n",
    "\n",
    "<center>Krummholz Banner Tree</center> | <center>Krummholz White Pine</center> | <center>Krummholz Bristlecone</center> \n",
    "- |- |- |\n",
    "<img src=\"imgs/7_krummholz-banner-tree.jpg\" alt=\"KrummholzBannerTree (Photo credit to John Spooner - flickr.com, CC BY 2.0, https://commons.wikimedia.org/w/index.php?curid=5007578)\" style=\"width: 250px;\"/> | <img src=\"imgs/7_krummholz-white-pine.jpg\" alt=\"KrummholzWhitePine (Photo credit to Walter Siegmund [CC BY-SA 3.0 (https://creativecommons.org/licenses/by-sa/3.0)] https://commons.wikimedia.org/wiki/File:Pinus_albicaulis_7872.JPG\" style=\"width: 350px;\"/> |  <img src=\"imgs/7_krummholz-windswept-bristlecone.jpg\" alt=\"KrummholzBristlecone\" style=\"width: 400px;\"/> | \n"
   ]
  },
  {
   "cell_type": "markdown",
   "metadata": {},
   "source": [
    "<a id=\"exploratoryDataAnlysis\"> </a>\n",
    "### Where do we start?\n",
    "\n",
    "The brief descriptions we've seen already suggest some avenues of exploration: elevation and hydrology seem to be of primary importance.\n",
    "\n",
    "#### What can we learn from elevation alone?\n",
    "\n",
    "We will start by visualizing the elevation ranges across the various tree species mentioned above. We expect elevation to be important as it is the primary indicator of environmental conditions in mountainous regions. The graph below illustrates the ranges in which the species of trees discussed the Colorado State Forest Service's [_Colorado's Major Tree Species_](https://csfs.colostate.edu/colorado-trees/colorados-major-tree-species/) are most commonly found."
   ]
  },
  {
   "cell_type": "markdown",
   "metadata": {
    "ExecuteTime": {
     "end_time": "2019-04-06T16:28:41.024009Z",
     "start_time": "2019-04-06T16:28:40.675304Z"
    }
   },
   "source": [
    "<img src=\"imgs/altitudeRanges4.png\" alt=\"ElevationRangesIdealized\" style=\"width: 800px;\"/>"
   ]
  },
  {
   "cell_type": "markdown",
   "metadata": {},
   "source": [
    "It appears that lower elevations would be strongly suggestive of `Cottonwood/Willow`, while higher elevations might be more suggestive of the `Spruce/Fir`, `Lodgepole Pine`, `Aspen`, and `Krummholz`. The graph above is based upon data aggregated from outside sources. It's important that we verify this against our actual dataset, as it may indicate otherwise. The graphs below present the observed _elevation_ ranges and quartiles by `Cover_Type` in our data.\n",
    "\n",
    "| <center>Elevation Ranges</center> | <center>Elevation Quartiles</center>\n",
    "|-|-\n",
    "|<img src=\"imgs/elevationRanges.png\" alt=\"ElevationRanges\" style=\"width: 600px;\"/> |<img src=\"imgs/elevationQuartiles.png\" alt=\"ElevationQuartiles\" style=\"width: 600px;\"/> |"
   ]
  },
  {
   "cell_type": "markdown",
   "metadata": {},
   "source": [
    "When looking at the ranges, our dataset appears to differ from our initial visualization in that the `Cottonwood/Willow` `Cover_Type` does not seem to occur at markedly lower elevations. However, when looking at the quartiles, patterns emerge that appear similar to what we would expect from our initial visualization: `Cottonwood/Willow` tends to cluster at lower elevations, with the higher elevations dominated by `Spruce/Fir` and `Krummholz` cover types.\n",
    "\n",
    "The separations are surprisingly clean, suggesting that `Elevation` will be a powerful feature in our models. It might be especially powerful if we could develop a method to cluster the altitudes based on interquartile ranges presented above."
   ]
  },
  {
   "cell_type": "markdown",
   "metadata": {},
   "source": [
    "<a id=\"ref1\"> </a>\n",
    "#### What if we bring water into the picture?\n",
    "The other feature that the article suggests might be highly salient is moisture. How does the picture evolve if we add a measure of distance to water?\n",
    "\n",
    "The graph below is a scatterplot of the Euclidean distance (derived from the `Horizontal_Distance_To_Hydrology` and `Vertical_Distance_To_Hydrology` features) and the `Elevation`, with data points colored by the `Cover_Type`."
   ]
  },
  {
   "cell_type": "markdown",
   "metadata": {
    "ExecuteTime": {
     "end_time": "2019-04-07T17:10:56.612522Z",
     "start_time": "2019-04-07T17:10:56.592521Z"
    }
   },
   "source": [
    "<img src=\"imgs/hydrologyAndElevationScatter.png\" alt=\"HydrologyAndElevationScatter\" style=\"width: 600px;\"/>"
   ]
  },
  {
   "cell_type": "markdown",
   "metadata": {},
   "source": [
    "The distance to hydrology appears to be informative: `Cover_Type`s 3, 4, and 6 are essentially not found when the distance to water exceeds 750. That said, distance to hydrology is likely correlated with our primary distinguishing feature, `Elevation`.\n",
    "\n",
    "#### What if we consider exposure to sunlight and wind?\n",
    "Intuitively, the amount of sunlight to which a given plot of land is exposed would likely influence the predominant forest cover type. In our dataset, the `Hillshade` variables is likely to contain this information.\n",
    "\n",
    "The plot below compares the 1st quartile, median, and 3rd quartiles for each measure of `Hillshade` and each category of `Cover_Type`.\n",
    "\n",
    "<img src=\"imgs/hillshadeQuartiles.png\" alt=\"HillshadeQuartiles\" style=\"width: 600px;\"/>\n",
    "\n",
    "While the median `Hillshade` values appear to vary slightly across categories in the morning and afternoon, the interquartile range is overlapping across categories. The main takeaway from this is that `Hillshade` is unlikely to be a strong indicator of `Cover_Type` on its own.\n",
    "\n",
    "Exposure to sunlight and wind would also be affected by the `Aspect` variable, which can most easily be understood as the cardinal direction a given slope of land is facing (0$^\\circ$ is true North, 90$^\\circ$ is due East, 180$^\\circ$ is South, 270$^\\circ$ is due West). While the exact nature of the interaction between these features may not be clear *a priori*, we can attempt to collapse the effect into a single feature by taking the first principal component of the `Hillshade_9am` and `Hillshade_3pm` features with the `Aspect` feature.\n",
    "\n",
    "The graph below plots this first principal component against `Elevation`, since we already know `Elevation` is likely our most informative input variable.\n",
    "\n",
    "<img src=\"imgs/hillshadeAspectPcaScatter.png\" alt=\"hillshadeAspectPcaScatter\" style=\"width: 600px;\"/>"
   ]
  },
  {
   "cell_type": "markdown",
   "metadata": {},
   "source": [
    "What patterns we see are weak at best. While the `Douglas Fir` category appears to be more prevalent for greater and lesser values of this first principal component, and the `Ponderosa Pine` appears to be slightly more prevalent nearer to zero, it is clear that the `Elevation` remains the dominant feature."
   ]
  },
  {
   "cell_type": "markdown",
   "metadata": {},
   "source": [
    "#### What about the 'Kitchen Sink' approach?\n",
    "\n",
    "So far we've examined `Elevation`, `Hydrology`, `Aspect`, and `Hillshade` features on the basis of the Colorado State Forestry write-up, but we should also take a more comprehensive look at all of our input variables and how they might be interacting with one another in ways not captured in our initial research.\n",
    "\n",
    "The graph below is a scatterplot matrix incorporating all of the raw simple features in our dataset, as well as the `Euclidean_Distance_To_Hydrology` feature we composed from the horizontal and vertical distances to hydrology.\n",
    "\n",
    "<img src=\"imgs/scatterplotMatrixElevationAspectWaterHillshade.png\" alt=\"scatterplotMatrixElevationAspectWaterHillshade\" style=\"width: 800px;\"/>"
   ]
  },
  {
   "cell_type": "markdown",
   "metadata": {},
   "source": [
    "While `Elevation` remains the feature that provides the cleanest separation between `Cover_Type`s, two additional features (`Horizontal_Distance_To_Roadways` and `Horizontal_Distance_To_Fire_Points`) perform notably well when identifying the `Lodgepole Pine` specifically."
   ]
  },
  {
   "cell_type": "markdown",
   "metadata": {},
   "source": [
    "<a id=\"dataCleaning\"> </a>\n",
    "### Cleaning the Data\n",
    "While exploring the data (see [Annex A](#annexA)), we noticed that `Soil_Type7` and `Soil_Type15` variables are always false. Because there is no information gained from these features, it contributes nothing to our dataset and will not have any impact on our models.\n",
    "\n",
    "Additionally, we noticed the `Hillshade_9am` and `Hillshade_3pm` features are missing several values.  We choose to replace these values with the median value for those features.  This will allow the areas with missing values to be more accurately classified as they no longer have un-usable data."
   ]
  },
  {
   "cell_type": "code",
   "execution_count": 3,
   "metadata": {
    "ExecuteTime": {
     "end_time": "2019-04-08T17:48:50.110694Z",
     "start_time": "2019-04-08T17:48:50.097737Z"
    }
   },
   "outputs": [],
   "source": [
    "engineered_features = pd.DataFrame.copy(full_features)\n",
    "\n",
    "# Removing uninformative features\n",
    "engineered_features = engineered_features.drop(['Soil_Type7', 'Soil_Type15'], axis=1)\n",
    "\n",
    "# Replacing Hillshade_9am and Hillshade_3pm 0 values with median\n",
    "median_hillshade_9am = np.median(engineered_features['Hillshade_9am'])\n",
    "engineered_features['Hillshade_9am'] = engineered_features.apply(lambda row: median_hillshade_9am if row.Hillshade_9am == 0 else row.Hillshade_9am, axis=1)\n",
    "median_hillshade_3pm = np.median(engineered_features['Hillshade_3pm'])\n",
    "engineered_features['Hillshade_3pm'] = engineered_features.apply(lambda row: median_hillshade_3pm if row.Hillshade_3pm == 0 else row.Hillshade_3pm, axis=1)\n"
   ]
  },
  {
   "cell_type": "markdown",
   "metadata": {},
   "source": [
    "<a id=\"featureEngineering\"></a>\n",
    "# Feature Engineering"
   ]
  },
  {
   "cell_type": "markdown",
   "metadata": {},
   "source": [
    "Successful machine learning projects often depend heavily on feature engineering. The most important feature in a dataset may be a latent one - that is, 'hidden' behind other features which serves as proxies for it. In such a case, the latent feature needs to be explicitly extracted. While we are exploring the potential of various synthetic/constructed features, we will also try to remove original features which prove to be uninformative. Doing so will reduce the noise passed into our models and help to isolate only the most important features. We will keep our engineered and source datasets separate by creating a deep copy of the data."
   ]
  },
  {
   "cell_type": "markdown",
   "metadata": {},
   "source": [
    "### Euclidean Distance to Hydrology"
   ]
  },
  {
   "cell_type": "markdown",
   "metadata": {},
   "source": [
    "As we saw in our [Exploratory Data Analysis](#ref1), the `Cover_Type` can be visually broken up based on their distance to hydrology, both horizontally and vertically.  By combining these features into a single feature, we can reduce the overall number of features without much loss of information."
   ]
  },
  {
   "cell_type": "markdown",
   "metadata": {},
   "source": [
    "### Elevation of Hydrology"
   ]
  },
  {
   "cell_type": "markdown",
   "metadata": {},
   "source": [
    "Elevation and Hydrology are very important features when it comes to predicting the `Cover_Type` of an area.  By subtracting the vertical distance to hydrology from the elevation, we can identify the elevation of the hydrology itself.  This may prove useful by providing a feature that would be able to distinguish between an alpine lake and a valley stream."
   ]
  },
  {
   "cell_type": "markdown",
   "metadata": {},
   "source": [
    "### Mean Distance to Feature"
   ]
  },
  {
   "cell_type": "markdown",
   "metadata": {},
   "source": [
    "As we saw in our [Exploratory Data Analysis](#aboutTheData), distance metrics group the data pretty well for classification.  With this we can engineer a new feature that incorporates the mean distance to hydrology, fire points, and roadways. While distance to hydrology was a strong indicator, the latter two features provide a fair approximation of the remoteness of the area."
   ]
  },
  {
   "cell_type": "markdown",
   "metadata": {},
   "source": [
    "### Stony"
   ]
  },
  {
   "cell_type": "markdown",
   "metadata": {},
   "source": [
    "This data set features 40 different types of soils.  When compared to the 7 possible labels, this number of soil types seems a bit extreme.  Different types of trees favor more rocky soils, and so combining all of the stony soil types into a single feature will allow a model to more easily pick up on that."
   ]
  },
  {
   "cell_type": "markdown",
   "metadata": {},
   "source": [
    "### Hillshade"
   ]
  },
  {
   "cell_type": "code",
   "execution_count": 4,
   "metadata": {
    "ExecuteTime": {
     "end_time": "2019-04-08T18:01:20.170251Z",
     "start_time": "2019-04-08T18:01:20.136734Z"
    }
   },
   "outputs": [
    {
     "data": {
      "text/html": [
       "<div>\n",
       "<style scoped>\n",
       "    .dataframe tbody tr th:only-of-type {\n",
       "        vertical-align: middle;\n",
       "    }\n",
       "\n",
       "    .dataframe tbody tr th {\n",
       "        vertical-align: top;\n",
       "    }\n",
       "\n",
       "    .dataframe thead th {\n",
       "        text-align: right;\n",
       "    }\n",
       "</style>\n",
       "<table border=\"1\" class=\"dataframe\">\n",
       "  <thead>\n",
       "    <tr style=\"text-align: right;\">\n",
       "      <th></th>\n",
       "      <th>Hillshade_9am</th>\n",
       "      <th>Hillshade_3pm</th>\n",
       "    </tr>\n",
       "  </thead>\n",
       "  <tbody>\n",
       "    <tr>\n",
       "      <th>count</th>\n",
       "      <td>15120.000000</td>\n",
       "      <td>15120.000000</td>\n",
       "    </tr>\n",
       "    <tr>\n",
       "      <th>mean</th>\n",
       "      <td>212.704299</td>\n",
       "      <td>135.091997</td>\n",
       "    </tr>\n",
       "    <tr>\n",
       "      <th>std</th>\n",
       "      <td>30.561287</td>\n",
       "      <td>45.895189</td>\n",
       "    </tr>\n",
       "    <tr>\n",
       "      <th>min</th>\n",
       "      <td>0.000000</td>\n",
       "      <td>0.000000</td>\n",
       "    </tr>\n",
       "    <tr>\n",
       "      <th>25%</th>\n",
       "      <td>196.000000</td>\n",
       "      <td>106.000000</td>\n",
       "    </tr>\n",
       "    <tr>\n",
       "      <th>50%</th>\n",
       "      <td>220.000000</td>\n",
       "      <td>138.000000</td>\n",
       "    </tr>\n",
       "    <tr>\n",
       "      <th>75%</th>\n",
       "      <td>235.000000</td>\n",
       "      <td>167.000000</td>\n",
       "    </tr>\n",
       "    <tr>\n",
       "      <th>max</th>\n",
       "      <td>254.000000</td>\n",
       "      <td>248.000000</td>\n",
       "    </tr>\n",
       "  </tbody>\n",
       "</table>\n",
       "</div>"
      ],
      "text/plain": [
       "       Hillshade_9am  Hillshade_3pm\n",
       "count   15120.000000   15120.000000\n",
       "mean      212.704299     135.091997\n",
       "std        30.561287      45.895189\n",
       "min         0.000000       0.000000\n",
       "25%       196.000000     106.000000\n",
       "50%       220.000000     138.000000\n",
       "75%       235.000000     167.000000\n",
       "max       254.000000     248.000000"
      ]
     },
     "execution_count": 4,
     "metadata": {},
     "output_type": "execute_result"
    }
   ],
   "source": [
    "full_features[['Hillshade_9am', 'Hillshade_3pm']].describe()"
   ]
  },
  {
   "cell_type": "code",
   "execution_count": 5,
   "metadata": {
    "ExecuteTime": {
     "end_time": "2019-04-08T18:03:31.853815Z",
     "start_time": "2019-04-08T18:03:29.248556Z"
    },
    "scrolled": false
   },
   "outputs": [],
   "source": [
    "engineered_features['Euclidean_Distance_To_Hydrology'] = engineered_features.apply(lambda row: math.sqrt(row.Horizontal_Distance_To_Hydrology**2 + row.Vertical_Distance_To_Hydrology**2), axis=1)\n",
    "engineered_features['Elevation_Of_Hydrology'] = engineered_features['Elevation']-engineered_features['Vertical_Distance_To_Hydrology']\n",
    "engineered_features['Mean_Distance_To_Feature'] = (engineered_features['Horizontal_Distance_To_Hydrology']+engineered_features['Horizontal_Distance_To_Roadways']+engineered_features['Horizontal_Distance_To_Fire_Points'])/3\n",
    "engineered_features['Stony'] = engineered_features[['Soil_Type1', 'Soil_Type2', 'Soil_Type6', 'Soil_Type9', 'Soil_Type12', 'Soil_Type18', 'Soil_Type24', 'Soil_Type25', 'Soil_Type26', 'Soil_Type27', 'Soil_Type28', 'Soil_Type29', 'Soil_Type30', 'Soil_Type31', 'Soil_Type32', 'Soil_Type33', 'Soil_Type34', 'Soil_Type35', 'Soil_Type36', 'Soil_Type37', 'Soil_Type38', 'Soil_Type39', 'Soil_Type40', ]].any(axis=1)\n",
    "\n",
    "np.random.seed(0)\n",
    "e_X_train, e_X_test, e_y_train, e_y_test = train_test_split(engineered_features, full_labels, test_size=0.10)"
   ]
  },
  {
   "cell_type": "markdown",
   "metadata": {},
   "source": [
    "### How to Test Feature Changes"
   ]
  },
  {
   "cell_type": "markdown",
   "metadata": {},
   "source": [
    "Without _a priori_ knowledge of how the interplay between soil types, topography, hydrology, etc. affects forest cover, we need a way to view the performance of new features.  As such we will use a simple Gaussian Naive Bayes model to do predictions, and quanitify the results using cross-validation.  We will be tracking performance across precision, recall, and f1-score."
   ]
  },
  {
   "cell_type": "markdown",
   "metadata": {},
   "source": [
    "#### Naïve Bayes\n",
    "\n",
    "One reasonable place to begin might be a Naïve Bayes classifier. While it is unlikely that all of the features at our disposal are _strictly_ independent, we may be able to relax the assumption of independence enough to explore how a NB model performs.\n",
    "\n",
    "We don't want a Bernoulli NB model as our features do not take on binary values exclusively. We also don't want a Multinomial NB model as it assumes integer feature counts. A Gaussian NB, on the other hand, might work well. While it assumes that the likelihoods of the features are Gaussian - and this is not necessarily strictly the case - it may be worth trying."
   ]
  },
  {
   "cell_type": "code",
   "execution_count": 6,
   "metadata": {
    "ExecuteTime": {
     "end_time": "2019-04-08T18:03:24.390692Z",
     "start_time": "2019-04-08T18:03:24.367690Z"
    }
   },
   "outputs": [
    {
     "name": "stdout",
     "output_type": "stream",
     "text": [
      "Model: Base Data GaussianNB, with 5 folds\n",
      "\t\t\tSpruce/Fir           | precision:  0.72 | recall:  0.50 | f1-score:  0.59 | \n",
      "\t\t\tLodgepole Pine       | precision:  0.13 | recall:  0.73 | f1-score:  0.22 | \n",
      "\t\t\tPonderosa Pine       | precision:  0.73 | recall:  0.43 | f1-score:  0.54 | \n",
      "\t\t\tCottonwood/Willow    | precision:  0.92 | recall:  0.68 | f1-score:  0.78 | \n",
      "\t\t\tAspen                | precision:  0.73 | recall:  0.59 | f1-score:  0.65 | \n",
      "\t\t\tDouglas Fir          | precision:  0.07 | recall:  0.77 | f1-score:  0.12 | \n",
      "\t\t\tKrummholz            | precision:  0.82 | recall:  0.86 | f1-score:  0.84 | \n",
      "\t\t\tmacro avg            | precision:  0.59 | recall:  0.65 | f1-score:  0.54 | \n",
      "\t\t\tmicro avg            | precision:  0.59 | recall:  0.59 | f1-score:  0.59 | \n",
      "\t\t\tweighted avg         | precision:  0.76 | recall:  0.59 | f1-score:  0.65 | \n",
      "\n",
      "Model: Base Data GaussianNB, with 5 folds\n",
      "\t\t\tSpruce/Fir           | precision:  0.73 | recall:  0.53 | f1-score:  0.61 | \n",
      "\t\t\tLodgepole Pine       | precision:  0.16 | recall:  0.73 | f1-score:  0.26 | \n",
      "\t\t\tPonderosa Pine       | precision:  0.73 | recall:  0.44 | f1-score:  0.55 | \n",
      "\t\t\tCottonwood/Willow    | precision:  0.93 | recall:  0.69 | f1-score:  0.79 | \n",
      "\t\t\tAspen                | precision:  0.79 | recall:  0.62 | f1-score:  0.69 | \n",
      "\t\t\tDouglas Fir          | precision:  0.08 | recall:  0.80 | f1-score:  0.14 | \n",
      "\t\t\tKrummholz            | precision:  0.86 | recall:  0.85 | f1-score:  0.85 | \n",
      "\t\t\tmacro avg            | precision:  0.61 | recall:  0.66 | f1-score:  0.56 | \n",
      "\t\t\tmicro avg            | precision:  0.61 | recall:  0.61 | f1-score:  0.61 | \n",
      "\t\t\tweighted avg         | precision:  0.77 | recall:  0.61 | f1-score:  0.66 | \n",
      "\n"
     ]
    },
    {
     "data": {
      "text/plain": [
       "{'micro avg': {'precision': [0.6097650513950074,\n",
       "   0.6043350477590007,\n",
       "   0.6119073869900772,\n",
       "   0.6181550900404263,\n",
       "   0.6077205882352941],\n",
       "  'recall': [0.6097650513950074,\n",
       "   0.6043350477590007,\n",
       "   0.6119073869900772,\n",
       "   0.6181550900404263,\n",
       "   0.6077205882352941],\n",
       "  'f1-score': [0.6097650513950074,\n",
       "   0.6043350477590007,\n",
       "   0.6119073869900772,\n",
       "   0.6181550900404263,\n",
       "   0.6077205882352941]},\n",
       " 'macro avg': {'precision': [0.6090577885167442,\n",
       "   0.6038886965428497,\n",
       "   0.6110345186273084,\n",
       "   0.6173383533745467,\n",
       "   0.6067011645656413],\n",
       "  'recall': [0.6685745052872445,\n",
       "   0.6642749912992298,\n",
       "   0.6573826095460766,\n",
       "   0.6844580165295616,\n",
       "   0.6444386585639031],\n",
       "  'f1-score': [0.5524266759576272,\n",
       "   0.5567692471370849,\n",
       "   0.5541457197707321,\n",
       "   0.5657936734483023,\n",
       "   0.5537158291731167]},\n",
       " 'weighted avg': {'precision': [0.7780552955877454,\n",
       "   0.7551670888931815,\n",
       "   0.7763081799756854,\n",
       "   0.7778886789950984,\n",
       "   0.7670171204434715],\n",
       "  'recall': [0.6097650513950074,\n",
       "   0.6043350477590007,\n",
       "   0.6119073869900772,\n",
       "   0.6181550900404263,\n",
       "   0.6077205882352941],\n",
       "  'f1-score': [0.6664234304357246,\n",
       "   0.6513627601604798,\n",
       "   0.6688906162962189,\n",
       "   0.669767554113058,\n",
       "   0.6608242354456834]},\n",
       " '1': {'precision': [0.7357512953367875,\n",
       "   0.7688311688311689,\n",
       "   0.7142857142857143,\n",
       "   0.7298701298701299,\n",
       "   0.7012987012987013],\n",
       "  'recall': [0.5211009174311927,\n",
       "   0.5238938053097345,\n",
       "   0.5424063116370809,\n",
       "   0.5445736434108527,\n",
       "   0.5094339622641509],\n",
       "  'f1-score': [0.6100966702470462,\n",
       "   0.6231578947368421,\n",
       "   0.6165919282511211,\n",
       "   0.6237513873473918,\n",
       "   0.5901639344262295]},\n",
       " '2': {'precision': [0.12853470437017994,\n",
       "   0.18251928020565553,\n",
       "   0.15424164524421594,\n",
       "   0.17480719794344474,\n",
       "   0.15206185567010308],\n",
       "  'recall': [0.7692307692307693,\n",
       "   0.6826923076923077,\n",
       "   0.6818181818181818,\n",
       "   0.85,\n",
       "   0.6413043478260869],\n",
       "  'f1-score': [0.22026431718061673,\n",
       "   0.28803245436105473,\n",
       "   0.25157232704402516,\n",
       "   0.2899786780383795,\n",
       "   0.24583333333333332]},\n",
       " '3': {'precision': [0.7128205128205128,\n",
       "   0.7076923076923077,\n",
       "   0.7230769230769231,\n",
       "   0.7384615384615385,\n",
       "   0.7743589743589744],\n",
       "  'recall': [0.4433811802232855,\n",
       "   0.423963133640553,\n",
       "   0.44339622641509435,\n",
       "   0.43636363636363634,\n",
       "   0.4467455621301775],\n",
       "  'f1-score': [0.5467059980334316,\n",
       "   0.5302593659942363,\n",
       "   0.5497076023391814,\n",
       "   0.5485714285714286,\n",
       "   0.5666041275797373]},\n",
       " '4': {'precision': [0.9357326478149101,\n",
       "   0.9305912596401028,\n",
       "   0.9151670951156813,\n",
       "   0.9383033419023136,\n",
       "   0.9177377892030848],\n",
       "  'recall': [0.6618181818181819,\n",
       "   0.6766355140186916,\n",
       "   0.6953125,\n",
       "   0.6952380952380952,\n",
       "   0.7055335968379447],\n",
       "  'f1-score': [0.7752928647497337,\n",
       "   0.7835497835497836,\n",
       "   0.7902330743618201,\n",
       "   0.798687089715536,\n",
       "   0.7977653631284917]},\n",
       " '5': {'precision': [0.8081841432225064,\n",
       "   0.7538461538461538,\n",
       "   0.8256410256410256,\n",
       "   0.7846153846153846,\n",
       "   0.7589743589743589],\n",
       "  'recall': [0.626984126984127,\n",
       "   0.6295503211991434,\n",
       "   0.602996254681648,\n",
       "   0.6083499005964215,\n",
       "   0.6311300639658849],\n",
       "  'f1-score': [0.706145251396648,\n",
       "   0.6861143523920654,\n",
       "   0.6969696969696969,\n",
       "   0.685330347144457,\n",
       "   0.6891734575087312]},\n",
       " '6': {'precision': [0.082687338501292,\n",
       "   0.08527131782945736,\n",
       "   0.06217616580310881,\n",
       "   0.08031088082901554,\n",
       "   0.07512953367875648],\n",
       "  'recall': [0.8,\n",
       "   0.8461538461538461,\n",
       "   0.8,\n",
       "   0.7948717948717948,\n",
       "   0.7435897435897436],\n",
       "  'f1-score': [0.14988290398126466,\n",
       "   0.15492957746478872,\n",
       "   0.11538461538461539,\n",
       "   0.14588235294117646,\n",
       "   0.13647058823529412]},\n",
       " '7': {'precision': [0.8596938775510204,\n",
       "   0.798469387755102,\n",
       "   0.8826530612244898,\n",
       "   0.875,\n",
       "   0.8673469387755102],\n",
       "  'recall': [0.8575063613231552,\n",
       "   0.8670360110803325,\n",
       "   0.8357487922705314,\n",
       "   0.8618090452261307,\n",
       "   0.8333333333333334],\n",
       "  'f1-score': [0.8585987261146496,\n",
       "   0.8313413014608234,\n",
       "   0.8585607940446649,\n",
       "   0.8683544303797469,\n",
       "   0.8499999999999999]}}"
      ]
     },
     "execution_count": 6,
     "metadata": {},
     "output_type": "execute_result"
    }
   ],
   "source": [
    "# Testing on the base data\n",
    "cross_validate_model(GaussianNB(), X_train, y_train, name='Base Data GaussianNB', verbose=True)\n",
    "\n",
    "# Testing on the engineered data\n",
    "cross_validate_model(GaussianNB(), e_X_train, e_y_train, name='Base Data GaussianNB', verbose=True)"
   ]
  },
  {
   "cell_type": "markdown",
   "metadata": {},
   "source": [
    "In this report we will use two metrics to determine how well a particular model performs, precision and recall.  All in all, just throwing a Gaussian Naive Bayes classifier at the data performed better than expected.  It achieved a 76% weighted precision across 5 fold cross validation.  \n",
    "\n",
    "The engineered features do not provide as much improvement as we had initially hoped.  They resulted in 1-2% improvement across all of the feature engineering mentioned above.  It may be worth noting that the engineered features improved classification of categories that had worse performance more than those that were already well classified."
   ]
  },
  {
   "cell_type": "markdown",
   "metadata": {},
   "source": [
    "### Failed Engineered Features"
   ]
  },
  {
   "cell_type": "markdown",
   "metadata": {},
   "source": [
    "Not every feature that is engineered is a useful addition to the data set.  Randomly adding new features can add unnecessary noise to the dataset without add any new information.  We have listed the failed features below.  Some highlights include mountain width and prominence (from the `Elevation` and `Slope` features), and a few different ways to view the elevation of an area."
   ]
  },
  {
   "cell_type": "code",
   "execution_count": 7,
   "metadata": {},
   "outputs": [],
   "source": [
    "# engineered_features['Elevation_Away_From_Hydrology'] = engineered_features['Elevation']-engineered_features['Horizontal_Distance_To_Hydrology']\n",
    "# engineered_features['Mountain_Width'] = engineered_features.apply(lambda row: row.Elevation/math.tan(math.radians(row.Slope+.1)), axis=1)\n",
    "# engineered_features['Mountain_Prominence'] = engineered_features.apply(lambda row: row.Elevation/math.sin(math.radians(row.Slope+.1)), axis=1)\n",
    "# engineered_features['Mean_Hillshade'] = engineered_features.apply(lambda row: (row.Hillshade_9am + row.Hillshade_Noon + row.Hillshade_3pm)/3, axis=1)\n",
    "# engineered_features['Morning_Hillshade'] = engineered_features.apply(lambda row: (row.Hillshade_9am * row.Hillshade_Noon), axis=1)\n",
    "# engineered_features['Norm_Horizontal_Distance_To_Hydrology'] = engineered_features['Horizontal_Distance_To_Hydrology']/(np.mean(engineered_features['Horizontal_Distance_To_Hydrology']))\n",
    "# engineered_features['Norm_Elevation'] = engineered_features['Elevation']/(np.mean(engineered_features['Elevation']))\n",
    "# engineered_features['Log_Elevation'] = engineered_features.apply(lambda row: math.log(row.Elevation), axis=1)"
   ]
  },
  {
   "cell_type": "markdown",
   "metadata": {},
   "source": [
    "### Standardization of the Features"
   ]
  },
  {
   "cell_type": "markdown",
   "metadata": {},
   "source": [
    "Standardization is a very important aspect of preparing data for consumption by machine learning models.  It brings all of the features into a standardized range, preventing our models from haivng bias toward certain features on the basis of relative scale. By ensuring all features are kept within a standardized range, we eliminate the possibility that certain features could dominate the weighting and prediction process simply by virtue of being represented on a larger scale than that another potentially more meaningful feature.  We will experiment with several different types of standardization to see which is the most effective. Specifically we will test Min-Max scaling, standard scaling, robust scaling and sklearn's normalizer."
   ]
  },
  {
   "cell_type": "markdown",
   "metadata": {},
   "source": [
    "#### Evaluating standardization using K-Nearest Neighbors"
   ]
  },
  {
   "cell_type": "markdown",
   "metadata": {},
   "source": [
    "One issue with Naïve Bayes models is that they are more or less invariant to feature scaling, and therefore cannot be used when testing standardization methods.  For this reason, We will use the `KNearestClassifier` with *K = 3* when testing our performance on scaled data.  In testing a variety of values for `K`, we found that *K = 3* consistently produced the best results."
   ]
  },
  {
   "cell_type": "code",
   "execution_count": 8,
   "metadata": {
    "ExecuteTime": {
     "end_time": "2019-04-08T18:08:11.887347Z",
     "start_time": "2019-04-08T18:08:11.869348Z"
    }
   },
   "outputs": [
    {
     "name": "stdout",
     "output_type": "stream",
     "text": [
      "Model: 3 Nearest Neighbors, with 5 folds\n",
      "\t\t\tSpruce/Fir           | precision:  0.66 | recall:  0.74 | f1-score:  0.70 | \n",
      "\t\t\tLodgepole Pine       | precision:  0.58 | recall:  0.71 | f1-score:  0.64 | \n",
      "\t\t\tPonderosa Pine       | precision:  0.74 | recall:  0.83 | f1-score:  0.78 | \n",
      "\t\t\tCottonwood/Willow    | precision:  0.96 | recall:  0.90 | f1-score:  0.93 | \n",
      "\t\t\tAspen                | precision:  0.96 | recall:  0.83 | f1-score:  0.89 | \n",
      "\t\t\tDouglas Fir          | precision:  0.85 | recall:  0.80 | f1-score:  0.82 | \n",
      "\t\t\tKrummholz            | precision:  0.97 | recall:  0.88 | f1-score:  0.92 | \n",
      "\t\t\tmacro avg            | precision:  0.82 | recall:  0.81 | f1-score:  0.81 | \n",
      "\t\t\tmicro avg            | precision:  0.82 | recall:  0.82 | f1-score:  0.82 | \n",
      "\t\t\tweighted avg         | precision:  0.84 | recall:  0.82 | f1-score:  0.82 | \n",
      "\n"
     ]
    },
    {
     "data": {
      "text/plain": [
       "{'micro avg': {'precision': [0.8146108663729809,\n",
       "   0.8163115356355621,\n",
       "   0.8254318265343623,\n",
       "   0.8191841234840133,\n",
       "   0.8202205882352941],\n",
       "  'recall': [0.8146108663729809,\n",
       "   0.8163115356355621,\n",
       "   0.8254318265343623,\n",
       "   0.8191841234840133,\n",
       "   0.8202205882352941],\n",
       "  'f1-score': [0.8146108663729809,\n",
       "   0.8163115356355621,\n",
       "   0.8254318265343623,\n",
       "   0.8191841234840133,\n",
       "   0.820220588235294]},\n",
       " 'macro avg': {'precision': [0.8141770596219742,\n",
       "   0.8159253030286421,\n",
       "   0.8251051344250694,\n",
       "   0.8187954497324702,\n",
       "   0.8197059545706705],\n",
       "  'recall': [0.8087347268970901,\n",
       "   0.8091930247989838,\n",
       "   0.8203685045861402,\n",
       "   0.8132360728902636,\n",
       "   0.8149474773899618],\n",
       "  'f1-score': [0.8087073016186962,\n",
       "   0.8078934062593393,\n",
       "   0.8209311009973556,\n",
       "   0.8136062365169338,\n",
       "   0.8143538157561508]},\n",
       " 'weighted avg': {'precision': [0.8311696995944909,\n",
       "   0.8414566359132629,\n",
       "   0.837412171461308,\n",
       "   0.8343643116850249,\n",
       "   0.8371072453803706],\n",
       "  'recall': [0.8146108663729809,\n",
       "   0.8163115356355621,\n",
       "   0.8254318265343623,\n",
       "   0.8191841234840133,\n",
       "   0.8202205882352941],\n",
       "  'f1-score': [0.8202100049000023,\n",
       "   0.8244333705712777,\n",
       "   0.8296674594010853,\n",
       "   0.824465706044189,\n",
       "   0.8257253736724709]},\n",
       " '1': {'precision': [0.6606217616580311,\n",
       "   0.6545454545454545,\n",
       "   0.6935064935064935,\n",
       "   0.6727272727272727,\n",
       "   0.6415584415584416],\n",
       "  'recall': [0.75,\n",
       "   0.7283236994219653,\n",
       "   0.752112676056338,\n",
       "   0.7357954545454546,\n",
       "   0.7439759036144579],\n",
       "  'f1-score': [0.7024793388429751,\n",
       "   0.6894664842681258,\n",
       "   0.7216216216216217,\n",
       "   0.7028493894165536,\n",
       "   0.6889818688981869]},\n",
       " '2': {'precision': [0.5861182519280206,\n",
       "   0.5167095115681234,\n",
       "   0.6118251928020566,\n",
       "   0.5912596401028277,\n",
       "   0.5979381443298969],\n",
       "  'recall': [0.7147335423197492,\n",
       "   0.6836734693877551,\n",
       "   0.7104477611940299,\n",
       "   0.7301587301587301,\n",
       "   0.7204968944099379],\n",
       "  'f1-score': [0.6440677966101696,\n",
       "   0.5885797950219619,\n",
       "   0.6574585635359117,\n",
       "   0.6534090909090909,\n",
       "   0.6535211267605633]},\n",
       " '3': {'precision': [0.7435897435897436,\n",
       "   0.7230769230769231,\n",
       "   0.7461538461538462,\n",
       "   0.7435897435897436,\n",
       "   0.764102564102564],\n",
       "  'recall': [0.8100558659217877,\n",
       "   0.851963746223565,\n",
       "   0.8314285714285714,\n",
       "   0.7967032967032966,\n",
       "   0.8370786516853933],\n",
       "  'f1-score': [0.7754010695187165,\n",
       "   0.7822468793342581,\n",
       "   0.7864864864864864,\n",
       "   0.7692307692307693,\n",
       "   0.7989276139410189]},\n",
       " '4': {'precision': [0.9537275064267352,\n",
       "   0.9820051413881749,\n",
       "   0.961439588688946,\n",
       "   0.974293059125964,\n",
       "   0.9434447300771208],\n",
       "  'recall': [0.8983050847457628,\n",
       "   0.8988235294117647,\n",
       "   0.8904761904761904,\n",
       "   0.8981042654028436,\n",
       "   0.9039408866995073],\n",
       "  'f1-score': [0.9251870324189526,\n",
       "   0.9385749385749386,\n",
       "   0.9245982694684796,\n",
       "   0.9346485819975339,\n",
       "   0.9232704402515725]},\n",
       " '5': {'precision': [0.9616368286445013,\n",
       "   0.9846153846153847,\n",
       "   0.9461538461538461,\n",
       "   0.9538461538461539,\n",
       "   0.958974358974359],\n",
       "  'recall': [0.8355555555555556,\n",
       "   0.8118393234672304,\n",
       "   0.8601398601398601,\n",
       "   0.8340807174887892,\n",
       "   0.8219780219780219],\n",
       "  'f1-score': [0.8941736028537455,\n",
       "   0.8899188876013906,\n",
       "   0.901098901098901,\n",
       "   0.8899521531100479,\n",
       "   0.885207100591716]},\n",
       " '6': {'precision': [0.813953488372093,\n",
       "   0.8811369509043928,\n",
       "   0.8549222797927462,\n",
       "   0.8290155440414507,\n",
       "   0.8523316062176166],\n",
       "  'recall': [0.7777777777777778,\n",
       "   0.8080568720379147,\n",
       "   0.8088235294117647,\n",
       "   0.8060453400503779,\n",
       "   0.8103448275862069],\n",
       "  'f1-score': [0.7954545454545455,\n",
       "   0.8430160692212607,\n",
       "   0.8312342569269522,\n",
       "   0.8173690932311622,\n",
       "   0.8308080808080809]},\n",
       " '7': {'precision': [0.9795918367346939,\n",
       "   0.9693877551020408,\n",
       "   0.9617346938775511,\n",
       "   0.9668367346938775,\n",
       "   0.9795918367346939],\n",
       "  'recall': [0.8747152619589977,\n",
       "   0.8816705336426914,\n",
       "   0.8891509433962265,\n",
       "   0.8917647058823529,\n",
       "   0.8668171557562077],\n",
       "  'f1-score': [0.9241877256317689,\n",
       "   0.9234507897934386,\n",
       "   0.9240196078431373,\n",
       "   0.9277845777233782,\n",
       "   0.9197604790419162]}}"
      ]
     },
     "execution_count": 8,
     "metadata": {},
     "output_type": "execute_result"
    }
   ],
   "source": [
    "# Testing on the unscaled data\n",
    "cross_validate_model(KNeighborsClassifier(n_neighbors=3), e_X_train, e_y_train, name='3 Nearest Neighbors', verbose=True)"
   ]
  },
  {
   "cell_type": "markdown",
   "metadata": {},
   "source": [
    "The `KNearestClassifier` performed remarkably well on the base data with 84% precision and 82% recall.  This is a surprisingly good result for an out-of-the-box model.  However with such a low K, we would need to run this against a larger test set to ensure we aren't overfitting."
   ]
  },
  {
   "cell_type": "markdown",
   "metadata": {},
   "source": [
    "#### Standardization Performance"
   ]
  },
  {
   "cell_type": "markdown",
   "metadata": {},
   "source": [
    "We tested standardization using each of the following methods:\n",
    "+ `MinMaxScaler` with ranges of [-1, 1] and [0, 1]\n",
    "+ `StandardScaler` with the range [0, 1]\n",
    "+ `RobustScaler`\n",
    "+ `Normalizer`\n"
   ]
  },
  {
   "cell_type": "code",
   "execution_count": 9,
   "metadata": {
    "ExecuteTime": {
     "end_time": "2019-04-08T18:37:29.643857Z",
     "start_time": "2019-04-08T18:37:29.604320Z"
    }
   },
   "outputs": [],
   "source": [
    "%%capture\n",
    "mm_neg1_1_scaled_df = apply_scaler(MinMaxScaler(feature_range=(-1, 1)), e_X_train)\n",
    "print(\"MinMaxScaler [-1,1]\")\n",
    "mm_neg1_1_scaled_df.head(5)\n",
    "\n",
    "mm_0_1_scaled_df = apply_scaler(MinMaxScaler(feature_range=(0, 1)), e_X_train)\n",
    "print(\"MinMaxScaler [0,1]\")\n",
    "mm_0_1_scaled_df.head(5)\n",
    "\n",
    "standard_scaled_df = apply_scaler(StandardScaler(), e_X_train)\n",
    "print(\"StandardScaler [0,1]\")\n",
    "standard_scaled_df.head(5)\n",
    "\n",
    "r_scaled_df = apply_scaler(RobustScaler(), e_X_train)\n",
    "print(\"RobustScaler [0,1]\")\n",
    "r_scaled_df.head(5)\n",
    "\n",
    "n_scaled_df = apply_scaler(Normalizer(), e_X_train)\n",
    "print(n_scaled_df.shape)\n",
    "n_scaled_df.head(10)"
   ]
  },
  {
   "cell_type": "markdown",
   "metadata": {},
   "source": [
    "The code block above demonstrates the effect of applying each of these methods. (Removing the `%%capture` line will allow the output to be generated.) Output is currently omitted for simplicity sake. "
   ]
  },
  {
   "cell_type": "code",
   "execution_count": 10,
   "metadata": {
    "ExecuteTime": {
     "end_time": "2019-04-07T08:45:02.057657Z",
     "start_time": "2019-04-07T08:45:01.261Z"
    }
   },
   "outputs": [
    {
     "name": "stdout",
     "output_type": "stream",
     "text": [
      "Model: 3 Nearest Neighbors, MinMax scaled [-1,1]\n",
      "\t\t\tweighted avg         | precision:  0.82 | recall:  0.81 | f1-score:  0.81 | \n",
      "Model: 3 Nearest Neighbors, MinMax scaled [0,1]\n",
      "\t\t\tweighted avg         | precision:  0.82 | recall:  0.81 | f1-score:  0.81 | \n",
      "Model: 3 Nearest Neighbors, Standard scaled [0,1]\n",
      "\t\t\tweighted avg         | precision:  0.81 | recall:  0.80 | f1-score:  0.80 | \n",
      "Model: 3 Nearest Neighbors, Robust scaled [0,1]\n",
      "\t\t\tweighted avg         | precision:  0.81 | recall:  0.80 | f1-score:  0.80 | \n",
      "Model: 3 Nearest Neighbors, Normalized\n",
      "\t\t\tweighted avg         | precision:  0.73 | recall:  0.70 | f1-score:  0.71 | \n",
      "Model: 3 Nearest Neighbors\n",
      "\t\t\tweighted avg         | precision:  0.84 | recall:  0.82 | f1-score:  0.82 | \n"
     ]
    }
   ],
   "source": [
    "# Testing on the [-1,1] scaled data again for reference\n",
    "cross_validate_model(KNeighborsClassifier(n_neighbors=3), mm_neg1_1_scaled_df, e_y_train, name='3 Nearest Neighbors, MinMax scaled [-1,1]')\n",
    "# Testing on the [0,1] scaled data\n",
    "cross_validate_model(KNeighborsClassifier(n_neighbors=3), mm_0_1_scaled_df, e_y_train, name='3 Nearest Neighbors, MinMax scaled [0,1]')\n",
    "# Testing on the [0,1] scaled data\n",
    "cross_validate_model(KNeighborsClassifier(n_neighbors=3), standard_scaled_df, e_y_train, name='3 Nearest Neighbors, Standard scaled [0,1]')\n",
    "# Testing on the Robust scaled data\n",
    "cross_validate_model(KNeighborsClassifier(n_neighbors=3), r_scaled_df, e_y_train, name='3 Nearest Neighbors, Robust scaled [0,1]')\n",
    "# Testing on the Normalized data\n",
    "cross_validate_model(KNeighborsClassifier(n_neighbors=3), n_scaled_df, e_y_train, name='3 Nearest Neighbors, Normalized')\n",
    "# Testing on the unscaled data again for reference\n",
    "cross_validate_model(KNeighborsClassifier(n_neighbors=3), e_X_train, e_y_train, name='3 Nearest Neighbors')"
   ]
  },
  {
   "cell_type": "markdown",
   "metadata": {},
   "source": [
    "This test is to determine how much the scaled features affect the KNN model, so we have included the previous basic KNearestNeighbors results for reference.  \n",
    "+ The range used when applying the `MinMaxScaler` does not materially affect the results.\n",
    "+ The `StandardScaler` actually performs slightly worse than the `MinMaxScaler` when used on a KNN-3 model.\n",
    "+ The `RobustScaler` performs approximately as well as the previous models.\n",
    "+ The `Normalizer` generated the worst results of all.\n",
    "\n",
    "The main takeaway is that no approach to standardization materially improved the performance of our KNN model. As a result we will not go into any more depth on standardization, and spend our time exploring alternative models instead in hopes of improving overall performance. Many of the sklearn models that we will deploy apply some built-in standardization before training. Since manually standardizing the features has not improved performance, the remainder of our exploration will primarily use unstandardized features, with a few exceptions."
   ]
  },
  {
   "cell_type": "markdown",
   "metadata": {},
   "source": [
    "<a id=\"models\"></a>\n",
    "\n",
    "# Models"
   ]
  },
  {
   "cell_type": "markdown",
   "metadata": {},
   "source": [
    "<a id=\"logistic\"> </a>\n",
    "### Logistic Regression"
   ]
  },
  {
   "cell_type": "markdown",
   "metadata": {},
   "source": [
    "First, we will run a Logistic Regression as this is a fairly simple model, and for this reason has the unique characteristic of being interpretable (it is possible to extract the coefficients for individual features). Although this is a fairly straight forward model, when given enough data it can perform remarkably well."
   ]
  },
  {
   "cell_type": "code",
   "execution_count": 11,
   "metadata": {},
   "outputs": [
    {
     "name": "stdout",
     "output_type": "stream",
     "text": [
      "Model: Logistic Regression, with 5 folds\n",
      "\t\t\tSpruce/Fir           | precision:  0.65 | recall:  0.62 | f1-score:  0.64 | \n",
      "\t\t\tLodgepole Pine       | precision:  0.50 | recall:  0.58 | f1-score:  0.54 | \n",
      "\t\t\tPonderosa Pine       | precision:  0.54 | recall:  0.59 | f1-score:  0.56 | \n",
      "\t\t\tCottonwood/Willow    | precision:  0.88 | recall:  0.79 | f1-score:  0.83 | \n",
      "\t\t\tAspen                | precision:  0.69 | recall:  0.62 | f1-score:  0.65 | \n",
      "\t\t\tDouglas Fir          | precision:  0.54 | recall:  0.56 | f1-score:  0.55 | \n",
      "\t\t\tKrummholz            | precision:  0.84 | recall:  0.87 | f1-score:  0.86 | \n",
      "\t\t\tmacro avg            | precision:  0.66 | recall:  0.66 | f1-score:  0.66 | \n",
      "\t\t\tmicro avg            | precision:  0.66 | recall:  0.66 | f1-score:  0.66 | \n",
      "\t\t\tweighted avg         | precision:  0.67 | recall:  0.66 | f1-score:  0.67 | \n",
      "\n"
     ]
    },
    {
     "data": {
      "text/plain": [
       "{'micro avg': {'precision': [0.6629955947136564,\n",
       "   0.6572373254959588,\n",
       "   0.6729143697170158,\n",
       "   0.6585814038956266,\n",
       "   0.669485294117647],\n",
       "  'recall': [0.6629955947136564,\n",
       "   0.6572373254959588,\n",
       "   0.6729143697170158,\n",
       "   0.6585814038956266,\n",
       "   0.669485294117647],\n",
       "  'f1-score': [0.6629955947136564,\n",
       "   0.6572373254959588,\n",
       "   0.6729143697170158,\n",
       "   0.6585814038956266,\n",
       "   0.669485294117647]},\n",
       " 'macro avg': {'precision': [0.6627706130498286,\n",
       "   0.6569706648591698,\n",
       "   0.672532619766188,\n",
       "   0.65826097692296,\n",
       "   0.6691565115256749],\n",
       "  'recall': [0.6600434778143455,\n",
       "   0.6541949522171334,\n",
       "   0.6682953263243457,\n",
       "   0.6540564199723639,\n",
       "   0.6685161222402274],\n",
       "  'f1-score': [0.6594309911892439,\n",
       "   0.6527250869722453,\n",
       "   0.6690085034969496,\n",
       "   0.6548486828233526,\n",
       "   0.6685151595123636]},\n",
       " 'weighted avg': {'precision': [0.6733807094577818,\n",
       "   0.6713017519578476,\n",
       "   0.682939548721016,\n",
       "   0.6680231633837266,\n",
       "   0.6713315986731824],\n",
       "  'recall': [0.6629955947136564,\n",
       "   0.6572373254959588,\n",
       "   0.6729143697170158,\n",
       "   0.6585814038956266,\n",
       "   0.669485294117647],\n",
       "  'f1-score': [0.6662970505827663,\n",
       "   0.6614515173976082,\n",
       "   0.676458353753348,\n",
       "   0.6619717665469914,\n",
       "   0.6701001155752638]},\n",
       " '1': {'precision': [0.6398963730569949,\n",
       "   0.6623376623376623,\n",
       "   0.6545454545454545,\n",
       "   0.6493506493506493,\n",
       "   0.6467532467532467],\n",
       "  'recall': [0.5894988066825776,\n",
       "   0.6189320388349514,\n",
       "   0.6412213740458015,\n",
       "   0.6410256410256411,\n",
       "   0.6240601503759399],\n",
       "  'f1-score': [0.6136645962732921,\n",
       "   0.6398996235884568,\n",
       "   0.6478149100257069,\n",
       "   0.6451612903225807,\n",
       "   0.6352040816326531]},\n",
       " '2': {'precision': [0.4730077120822622,\n",
       "   0.4652956298200514,\n",
       "   0.532133676092545,\n",
       "   0.5244215938303342,\n",
       "   0.5257731958762887],\n",
       "  'recall': [0.575,\n",
       "   0.5934426229508196,\n",
       "   0.5766016713091922,\n",
       "   0.5528455284552846,\n",
       "   0.5779036827195467],\n",
       "  'f1-score': [0.5190409026798307,\n",
       "   0.5216138328530259,\n",
       "   0.553475935828877,\n",
       "   0.5382585751978891,\n",
       "   0.5506072874493928]},\n",
       " '3': {'precision': [0.5435897435897435,\n",
       "   0.5384615384615384,\n",
       "   0.5307692307692308,\n",
       "   0.4948717948717949,\n",
       "   0.5743589743589743],\n",
       "  'recall': [0.6253687315634219,\n",
       "   0.554089709762533,\n",
       "   0.5931232091690545,\n",
       "   0.5848484848484848,\n",
       "   0.5848563968668408],\n",
       "  'f1-score': [0.5816186556927297,\n",
       "   0.5461638491547465,\n",
       "   0.5602165087956699,\n",
       "   0.536111111111111,\n",
       "   0.5795601552393272]},\n",
       " '4': {'precision': [0.8894601542416453,\n",
       "   0.8894601542416453,\n",
       "   0.8766066838046273,\n",
       "   0.9023136246786633,\n",
       "   0.8586118251928021],\n",
       "  'recall': [0.7863636363636364,\n",
       "   0.7604395604395604,\n",
       "   0.7821100917431193,\n",
       "   0.78,\n",
       "   0.8267326732673267],\n",
       "  'f1-score': [0.8347406513872135,\n",
       "   0.8199052132701421,\n",
       "   0.8266666666666667,\n",
       "   0.8367103694874851,\n",
       "   0.8423707440100882]},\n",
       " '5': {'precision': [0.6828644501278772,\n",
       "   0.7282051282051282,\n",
       "   0.7333333333333333,\n",
       "   0.6564102564102564,\n",
       "   0.6410256410256411],\n",
       "  'recall': [0.6194895591647331,\n",
       "   0.6241758241758242,\n",
       "   0.639821029082774,\n",
       "   0.6213592233009708,\n",
       "   0.6188118811881188],\n",
       "  'f1-score': [0.6496350364963503,\n",
       "   0.672189349112426,\n",
       "   0.6833930704898447,\n",
       "   0.6384039900249375,\n",
       "   0.6297229219143576]},\n",
       " '6': {'precision': [0.5891472868217055,\n",
       "   0.49870801033591733,\n",
       "   0.5155440414507773,\n",
       "   0.5233160621761658,\n",
       "   0.5880829015544041],\n",
       "  'recall': [0.5772151898734177,\n",
       "   0.546742209631728,\n",
       "   0.5669515669515669,\n",
       "   0.5233160621761658,\n",
       "   0.5732323232323232],\n",
       "  'f1-score': [0.5831202046035805,\n",
       "   0.5216216216216215,\n",
       "   0.5400271370420624,\n",
       "   0.5233160621761658,\n",
       "   0.5805626598465473]},\n",
       " '7': {'precision': [0.8214285714285714,\n",
       "   0.8163265306122449,\n",
       "   0.8647959183673469,\n",
       "   0.8571428571428571,\n",
       "   0.8494897959183674],\n",
       "  'recall': [0.8473684210526315,\n",
       "   0.8815426997245179,\n",
       "   0.8782383419689119,\n",
       "   0.875,\n",
       "   0.8740157480314961],\n",
       "  'f1-score': [0.8341968911917099,\n",
       "   0.847682119205298,\n",
       "   0.87146529562982,\n",
       "   0.8659793814432989,\n",
       "   0.8615782664941786]}}"
      ]
     },
     "execution_count": 11,
     "metadata": {},
     "output_type": "execute_result"
    }
   ],
   "source": [
    "cross_validate_model(LogisticRegression(), e_X_train, e_y_train, name='Logistic Regression', verbose=True)"
   ]
  },
  {
   "cell_type": "markdown",
   "metadata": {},
   "source": [
    "This basic logistic regression gives us a baseline against which to compare other models. The basic one-vs-many `LogisticRegression` classifier achieved an average precision of 67%, meaning about 2/3 of its predictions were correct. None of the f1 scores were strong (above 0.90), but it did outperform our base Naïve Bayes model."
   ]
  },
  {
   "cell_type": "markdown",
   "metadata": {},
   "source": [
    "<a id=\"KNN\"> </a>\n",
    "### K Nearest Neighbors"
   ]
  },
  {
   "cell_type": "markdown",
   "metadata": {},
   "source": [
    "We discussed K Nearest Neighbors above when testing various methods of standardization.  KNN is a good fit for this type of problem because there are a large number of examples relative to the number of classes.  This means that every new data point will have many 'neighbors' to choose from. We found that the ideal number of neighbors was three as there is enough data to prevent overfitting."
   ]
  },
  {
   "cell_type": "code",
   "execution_count": 12,
   "metadata": {},
   "outputs": [
    {
     "name": "stdout",
     "output_type": "stream",
     "text": [
      "Model: 3 Nearest Neighbors, with 5 folds\n",
      "\t\t\tSpruce/Fir           | precision:  0.66 | recall:  0.74 | f1-score:  0.70 | \n",
      "\t\t\tLodgepole Pine       | precision:  0.58 | recall:  0.71 | f1-score:  0.64 | \n",
      "\t\t\tPonderosa Pine       | precision:  0.74 | recall:  0.83 | f1-score:  0.78 | \n",
      "\t\t\tCottonwood/Willow    | precision:  0.96 | recall:  0.90 | f1-score:  0.93 | \n",
      "\t\t\tAspen                | precision:  0.96 | recall:  0.83 | f1-score:  0.89 | \n",
      "\t\t\tDouglas Fir          | precision:  0.85 | recall:  0.80 | f1-score:  0.82 | \n",
      "\t\t\tKrummholz            | precision:  0.97 | recall:  0.88 | f1-score:  0.92 | \n",
      "\t\t\tmacro avg            | precision:  0.82 | recall:  0.81 | f1-score:  0.81 | \n",
      "\t\t\tmicro avg            | precision:  0.82 | recall:  0.82 | f1-score:  0.82 | \n",
      "\t\t\tweighted avg         | precision:  0.84 | recall:  0.82 | f1-score:  0.82 | \n",
      "\n"
     ]
    },
    {
     "data": {
      "text/plain": [
       "{'micro avg': {'precision': [0.8146108663729809,\n",
       "   0.8163115356355621,\n",
       "   0.8254318265343623,\n",
       "   0.8191841234840133,\n",
       "   0.8202205882352941],\n",
       "  'recall': [0.8146108663729809,\n",
       "   0.8163115356355621,\n",
       "   0.8254318265343623,\n",
       "   0.8191841234840133,\n",
       "   0.8202205882352941],\n",
       "  'f1-score': [0.8146108663729809,\n",
       "   0.8163115356355621,\n",
       "   0.8254318265343623,\n",
       "   0.8191841234840133,\n",
       "   0.820220588235294]},\n",
       " 'macro avg': {'precision': [0.8141770596219742,\n",
       "   0.8159253030286421,\n",
       "   0.8251051344250694,\n",
       "   0.8187954497324702,\n",
       "   0.8197059545706705],\n",
       "  'recall': [0.8087347268970901,\n",
       "   0.8091930247989838,\n",
       "   0.8203685045861402,\n",
       "   0.8132360728902636,\n",
       "   0.8149474773899618],\n",
       "  'f1-score': [0.8087073016186962,\n",
       "   0.8078934062593393,\n",
       "   0.8209311009973556,\n",
       "   0.8136062365169338,\n",
       "   0.8143538157561508]},\n",
       " 'weighted avg': {'precision': [0.8311696995944909,\n",
       "   0.8414566359132629,\n",
       "   0.837412171461308,\n",
       "   0.8343643116850249,\n",
       "   0.8371072453803706],\n",
       "  'recall': [0.8146108663729809,\n",
       "   0.8163115356355621,\n",
       "   0.8254318265343623,\n",
       "   0.8191841234840133,\n",
       "   0.8202205882352941],\n",
       "  'f1-score': [0.8202100049000023,\n",
       "   0.8244333705712777,\n",
       "   0.8296674594010853,\n",
       "   0.824465706044189,\n",
       "   0.8257253736724709]},\n",
       " '1': {'precision': [0.6606217616580311,\n",
       "   0.6545454545454545,\n",
       "   0.6935064935064935,\n",
       "   0.6727272727272727,\n",
       "   0.6415584415584416],\n",
       "  'recall': [0.75,\n",
       "   0.7283236994219653,\n",
       "   0.752112676056338,\n",
       "   0.7357954545454546,\n",
       "   0.7439759036144579],\n",
       "  'f1-score': [0.7024793388429751,\n",
       "   0.6894664842681258,\n",
       "   0.7216216216216217,\n",
       "   0.7028493894165536,\n",
       "   0.6889818688981869]},\n",
       " '2': {'precision': [0.5861182519280206,\n",
       "   0.5167095115681234,\n",
       "   0.6118251928020566,\n",
       "   0.5912596401028277,\n",
       "   0.5979381443298969],\n",
       "  'recall': [0.7147335423197492,\n",
       "   0.6836734693877551,\n",
       "   0.7104477611940299,\n",
       "   0.7301587301587301,\n",
       "   0.7204968944099379],\n",
       "  'f1-score': [0.6440677966101696,\n",
       "   0.5885797950219619,\n",
       "   0.6574585635359117,\n",
       "   0.6534090909090909,\n",
       "   0.6535211267605633]},\n",
       " '3': {'precision': [0.7435897435897436,\n",
       "   0.7230769230769231,\n",
       "   0.7461538461538462,\n",
       "   0.7435897435897436,\n",
       "   0.764102564102564],\n",
       "  'recall': [0.8100558659217877,\n",
       "   0.851963746223565,\n",
       "   0.8314285714285714,\n",
       "   0.7967032967032966,\n",
       "   0.8370786516853933],\n",
       "  'f1-score': [0.7754010695187165,\n",
       "   0.7822468793342581,\n",
       "   0.7864864864864864,\n",
       "   0.7692307692307693,\n",
       "   0.7989276139410189]},\n",
       " '4': {'precision': [0.9537275064267352,\n",
       "   0.9820051413881749,\n",
       "   0.961439588688946,\n",
       "   0.974293059125964,\n",
       "   0.9434447300771208],\n",
       "  'recall': [0.8983050847457628,\n",
       "   0.8988235294117647,\n",
       "   0.8904761904761904,\n",
       "   0.8981042654028436,\n",
       "   0.9039408866995073],\n",
       "  'f1-score': [0.9251870324189526,\n",
       "   0.9385749385749386,\n",
       "   0.9245982694684796,\n",
       "   0.9346485819975339,\n",
       "   0.9232704402515725]},\n",
       " '5': {'precision': [0.9616368286445013,\n",
       "   0.9846153846153847,\n",
       "   0.9461538461538461,\n",
       "   0.9538461538461539,\n",
       "   0.958974358974359],\n",
       "  'recall': [0.8355555555555556,\n",
       "   0.8118393234672304,\n",
       "   0.8601398601398601,\n",
       "   0.8340807174887892,\n",
       "   0.8219780219780219],\n",
       "  'f1-score': [0.8941736028537455,\n",
       "   0.8899188876013906,\n",
       "   0.901098901098901,\n",
       "   0.8899521531100479,\n",
       "   0.885207100591716]},\n",
       " '6': {'precision': [0.813953488372093,\n",
       "   0.8811369509043928,\n",
       "   0.8549222797927462,\n",
       "   0.8290155440414507,\n",
       "   0.8523316062176166],\n",
       "  'recall': [0.7777777777777778,\n",
       "   0.8080568720379147,\n",
       "   0.8088235294117647,\n",
       "   0.8060453400503779,\n",
       "   0.8103448275862069],\n",
       "  'f1-score': [0.7954545454545455,\n",
       "   0.8430160692212607,\n",
       "   0.8312342569269522,\n",
       "   0.8173690932311622,\n",
       "   0.8308080808080809]},\n",
       " '7': {'precision': [0.9795918367346939,\n",
       "   0.9693877551020408,\n",
       "   0.9617346938775511,\n",
       "   0.9668367346938775,\n",
       "   0.9795918367346939],\n",
       "  'recall': [0.8747152619589977,\n",
       "   0.8816705336426914,\n",
       "   0.8891509433962265,\n",
       "   0.8917647058823529,\n",
       "   0.8668171557562077],\n",
       "  'f1-score': [0.9241877256317689,\n",
       "   0.9234507897934386,\n",
       "   0.9240196078431373,\n",
       "   0.9277845777233782,\n",
       "   0.9197604790419162]}}"
      ]
     },
     "execution_count": 12,
     "metadata": {},
     "output_type": "execute_result"
    }
   ],
   "source": [
    "cross_validate_model(KNeighborsClassifier(n_neighbors=3), e_X_train, e_y_train, name='3 Nearest Neighbors', verbose=True)"
   ]
  },
  {
   "cell_type": "markdown",
   "metadata": {},
   "source": [
    "Our KNN model is unique in that it perform relatively well across all labels.  The lowest precision score it achieves is 58% on `Lodgepole Pines`.  As we saw in the [About the Data](#aboutTheData) section, Lodgepole pine trees thrive in areas that can be covered by many types of trees.  This makes classifying them especially hard with KNN as the Lodgepole covered areas often have neighbors of other cover types."
   ]
  },
  {
   "cell_type": "markdown",
   "metadata": {},
   "source": [
    "<a id=\"svm\"> </a>\n",
    "### Support Vector Machines"
   ]
  },
  {
   "cell_type": "markdown",
   "metadata": {},
   "source": [
    "Support Vector Machines are a common tool in a data scientist's kit.  They generally perform well on datasets that are semi linearly separable, but they are typically slow to train.  We will take a look at the efficacy of SVMs on this data set, as it may give an indication as to whether or not our data is linearly separable."
   ]
  },
  {
   "cell_type": "code",
   "execution_count": 13,
   "metadata": {
    "ExecuteTime": {
     "end_time": "2019-04-07T08:46:42.652719Z",
     "start_time": "2019-04-07T08:45:05.680175Z"
    }
   },
   "outputs": [
    {
     "ename": "KeyboardInterrupt",
     "evalue": "",
     "output_type": "error",
     "traceback": [
      "\u001b[1;31m---------------------------------------------------------------------------\u001b[0m",
      "\u001b[1;31mKeyboardInterrupt\u001b[0m                         Traceback (most recent call last)",
      "\u001b[1;32m<ipython-input-13-89c567492f1b>\u001b[0m in \u001b[0;36m<module>\u001b[1;34m()\u001b[0m\n\u001b[0;32m      1\u001b[0m \u001b[1;31m# Basic Linear Support Vector machine\u001b[0m\u001b[1;33m\u001b[0m\u001b[1;33m\u001b[0m\u001b[0m\n\u001b[1;32m----> 2\u001b[1;33m \u001b[0mcross_validate_model\u001b[0m\u001b[1;33m(\u001b[0m\u001b[0mLinearSVC\u001b[0m\u001b[1;33m(\u001b[0m\u001b[1;33m)\u001b[0m\u001b[1;33m,\u001b[0m \u001b[0me_X_train\u001b[0m\u001b[1;33m,\u001b[0m \u001b[0me_y_train\u001b[0m\u001b[1;33m,\u001b[0m \u001b[0mname\u001b[0m\u001b[1;33m=\u001b[0m\u001b[1;34m'linearSVC'\u001b[0m\u001b[1;33m,\u001b[0m \u001b[0mverbose\u001b[0m\u001b[1;33m=\u001b[0m\u001b[1;32mTrue\u001b[0m\u001b[1;33m)\u001b[0m\u001b[1;33m\u001b[0m\u001b[0m\n\u001b[0m",
      "\u001b[1;32m<ipython-input-1-94601248170f>\u001b[0m in \u001b[0;36mcross_validate_model\u001b[1;34m(model, X, y, name, folds, verbose, return_dict)\u001b[0m\n\u001b[0;32m     17\u001b[0m             \u001b[0mfoldXValid\u001b[0m\u001b[1;33m,\u001b[0m \u001b[0mfoldYValid\u001b[0m \u001b[1;33m=\u001b[0m \u001b[0mX\u001b[0m\u001b[1;33m.\u001b[0m\u001b[0miloc\u001b[0m\u001b[1;33m[\u001b[0m\u001b[0mvalid_indexes\u001b[0m\u001b[1;33m]\u001b[0m\u001b[1;33m,\u001b[0m \u001b[0my\u001b[0m\u001b[1;33m.\u001b[0m\u001b[0miloc\u001b[0m\u001b[1;33m[\u001b[0m\u001b[0mvalid_indexes\u001b[0m\u001b[1;33m]\u001b[0m\u001b[1;33m\u001b[0m\u001b[0m\n\u001b[0;32m     18\u001b[0m \u001b[1;33m\u001b[0m\u001b[0m\n\u001b[1;32m---> 19\u001b[1;33m             \u001b[0mmodel\u001b[0m\u001b[1;33m.\u001b[0m\u001b[0mfit\u001b[0m\u001b[1;33m(\u001b[0m\u001b[0mfoldXTrain\u001b[0m\u001b[1;33m,\u001b[0m \u001b[0mfoldYTrain\u001b[0m\u001b[1;33m)\u001b[0m\u001b[1;33m\u001b[0m\u001b[0m\n\u001b[0m\u001b[0;32m     20\u001b[0m             \u001b[0mfoldValidPred\u001b[0m \u001b[1;33m=\u001b[0m \u001b[0mmodel\u001b[0m\u001b[1;33m.\u001b[0m\u001b[0mpredict\u001b[0m\u001b[1;33m(\u001b[0m\u001b[0mfoldXValid\u001b[0m\u001b[1;33m)\u001b[0m\u001b[1;33m\u001b[0m\u001b[0m\n\u001b[0;32m     21\u001b[0m             \u001b[0mfoldReport\u001b[0m \u001b[1;33m=\u001b[0m \u001b[0mmetrics\u001b[0m\u001b[1;33m.\u001b[0m\u001b[0mclassification_report\u001b[0m\u001b[1;33m(\u001b[0m\u001b[0mfoldValidPred\u001b[0m\u001b[1;33m,\u001b[0m \u001b[0mfoldYValid\u001b[0m\u001b[1;33m,\u001b[0m \u001b[0moutput_dict\u001b[0m\u001b[1;33m=\u001b[0m\u001b[1;32mTrue\u001b[0m\u001b[1;33m)\u001b[0m\u001b[1;33m\u001b[0m\u001b[0m\n",
      "\u001b[1;32mD:\\Anaconda2\\lib\\site-packages\\sklearn\\svm\\classes.py\u001b[0m in \u001b[0;36mfit\u001b[1;34m(self, X, y, sample_weight)\u001b[0m\n\u001b[0;32m    235\u001b[0m             \u001b[0mself\u001b[0m\u001b[1;33m.\u001b[0m\u001b[0mclass_weight\u001b[0m\u001b[1;33m,\u001b[0m \u001b[0mself\u001b[0m\u001b[1;33m.\u001b[0m\u001b[0mpenalty\u001b[0m\u001b[1;33m,\u001b[0m \u001b[0mself\u001b[0m\u001b[1;33m.\u001b[0m\u001b[0mdual\u001b[0m\u001b[1;33m,\u001b[0m \u001b[0mself\u001b[0m\u001b[1;33m.\u001b[0m\u001b[0mverbose\u001b[0m\u001b[1;33m,\u001b[0m\u001b[1;33m\u001b[0m\u001b[0m\n\u001b[0;32m    236\u001b[0m             \u001b[0mself\u001b[0m\u001b[1;33m.\u001b[0m\u001b[0mmax_iter\u001b[0m\u001b[1;33m,\u001b[0m \u001b[0mself\u001b[0m\u001b[1;33m.\u001b[0m\u001b[0mtol\u001b[0m\u001b[1;33m,\u001b[0m \u001b[0mself\u001b[0m\u001b[1;33m.\u001b[0m\u001b[0mrandom_state\u001b[0m\u001b[1;33m,\u001b[0m \u001b[0mself\u001b[0m\u001b[1;33m.\u001b[0m\u001b[0mmulti_class\u001b[0m\u001b[1;33m,\u001b[0m\u001b[1;33m\u001b[0m\u001b[0m\n\u001b[1;32m--> 237\u001b[1;33m             self.loss, sample_weight=sample_weight)\n\u001b[0m\u001b[0;32m    238\u001b[0m \u001b[1;33m\u001b[0m\u001b[0m\n\u001b[0;32m    239\u001b[0m         \u001b[1;32mif\u001b[0m \u001b[0mself\u001b[0m\u001b[1;33m.\u001b[0m\u001b[0mmulti_class\u001b[0m \u001b[1;33m==\u001b[0m \u001b[1;34m\"crammer_singer\"\u001b[0m \u001b[1;32mand\u001b[0m \u001b[0mlen\u001b[0m\u001b[1;33m(\u001b[0m\u001b[0mself\u001b[0m\u001b[1;33m.\u001b[0m\u001b[0mclasses_\u001b[0m\u001b[1;33m)\u001b[0m \u001b[1;33m==\u001b[0m \u001b[1;36m2\u001b[0m\u001b[1;33m:\u001b[0m\u001b[1;33m\u001b[0m\u001b[0m\n",
      "\u001b[1;32mD:\\Anaconda2\\lib\\site-packages\\sklearn\\svm\\base.py\u001b[0m in \u001b[0;36m_fit_liblinear\u001b[1;34m(X, y, C, fit_intercept, intercept_scaling, class_weight, penalty, dual, verbose, max_iter, tol, random_state, multi_class, loss, epsilon, sample_weight)\u001b[0m\n\u001b[0;32m    921\u001b[0m         \u001b[0mX\u001b[0m\u001b[1;33m,\u001b[0m \u001b[0my_ind\u001b[0m\u001b[1;33m,\u001b[0m \u001b[0msp\u001b[0m\u001b[1;33m.\u001b[0m\u001b[0misspmatrix\u001b[0m\u001b[1;33m(\u001b[0m\u001b[0mX\u001b[0m\u001b[1;33m)\u001b[0m\u001b[1;33m,\u001b[0m \u001b[0msolver_type\u001b[0m\u001b[1;33m,\u001b[0m \u001b[0mtol\u001b[0m\u001b[1;33m,\u001b[0m \u001b[0mbias\u001b[0m\u001b[1;33m,\u001b[0m \u001b[0mC\u001b[0m\u001b[1;33m,\u001b[0m\u001b[1;33m\u001b[0m\u001b[0m\n\u001b[0;32m    922\u001b[0m         \u001b[0mclass_weight_\u001b[0m\u001b[1;33m,\u001b[0m \u001b[0mmax_iter\u001b[0m\u001b[1;33m,\u001b[0m \u001b[0mrnd\u001b[0m\u001b[1;33m.\u001b[0m\u001b[0mrandint\u001b[0m\u001b[1;33m(\u001b[0m\u001b[0mnp\u001b[0m\u001b[1;33m.\u001b[0m\u001b[0miinfo\u001b[0m\u001b[1;33m(\u001b[0m\u001b[1;34m'i'\u001b[0m\u001b[1;33m)\u001b[0m\u001b[1;33m.\u001b[0m\u001b[0mmax\u001b[0m\u001b[1;33m)\u001b[0m\u001b[1;33m,\u001b[0m\u001b[1;33m\u001b[0m\u001b[0m\n\u001b[1;32m--> 923\u001b[1;33m         epsilon, sample_weight)\n\u001b[0m\u001b[0;32m    924\u001b[0m     \u001b[1;31m# Regarding rnd.randint(..) in the above signature:\u001b[0m\u001b[1;33m\u001b[0m\u001b[1;33m\u001b[0m\u001b[0m\n\u001b[0;32m    925\u001b[0m     \u001b[1;31m# seed for srand in range [0..INT_MAX); due to limitations in Numpy\u001b[0m\u001b[1;33m\u001b[0m\u001b[1;33m\u001b[0m\u001b[0m\n",
      "\u001b[1;31mKeyboardInterrupt\u001b[0m: "
     ]
    }
   ],
   "source": [
    "# Basic Linear Support Vector machine \n",
    "cross_validate_model(LinearSVC(), e_X_train, e_y_train, name='linearSVC', verbose=True)"
   ]
  },
  {
   "cell_type": "markdown",
   "metadata": {},
   "source": [
    "The standard linearSVC produces very poor results.  It has extremely low recall, and predicts the `Aspen` and `Ponderosa Pine` categories very poorly.  We will take a look at how it does on scaled data, as SVC's generally require some standardization.  The recommended scaling is mean 0 var 1, but we will see how the existing ones do."
   ]
  },
  {
   "cell_type": "code",
   "execution_count": 14,
   "metadata": {
    "ExecuteTime": {
     "end_time": "2019-04-07T08:48:14.961514Z",
     "start_time": "2019-04-07T08:46:42.659723Z"
    }
   },
   "outputs": [
    {
     "ename": "KeyboardInterrupt",
     "evalue": "",
     "output_type": "error",
     "traceback": [
      "\u001b[1;31m---------------------------------------------------------------------------\u001b[0m",
      "\u001b[1;31mKeyboardInterrupt\u001b[0m                         Traceback (most recent call last)",
      "\u001b[1;32m<ipython-input-14-c241ff554058>\u001b[0m in \u001b[0;36m<module>\u001b[1;34m()\u001b[0m\n\u001b[0;32m      1\u001b[0m \u001b[1;31m# Basic Linear Support Vector machine\u001b[0m\u001b[1;33m\u001b[0m\u001b[1;33m\u001b[0m\u001b[0m\n\u001b[1;32m----> 2\u001b[1;33m \u001b[0mcross_validate_model\u001b[0m\u001b[1;33m(\u001b[0m\u001b[0mLinearSVC\u001b[0m\u001b[1;33m(\u001b[0m\u001b[1;33m)\u001b[0m\u001b[1;33m,\u001b[0m \u001b[0me_X_train\u001b[0m\u001b[1;33m,\u001b[0m \u001b[0me_y_train\u001b[0m\u001b[1;33m,\u001b[0m \u001b[0mname\u001b[0m\u001b[1;33m=\u001b[0m\u001b[1;34m'linearSVC, Unscaled'\u001b[0m\u001b[1;33m)\u001b[0m\u001b[1;33m\u001b[0m\u001b[0m\n\u001b[0m\u001b[0;32m      3\u001b[0m \u001b[0mcross_validate_model\u001b[0m\u001b[1;33m(\u001b[0m\u001b[0mLinearSVC\u001b[0m\u001b[1;33m(\u001b[0m\u001b[1;33m)\u001b[0m\u001b[1;33m,\u001b[0m \u001b[0mmm_neg1_1_scaled_df\u001b[0m\u001b[1;33m,\u001b[0m \u001b[0me_y_train\u001b[0m\u001b[1;33m,\u001b[0m \u001b[0mname\u001b[0m\u001b[1;33m=\u001b[0m\u001b[1;34m'linearSVC, MinMax scaled [-1,1]'\u001b[0m\u001b[1;33m)\u001b[0m\u001b[1;33m\u001b[0m\u001b[0m\n\u001b[0;32m      4\u001b[0m \u001b[0mscaled_X_train\u001b[0m \u001b[1;33m=\u001b[0m \u001b[0mscale\u001b[0m\u001b[1;33m(\u001b[0m\u001b[0me_X_train\u001b[0m\u001b[1;33m)\u001b[0m\u001b[1;33m\u001b[0m\u001b[0m\n\u001b[0;32m      5\u001b[0m scaled_X_train_df = pd.DataFrame(data=scaled_X_train,    # values\n",
      "\u001b[1;32m<ipython-input-1-94601248170f>\u001b[0m in \u001b[0;36mcross_validate_model\u001b[1;34m(model, X, y, name, folds, verbose, return_dict)\u001b[0m\n\u001b[0;32m     17\u001b[0m             \u001b[0mfoldXValid\u001b[0m\u001b[1;33m,\u001b[0m \u001b[0mfoldYValid\u001b[0m \u001b[1;33m=\u001b[0m \u001b[0mX\u001b[0m\u001b[1;33m.\u001b[0m\u001b[0miloc\u001b[0m\u001b[1;33m[\u001b[0m\u001b[0mvalid_indexes\u001b[0m\u001b[1;33m]\u001b[0m\u001b[1;33m,\u001b[0m \u001b[0my\u001b[0m\u001b[1;33m.\u001b[0m\u001b[0miloc\u001b[0m\u001b[1;33m[\u001b[0m\u001b[0mvalid_indexes\u001b[0m\u001b[1;33m]\u001b[0m\u001b[1;33m\u001b[0m\u001b[0m\n\u001b[0;32m     18\u001b[0m \u001b[1;33m\u001b[0m\u001b[0m\n\u001b[1;32m---> 19\u001b[1;33m             \u001b[0mmodel\u001b[0m\u001b[1;33m.\u001b[0m\u001b[0mfit\u001b[0m\u001b[1;33m(\u001b[0m\u001b[0mfoldXTrain\u001b[0m\u001b[1;33m,\u001b[0m \u001b[0mfoldYTrain\u001b[0m\u001b[1;33m)\u001b[0m\u001b[1;33m\u001b[0m\u001b[0m\n\u001b[0m\u001b[0;32m     20\u001b[0m             \u001b[0mfoldValidPred\u001b[0m \u001b[1;33m=\u001b[0m \u001b[0mmodel\u001b[0m\u001b[1;33m.\u001b[0m\u001b[0mpredict\u001b[0m\u001b[1;33m(\u001b[0m\u001b[0mfoldXValid\u001b[0m\u001b[1;33m)\u001b[0m\u001b[1;33m\u001b[0m\u001b[0m\n\u001b[0;32m     21\u001b[0m             \u001b[0mfoldReport\u001b[0m \u001b[1;33m=\u001b[0m \u001b[0mmetrics\u001b[0m\u001b[1;33m.\u001b[0m\u001b[0mclassification_report\u001b[0m\u001b[1;33m(\u001b[0m\u001b[0mfoldValidPred\u001b[0m\u001b[1;33m,\u001b[0m \u001b[0mfoldYValid\u001b[0m\u001b[1;33m,\u001b[0m \u001b[0moutput_dict\u001b[0m\u001b[1;33m=\u001b[0m\u001b[1;32mTrue\u001b[0m\u001b[1;33m)\u001b[0m\u001b[1;33m\u001b[0m\u001b[0m\n",
      "\u001b[1;32mD:\\Anaconda2\\lib\\site-packages\\sklearn\\svm\\classes.py\u001b[0m in \u001b[0;36mfit\u001b[1;34m(self, X, y, sample_weight)\u001b[0m\n\u001b[0;32m    235\u001b[0m             \u001b[0mself\u001b[0m\u001b[1;33m.\u001b[0m\u001b[0mclass_weight\u001b[0m\u001b[1;33m,\u001b[0m \u001b[0mself\u001b[0m\u001b[1;33m.\u001b[0m\u001b[0mpenalty\u001b[0m\u001b[1;33m,\u001b[0m \u001b[0mself\u001b[0m\u001b[1;33m.\u001b[0m\u001b[0mdual\u001b[0m\u001b[1;33m,\u001b[0m \u001b[0mself\u001b[0m\u001b[1;33m.\u001b[0m\u001b[0mverbose\u001b[0m\u001b[1;33m,\u001b[0m\u001b[1;33m\u001b[0m\u001b[0m\n\u001b[0;32m    236\u001b[0m             \u001b[0mself\u001b[0m\u001b[1;33m.\u001b[0m\u001b[0mmax_iter\u001b[0m\u001b[1;33m,\u001b[0m \u001b[0mself\u001b[0m\u001b[1;33m.\u001b[0m\u001b[0mtol\u001b[0m\u001b[1;33m,\u001b[0m \u001b[0mself\u001b[0m\u001b[1;33m.\u001b[0m\u001b[0mrandom_state\u001b[0m\u001b[1;33m,\u001b[0m \u001b[0mself\u001b[0m\u001b[1;33m.\u001b[0m\u001b[0mmulti_class\u001b[0m\u001b[1;33m,\u001b[0m\u001b[1;33m\u001b[0m\u001b[0m\n\u001b[1;32m--> 237\u001b[1;33m             self.loss, sample_weight=sample_weight)\n\u001b[0m\u001b[0;32m    238\u001b[0m \u001b[1;33m\u001b[0m\u001b[0m\n\u001b[0;32m    239\u001b[0m         \u001b[1;32mif\u001b[0m \u001b[0mself\u001b[0m\u001b[1;33m.\u001b[0m\u001b[0mmulti_class\u001b[0m \u001b[1;33m==\u001b[0m \u001b[1;34m\"crammer_singer\"\u001b[0m \u001b[1;32mand\u001b[0m \u001b[0mlen\u001b[0m\u001b[1;33m(\u001b[0m\u001b[0mself\u001b[0m\u001b[1;33m.\u001b[0m\u001b[0mclasses_\u001b[0m\u001b[1;33m)\u001b[0m \u001b[1;33m==\u001b[0m \u001b[1;36m2\u001b[0m\u001b[1;33m:\u001b[0m\u001b[1;33m\u001b[0m\u001b[0m\n",
      "\u001b[1;32mD:\\Anaconda2\\lib\\site-packages\\sklearn\\svm\\base.py\u001b[0m in \u001b[0;36m_fit_liblinear\u001b[1;34m(X, y, C, fit_intercept, intercept_scaling, class_weight, penalty, dual, verbose, max_iter, tol, random_state, multi_class, loss, epsilon, sample_weight)\u001b[0m\n\u001b[0;32m    921\u001b[0m         \u001b[0mX\u001b[0m\u001b[1;33m,\u001b[0m \u001b[0my_ind\u001b[0m\u001b[1;33m,\u001b[0m \u001b[0msp\u001b[0m\u001b[1;33m.\u001b[0m\u001b[0misspmatrix\u001b[0m\u001b[1;33m(\u001b[0m\u001b[0mX\u001b[0m\u001b[1;33m)\u001b[0m\u001b[1;33m,\u001b[0m \u001b[0msolver_type\u001b[0m\u001b[1;33m,\u001b[0m \u001b[0mtol\u001b[0m\u001b[1;33m,\u001b[0m \u001b[0mbias\u001b[0m\u001b[1;33m,\u001b[0m \u001b[0mC\u001b[0m\u001b[1;33m,\u001b[0m\u001b[1;33m\u001b[0m\u001b[0m\n\u001b[0;32m    922\u001b[0m         \u001b[0mclass_weight_\u001b[0m\u001b[1;33m,\u001b[0m \u001b[0mmax_iter\u001b[0m\u001b[1;33m,\u001b[0m \u001b[0mrnd\u001b[0m\u001b[1;33m.\u001b[0m\u001b[0mrandint\u001b[0m\u001b[1;33m(\u001b[0m\u001b[0mnp\u001b[0m\u001b[1;33m.\u001b[0m\u001b[0miinfo\u001b[0m\u001b[1;33m(\u001b[0m\u001b[1;34m'i'\u001b[0m\u001b[1;33m)\u001b[0m\u001b[1;33m.\u001b[0m\u001b[0mmax\u001b[0m\u001b[1;33m)\u001b[0m\u001b[1;33m,\u001b[0m\u001b[1;33m\u001b[0m\u001b[0m\n\u001b[1;32m--> 923\u001b[1;33m         epsilon, sample_weight)\n\u001b[0m\u001b[0;32m    924\u001b[0m     \u001b[1;31m# Regarding rnd.randint(..) in the above signature:\u001b[0m\u001b[1;33m\u001b[0m\u001b[1;33m\u001b[0m\u001b[0m\n\u001b[0;32m    925\u001b[0m     \u001b[1;31m# seed for srand in range [0..INT_MAX); due to limitations in Numpy\u001b[0m\u001b[1;33m\u001b[0m\u001b[1;33m\u001b[0m\u001b[0m\n",
      "\u001b[1;31mKeyboardInterrupt\u001b[0m: "
     ]
    }
   ],
   "source": [
    "# Basic Linear Support Vector machine \n",
    "cross_validate_model(LinearSVC(), e_X_train, e_y_train, name='linearSVC, Unscaled')\n",
    "cross_validate_model(LinearSVC(), mm_neg1_1_scaled_df, e_y_train, name='linearSVC, MinMax scaled [-1,1]')\n",
    "scaled_X_train = scale(e_X_train)\n",
    "scaled_X_train_df = pd.DataFrame(data=scaled_X_train,    # values\n",
    "                         columns=e_X_train.columns)  # 1st row as the column names\n",
    "cross_validate_model(LinearSVC(), scaled_X_train_df, e_y_train, name='linearSVC, Scaled to mean=0, variance=1')"
   ]
  },
  {
   "cell_type": "markdown",
   "metadata": {},
   "source": [
    "It turns out that using scaled features made `LinearSVC` recall significantly better at the expense of precision. It's worth noting that standardized features improved our SVC's f1-score by 27%. However, when comparing the overall performance against KNN, the improved performance is still well below other models."
   ]
  },
  {
   "cell_type": "markdown",
   "metadata": {},
   "source": [
    "<a id=\"rf\"> </a>\n",
    "### Random Forest"
   ]
  },
  {
   "cell_type": "markdown",
   "metadata": {},
   "source": [
    "Random Forests can be extremely effective on datasets with a myriad of features that each contain a little information.  The base data set contains 54 features, 44 of which are binary, making the generation of trees relatively painless. In addition, Random Forest models are fairly interpretable, as the most salient features can be extracted from the model to get a better understand of how each class is being predicted"
   ]
  },
  {
   "cell_type": "code",
   "execution_count": 15,
   "metadata": {
    "ExecuteTime": {
     "end_time": "2019-04-07T08:48:14.979530Z",
     "start_time": "2019-04-07T08:45:06.407Z"
    }
   },
   "outputs": [
    {
     "name": "stdout",
     "output_type": "stream",
     "text": [
      "Model: RandomForest, with 5 folds\n",
      "\t\t\tSpruce/Fir           | precision:  0.76 | recall:  0.75 | f1-score:  0.75 | \n",
      "\t\t\tLodgepole Pine       | precision:  0.66 | recall:  0.76 | f1-score:  0.70 | \n",
      "\t\t\tPonderosa Pine       | precision:  0.82 | recall:  0.80 | f1-score:  0.81 | \n",
      "\t\t\tCottonwood/Willow    | precision:  0.97 | recall:  0.93 | f1-score:  0.95 | \n",
      "\t\t\tAspen                | precision:  0.93 | recall:  0.89 | f1-score:  0.91 | \n",
      "\t\t\tDouglas Fir          | precision:  0.82 | recall:  0.84 | f1-score:  0.83 | \n",
      "\t\t\tKrummholz            | precision:  0.96 | recall:  0.94 | f1-score:  0.95 | \n",
      "\t\t\tmacro avg            | precision:  0.84 | recall:  0.84 | f1-score:  0.84 | \n",
      "\t\t\tmicro avg            | precision:  0.84 | recall:  0.84 | f1-score:  0.84 | \n",
      "\t\t\tweighted avg         | precision:  0.85 | recall:  0.84 | f1-score:  0.85 | \n",
      "\n"
     ]
    },
    {
     "data": {
      "text/plain": [
       "{'micro avg': {'precision': [0.8425110132158591,\n",
       "   0.8486407053637032,\n",
       "   0.8467475192943771,\n",
       "   0.838662256523337,\n",
       "   0.8481617647058823],\n",
       "  'recall': [0.8425110132158591,\n",
       "   0.8486407053637032,\n",
       "   0.8467475192943771,\n",
       "   0.838662256523337,\n",
       "   0.8481617647058823],\n",
       "  'f1-score': [0.8425110132158591,\n",
       "   0.8486407053637032,\n",
       "   0.8467475192943771,\n",
       "   0.838662256523337,\n",
       "   0.8481617647058823]},\n",
       " 'macro avg': {'precision': [0.8421701927793431,\n",
       "   0.8483565311597528,\n",
       "   0.8464676786752857,\n",
       "   0.8383811243511612,\n",
       "   0.8477826898928187],\n",
       "  'recall': [0.8405272509085495,\n",
       "   0.8452252760199009,\n",
       "   0.8443042113268933,\n",
       "   0.8376547707530254,\n",
       "   0.8460207934746823],\n",
       "  'f1-score': [0.8401215228992119,\n",
       "   0.845551709862919,\n",
       "   0.8448260934587308,\n",
       "   0.8376851794820697,\n",
       "   0.8460255971491514]},\n",
       " 'weighted avg': {'precision': [0.849036066989762,\n",
       "   0.8565804105670003,\n",
       "   0.8511456233175126,\n",
       "   0.8406724957469778,\n",
       "   0.8533760485472223],\n",
       "  'recall': [0.8425110132158591,\n",
       "   0.8486407053637032,\n",
       "   0.8467475192943771,\n",
       "   0.838662256523337,\n",
       "   0.8481617647058823],\n",
       "  'f1-score': [0.8446346590352961,\n",
       "   0.8514542346010302,\n",
       "   0.84840830559017,\n",
       "   0.8393495750458219,\n",
       "   0.8499727490588809]},\n",
       " '1': {'precision': [0.7590673575129534,\n",
       "   0.7688311688311689,\n",
       "   0.7766233766233767,\n",
       "   0.7480519480519481,\n",
       "   0.7428571428571429],\n",
       "  'recall': [0.7590673575129534,\n",
       "   0.751269035532995,\n",
       "   0.7456359102244389,\n",
       "   0.7422680412371134,\n",
       "   0.727735368956743],\n",
       "  'f1-score': [0.7590673575129534,\n",
       "   0.7599486521181001,\n",
       "   0.7608142493638678,\n",
       "   0.7451487710219923,\n",
       "   0.7352185089974294]},\n",
       " '2': {'precision': [0.6606683804627249,\n",
       "   0.6246786632390745,\n",
       "   0.6580976863753213,\n",
       "   0.6786632390745502,\n",
       "   0.6649484536082474],\n",
       "  'recall': [0.7811550151975684,\n",
       "   0.745398773006135,\n",
       "   0.7335243553008596,\n",
       "   0.7415730337078652,\n",
       "   0.7771084337349398],\n",
       "  'f1-score': [0.7158774373259053,\n",
       "   0.6797202797202797,\n",
       "   0.6937669376693766,\n",
       "   0.7087248322147651,\n",
       "   0.7166666666666667]},\n",
       " '3': {'precision': [0.841025641025641,\n",
       "   0.8128205128205128,\n",
       "   0.8282051282051283,\n",
       "   0.8,\n",
       "   0.8358974358974359],\n",
       "  'recall': [0.780952380952381,\n",
       "   0.8298429319371727,\n",
       "   0.8324742268041238,\n",
       "   0.7722772277227723,\n",
       "   0.8049382716049382],\n",
       "  'f1-score': [0.8098765432098766,\n",
       "   0.8212435233160621,\n",
       "   0.8303341902313626,\n",
       "   0.7858942065491185,\n",
       "   0.820125786163522]},\n",
       " '4': {'precision': [0.9485861182519281,\n",
       "   0.974293059125964,\n",
       "   0.974293059125964,\n",
       "   0.9640102827763496,\n",
       "   0.9691516709511568],\n",
       "  'recall': [0.9318181818181818,\n",
       "   0.9088729016786571,\n",
       "   0.9199029126213593,\n",
       "   0.9445843828715366,\n",
       "   0.9448621553884712],\n",
       "  'f1-score': [0.9401273885350319,\n",
       "   0.9404466501240695,\n",
       "   0.9463171036204743,\n",
       "   0.9541984732824428,\n",
       "   0.9568527918781726]},\n",
       " '5': {'precision': [0.9360613810741688,\n",
       "   0.9564102564102565,\n",
       "   0.8871794871794871,\n",
       "   0.8974358974358975,\n",
       "   0.9512820512820512],\n",
       "  'recall': [0.8693586698337292,\n",
       "   0.8714953271028038,\n",
       "   0.8804071246819338,\n",
       "   0.9283819628647215,\n",
       "   0.8939759036144578],\n",
       "  'f1-score': [0.9014778325123152,\n",
       "   0.9119804400977995,\n",
       "   0.8837803320561941,\n",
       "   0.9126466753585398,\n",
       "   0.9217391304347825]},\n",
       " '6': {'precision': [0.7829457364341085,\n",
       "   0.834625322997416,\n",
       "   0.8238341968911918,\n",
       "   0.8264248704663213,\n",
       "   0.8290155440414507],\n",
       "  'recall': [0.8324175824175825,\n",
       "   0.847769028871391,\n",
       "   0.8594594594594595,\n",
       "   0.7994987468671679,\n",
       "   0.8556149732620321],\n",
       "  'f1-score': [0.8069241011984021,\n",
       "   0.8411458333333334,\n",
       "   0.8412698412698413,\n",
       "   0.8127388535031848,\n",
       "   0.8421052631578947]},\n",
       " '7': {'precision': [0.9668367346938775,\n",
       "   0.9668367346938775,\n",
       "   0.9770408163265306,\n",
       "   0.9540816326530612,\n",
       "   0.9413265306122449],\n",
       "  'recall': [0.928921568627451,\n",
       "   0.9619289340101523,\n",
       "   0.9387254901960784,\n",
       "   0.935,\n",
       "   0.917910447761194],\n",
       "  'f1-score': [0.9475,\n",
       "   0.9643765903307889,\n",
       "   0.9574999999999999,\n",
       "   0.9444444444444445,\n",
       "   0.929471032745592]}}"
      ]
     },
     "execution_count": 15,
     "metadata": {},
     "output_type": "execute_result"
    }
   ],
   "source": [
    "cross_validate_model(RandomForestClassifier(), e_X_train, e_y_train, name='RandomForest', verbose=True)"
   ]
  },
  {
   "cell_type": "markdown",
   "metadata": {},
   "source": [
    "The base `RandomForestClassifier` performs quite well out of the box, achieving a respectable 84% across all of our metrics.  Lets quickly evaluate wether we can improve on this baseline using standardized data."
   ]
  },
  {
   "cell_type": "code",
   "execution_count": 16,
   "metadata": {
    "ExecuteTime": {
     "end_time": "2019-04-07T08:48:14.981526Z",
     "start_time": "2019-04-07T08:45:06.413Z"
    },
    "scrolled": false
   },
   "outputs": [
    {
     "name": "stdout",
     "output_type": "stream",
     "text": [
      "Model: RandomForest, MinMax scaled [0,1]\n",
      "\t\t\tweighted avg         | precision:  0.85 | recall:  0.84 | f1-score:  0.85 | \n",
      "Model: RandomForest\n",
      "\t\t\tweighted avg         | precision:  0.85 | recall:  0.84 | f1-score:  0.85 | \n"
     ]
    }
   ],
   "source": [
    "# Testing on the [0,1] scaled data\n",
    "cross_validate_model(RandomForestClassifier(n_estimators = 10), mm_0_1_scaled_df, e_y_train, name='RandomForest, MinMax scaled [0,1]')\n",
    "# Testing on the unscaled data again for reference\n",
    "cross_validate_model(RandomForestClassifier(n_estimators = 10), e_X_train, e_y_train, name='RandomForest')"
   ]
  },
  {
   "cell_type": "markdown",
   "metadata": {},
   "source": [
    "As expected, the scaled features did not have an effect on the performance of the model.  Random Forests are made up of trees that only deal with a few features at a time, and do not care if a feature goes from [0,1] or [0,10000].  The tree's decision boundaries are set based on whatever scale that particular feature is at. Since the baseline random forest generated strong results, we will continue to explore a few variations on the random forest, such as Gradient Boosting and Ensemble methods, to see if we can make any improvements to performance."
   ]
  },
  {
   "cell_type": "markdown",
   "metadata": {},
   "source": [
    "<a id=\"gradient\"> </a>\n",
    "### Gradient Boosting"
   ]
  },
  {
   "cell_type": "markdown",
   "metadata": {},
   "source": [
    "Gradient Boosted Decision Trees are a cousin to the Random Forests.  When a Random Forest is built, it builds many trees in parallel trying to maximize the information gain of each tree.  In Gradient Boosting, trees are made iteratively with each tree attempting to correct the errors of the previous one.  On the whole, Gradient Boosted Decision Trees tend to perform a little better than Random Forests, while maintaining similarly nice properties when it comes to interpretability."
   ]
  },
  {
   "cell_type": "code",
   "execution_count": 17,
   "metadata": {
    "scrolled": false
   },
   "outputs": [
    {
     "ename": "KeyboardInterrupt",
     "evalue": "",
     "output_type": "error",
     "traceback": [
      "\u001b[1;31m---------------------------------------------------------------------------\u001b[0m",
      "\u001b[1;31mKeyboardInterrupt\u001b[0m                         Traceback (most recent call last)",
      "\u001b[1;32m<ipython-input-17-865c43a5dc90>\u001b[0m in \u001b[0;36m<module>\u001b[1;34m()\u001b[0m\n\u001b[1;32m----> 1\u001b[1;33m \u001b[0mcross_validate_model\u001b[0m\u001b[1;33m(\u001b[0m\u001b[0mXGBClassifier\u001b[0m\u001b[1;33m(\u001b[0m\u001b[0mmax_depth\u001b[0m\u001b[1;33m=\u001b[0m\u001b[1;36m10\u001b[0m\u001b[1;33m,\u001b[0m \u001b[0mlearning_rate\u001b[0m\u001b[1;33m=\u001b[0m\u001b[1;36m0.3\u001b[0m\u001b[1;33m,\u001b[0m \u001b[0mn_estimators\u001b[0m\u001b[1;33m=\u001b[0m\u001b[1;36m200\u001b[0m\u001b[1;33m,\u001b[0m \u001b[0mn_jobs\u001b[0m\u001b[1;33m=\u001b[0m\u001b[1;36m4\u001b[0m\u001b[1;33m)\u001b[0m\u001b[1;33m,\u001b[0m \u001b[0me_X_train\u001b[0m\u001b[1;33m,\u001b[0m \u001b[0me_y_train\u001b[0m\u001b[1;33m,\u001b[0m \u001b[0mname\u001b[0m\u001b[1;33m=\u001b[0m\u001b[1;34mf'Gradient Boosted Decision Trees (XGBoost)'\u001b[0m\u001b[1;33m)\u001b[0m\u001b[1;33m\u001b[0m\u001b[0m\n\u001b[0m",
      "\u001b[1;32m<ipython-input-1-94601248170f>\u001b[0m in \u001b[0;36mcross_validate_model\u001b[1;34m(model, X, y, name, folds, verbose, return_dict)\u001b[0m\n\u001b[0;32m     17\u001b[0m             \u001b[0mfoldXValid\u001b[0m\u001b[1;33m,\u001b[0m \u001b[0mfoldYValid\u001b[0m \u001b[1;33m=\u001b[0m \u001b[0mX\u001b[0m\u001b[1;33m.\u001b[0m\u001b[0miloc\u001b[0m\u001b[1;33m[\u001b[0m\u001b[0mvalid_indexes\u001b[0m\u001b[1;33m]\u001b[0m\u001b[1;33m,\u001b[0m \u001b[0my\u001b[0m\u001b[1;33m.\u001b[0m\u001b[0miloc\u001b[0m\u001b[1;33m[\u001b[0m\u001b[0mvalid_indexes\u001b[0m\u001b[1;33m]\u001b[0m\u001b[1;33m\u001b[0m\u001b[0m\n\u001b[0;32m     18\u001b[0m \u001b[1;33m\u001b[0m\u001b[0m\n\u001b[1;32m---> 19\u001b[1;33m             \u001b[0mmodel\u001b[0m\u001b[1;33m.\u001b[0m\u001b[0mfit\u001b[0m\u001b[1;33m(\u001b[0m\u001b[0mfoldXTrain\u001b[0m\u001b[1;33m,\u001b[0m \u001b[0mfoldYTrain\u001b[0m\u001b[1;33m)\u001b[0m\u001b[1;33m\u001b[0m\u001b[0m\n\u001b[0m\u001b[0;32m     20\u001b[0m             \u001b[0mfoldValidPred\u001b[0m \u001b[1;33m=\u001b[0m \u001b[0mmodel\u001b[0m\u001b[1;33m.\u001b[0m\u001b[0mpredict\u001b[0m\u001b[1;33m(\u001b[0m\u001b[0mfoldXValid\u001b[0m\u001b[1;33m)\u001b[0m\u001b[1;33m\u001b[0m\u001b[0m\n\u001b[0;32m     21\u001b[0m             \u001b[0mfoldReport\u001b[0m \u001b[1;33m=\u001b[0m \u001b[0mmetrics\u001b[0m\u001b[1;33m.\u001b[0m\u001b[0mclassification_report\u001b[0m\u001b[1;33m(\u001b[0m\u001b[0mfoldValidPred\u001b[0m\u001b[1;33m,\u001b[0m \u001b[0mfoldYValid\u001b[0m\u001b[1;33m,\u001b[0m \u001b[0moutput_dict\u001b[0m\u001b[1;33m=\u001b[0m\u001b[1;32mTrue\u001b[0m\u001b[1;33m)\u001b[0m\u001b[1;33m\u001b[0m\u001b[0m\n",
      "\u001b[1;32mD:\\Anaconda2\\lib\\site-packages\\xgboost\\sklearn.py\u001b[0m in \u001b[0;36mfit\u001b[1;34m(self, X, y, sample_weight, eval_set, eval_metric, early_stopping_rounds, verbose, xgb_model, sample_weight_eval_set, callbacks)\u001b[0m\n\u001b[0;32m    711\u001b[0m                               \u001b[0mevals_result\u001b[0m\u001b[1;33m=\u001b[0m\u001b[0mevals_result\u001b[0m\u001b[1;33m,\u001b[0m \u001b[0mobj\u001b[0m\u001b[1;33m=\u001b[0m\u001b[0mobj\u001b[0m\u001b[1;33m,\u001b[0m \u001b[0mfeval\u001b[0m\u001b[1;33m=\u001b[0m\u001b[0mfeval\u001b[0m\u001b[1;33m,\u001b[0m\u001b[1;33m\u001b[0m\u001b[0m\n\u001b[0;32m    712\u001b[0m                               \u001b[0mverbose_eval\u001b[0m\u001b[1;33m=\u001b[0m\u001b[0mverbose\u001b[0m\u001b[1;33m,\u001b[0m \u001b[0mxgb_model\u001b[0m\u001b[1;33m=\u001b[0m\u001b[0mxgb_model\u001b[0m\u001b[1;33m,\u001b[0m\u001b[1;33m\u001b[0m\u001b[0m\n\u001b[1;32m--> 713\u001b[1;33m                               callbacks=callbacks)\n\u001b[0m\u001b[0;32m    714\u001b[0m \u001b[1;33m\u001b[0m\u001b[0m\n\u001b[0;32m    715\u001b[0m         \u001b[0mself\u001b[0m\u001b[1;33m.\u001b[0m\u001b[0mobjective\u001b[0m \u001b[1;33m=\u001b[0m \u001b[0mxgb_options\u001b[0m\u001b[1;33m[\u001b[0m\u001b[1;34m\"objective\"\u001b[0m\u001b[1;33m]\u001b[0m\u001b[1;33m\u001b[0m\u001b[0m\n",
      "\u001b[1;32mD:\\Anaconda2\\lib\\site-packages\\xgboost\\training.py\u001b[0m in \u001b[0;36mtrain\u001b[1;34m(params, dtrain, num_boost_round, evals, obj, feval, maximize, early_stopping_rounds, evals_result, verbose_eval, xgb_model, callbacks, learning_rates)\u001b[0m\n\u001b[0;32m    214\u001b[0m                            \u001b[0mevals\u001b[0m\u001b[1;33m=\u001b[0m\u001b[0mevals\u001b[0m\u001b[1;33m,\u001b[0m\u001b[1;33m\u001b[0m\u001b[0m\n\u001b[0;32m    215\u001b[0m                            \u001b[0mobj\u001b[0m\u001b[1;33m=\u001b[0m\u001b[0mobj\u001b[0m\u001b[1;33m,\u001b[0m \u001b[0mfeval\u001b[0m\u001b[1;33m=\u001b[0m\u001b[0mfeval\u001b[0m\u001b[1;33m,\u001b[0m\u001b[1;33m\u001b[0m\u001b[0m\n\u001b[1;32m--> 216\u001b[1;33m                            xgb_model=xgb_model, callbacks=callbacks)\n\u001b[0m\u001b[0;32m    217\u001b[0m \u001b[1;33m\u001b[0m\u001b[0m\n\u001b[0;32m    218\u001b[0m \u001b[1;33m\u001b[0m\u001b[0m\n",
      "\u001b[1;32mD:\\Anaconda2\\lib\\site-packages\\xgboost\\training.py\u001b[0m in \u001b[0;36m_train_internal\u001b[1;34m(params, dtrain, num_boost_round, evals, obj, feval, xgb_model, callbacks)\u001b[0m\n\u001b[0;32m     72\u001b[0m         \u001b[1;31m# Skip the first update if it is a recovery step.\u001b[0m\u001b[1;33m\u001b[0m\u001b[1;33m\u001b[0m\u001b[0m\n\u001b[0;32m     73\u001b[0m         \u001b[1;32mif\u001b[0m \u001b[0mversion\u001b[0m \u001b[1;33m%\u001b[0m \u001b[1;36m2\u001b[0m \u001b[1;33m==\u001b[0m \u001b[1;36m0\u001b[0m\u001b[1;33m:\u001b[0m\u001b[1;33m\u001b[0m\u001b[0m\n\u001b[1;32m---> 74\u001b[1;33m             \u001b[0mbst\u001b[0m\u001b[1;33m.\u001b[0m\u001b[0mupdate\u001b[0m\u001b[1;33m(\u001b[0m\u001b[0mdtrain\u001b[0m\u001b[1;33m,\u001b[0m \u001b[0mi\u001b[0m\u001b[1;33m,\u001b[0m \u001b[0mobj\u001b[0m\u001b[1;33m)\u001b[0m\u001b[1;33m\u001b[0m\u001b[0m\n\u001b[0m\u001b[0;32m     75\u001b[0m             \u001b[0mbst\u001b[0m\u001b[1;33m.\u001b[0m\u001b[0msave_rabit_checkpoint\u001b[0m\u001b[1;33m(\u001b[0m\u001b[1;33m)\u001b[0m\u001b[1;33m\u001b[0m\u001b[0m\n\u001b[0;32m     76\u001b[0m             \u001b[0mversion\u001b[0m \u001b[1;33m+=\u001b[0m \u001b[1;36m1\u001b[0m\u001b[1;33m\u001b[0m\u001b[0m\n",
      "\u001b[1;32mD:\\Anaconda2\\lib\\site-packages\\xgboost\\core.py\u001b[0m in \u001b[0;36mupdate\u001b[1;34m(self, dtrain, iteration, fobj)\u001b[0m\n\u001b[0;32m   1108\u001b[0m         \u001b[1;32mif\u001b[0m \u001b[0mfobj\u001b[0m \u001b[1;32mis\u001b[0m \u001b[1;32mNone\u001b[0m\u001b[1;33m:\u001b[0m\u001b[1;33m\u001b[0m\u001b[0m\n\u001b[0;32m   1109\u001b[0m             _check_call(_LIB.XGBoosterUpdateOneIter(self.handle, ctypes.c_int(iteration),\n\u001b[1;32m-> 1110\u001b[1;33m                                                     dtrain.handle))\n\u001b[0m\u001b[0;32m   1111\u001b[0m         \u001b[1;32melse\u001b[0m\u001b[1;33m:\u001b[0m\u001b[1;33m\u001b[0m\u001b[0m\n\u001b[0;32m   1112\u001b[0m             \u001b[0mpred\u001b[0m \u001b[1;33m=\u001b[0m \u001b[0mself\u001b[0m\u001b[1;33m.\u001b[0m\u001b[0mpredict\u001b[0m\u001b[1;33m(\u001b[0m\u001b[0mdtrain\u001b[0m\u001b[1;33m)\u001b[0m\u001b[1;33m\u001b[0m\u001b[0m\n",
      "\u001b[1;31mKeyboardInterrupt\u001b[0m: "
     ]
    }
   ],
   "source": [
    "cross_validate_model(XGBClassifier(max_depth=10, learning_rate=0.3, n_estimators=200, n_jobs=4), e_X_train, e_y_train, name=f'Gradient Boosted Decision Trees (XGBoost)')"
   ]
  },
  {
   "cell_type": "markdown",
   "metadata": {},
   "source": [
    "Gradient Boosting has proven to be the most effective model so far, achieving the very high score of 0.88 across the board.  This is a pretty great result because classifying new data using a `XGBClassifier` is extremely quick despite the long time it takes to train a new model. \n",
    "\n",
    "Since random forest models are intepretable, we can gaugue the relative importance of the input variables to get a better sense of which variables are most useful in predicting `Cover_Type` (See below).  As expected the `Elevation` of an area is the most important predictor of `Cover_Type`.  Following the elevation of an area, we see the distances to roadways, fire points, and water all making significant contributions to the model."
   ]
  },
  {
   "cell_type": "code",
   "execution_count": 18,
   "metadata": {
    "ExecuteTime": {
     "end_time": "2019-04-07T08:48:14.986527Z",
     "start_time": "2019-04-07T08:45:06.427Z"
    }
   },
   "outputs": [
    {
     "name": "stdout",
     "output_type": "stream",
     "text": [
      "Random Forest Top 10 Features\n",
      "\n",
      "1. Elevation (0.168353)\n",
      "2. Elevation_Of_Hydrology (0.156830)\n",
      "3. Mean_Distance_To_Feature (0.075489)\n",
      "4. Horizontal_Distance_To_Roadways (0.060340)\n",
      "5. Horizontal_Distance_To_Fire_Points (0.048855)\n",
      "6. Euclidean_Distance_To_Hydrology (0.046145)\n",
      "7. Horizontal_Distance_To_Hydrology (0.040809)\n",
      "8. Aspect (0.040489)\n",
      "9. Hillshade_9am (0.038867)\n",
      "10. Hillshade_3pm (0.035661)\n",
      "\n",
      "Mean Feature Importance 0.017857\n"
     ]
    },
    {
     "data": {
      "image/png": "[encoded data removed]",
      "text/plain": [
       "<Figure size 432x288 with 1 Axes>"
      ]
     },
     "metadata": {},
     "output_type": "display_data"
    }
   ],
   "source": [
    "# Generate Initial RF and identify most important features\n",
    "initialRF = RandomForestClassifier(n_estimators = 10)\n",
    "initialRF.fit(e_X_train, e_y_train)\n",
    "FeatImportance(initialRF, e_X_train, \"Random Forest\")"
   ]
  },
  {
   "cell_type": "markdown",
   "metadata": {},
   "source": [
    "<a id=ensemble> </a>\n",
    "### Ensemble Model"
   ]
  },
  {
   "cell_type": "markdown",
   "metadata": {},
   "source": [
    "\n",
    "#### Approach\n",
    "All machine learning models have their strengths and weaknesses. For example, most of the models we tested did well when classifying Cottonwood/Willow, but poorly for Lodgepole Pine data points. One way to help mitigate this problem is to combine several models into an ensemble model. An ensemble model allows multiple individual models to predict a data point, and then uses the results from all of them to decide what the true label is. We had three models that performed well during training; the Random Forest model, the K Nearest Neighbors model, and the Gradient Boosted Decision Trees (XGBoost) model. We chose to use 'soft' voting, which uses the sum of the predicted probabilities across all of the models to decide on a final lable. This type of voting is very good when the models that are used in the ensemble excel at predicting different types of labels. By combining the three models, we can expect to improve our performance.\n",
    "\n",
    "While identifying the best possible models for an ensemble, we also tested various additional models suchs as MLP Classifier, Ada Boost, Quadratic Discriminant Analysis and Gaussian Process Classifier using a gridseach for best possible hyper paramerts. We fount that none of the other model combinations could improve the KNN, Random Forest and XGBoost ensemble. The original code has been moved to helper functions to remove clutters."
   ]
  },
  {
   "cell_type": "code",
   "execution_count": 19,
   "metadata": {},
   "outputs": [
    {
     "name": "stdout",
     "output_type": "stream",
     "text": [
      "Model: ensemble, with 5 folds\n",
      "\t\t\tSpruce/Fir           | precision:  0.77 | recall:  0.81 | f1-score:  0.79 | \n",
      "\t\t\tLodgepole Pine       | precision:  0.71 | recall:  0.80 | f1-score:  0.75 | \n",
      "\t\t\tPonderosa Pine       | precision:  0.85 | recall:  0.90 | f1-score:  0.88 | \n",
      "\t\t\tCottonwood/Willow    | precision:  0.98 | recall:  0.94 | f1-score:  0.96 | \n",
      "\t\t\tAspen                | precision:  0.97 | recall:  0.90 | f1-score:  0.93 | \n",
      "\t\t\tDouglas Fir          | precision:  0.91 | recall:  0.87 | f1-score:  0.89 | \n",
      "\t\t\tKrummholz            | precision:  0.98 | recall:  0.94 | f1-score:  0.96 | \n",
      "\t\t\tmacro avg            | precision:  0.88 | recall:  0.88 | f1-score:  0.88 | \n",
      "\t\t\tmicro avg            | precision:  0.88 | recall:  0.88 | f1-score:  0.88 | \n",
      "\t\t\tweighted avg         | precision:  0.89 | recall:  0.88 | f1-score:  0.88 | \n",
      "\n"
     ]
    },
    {
     "data": {
      "text/plain": [
       "{'micro avg': {'precision': [0.8777533039647577,\n",
       "   0.8750918442321822,\n",
       "   0.8849687614847482,\n",
       "   0.886438809261301,\n",
       "   0.8856617647058823],\n",
       "  'recall': [0.8777533039647577,\n",
       "   0.8750918442321822,\n",
       "   0.8849687614847482,\n",
       "   0.886438809261301,\n",
       "   0.8856617647058823],\n",
       "  'f1-score': [0.8777533039647577,\n",
       "   0.8750918442321822,\n",
       "   0.8849687614847482,\n",
       "   0.886438809261301,\n",
       "   0.8856617647058822]},\n",
       " 'macro avg': {'precision': [0.8774980412659626,\n",
       "   0.874825754119527,\n",
       "   0.8846689553350647,\n",
       "   0.8861664956125594,\n",
       "   0.8853079206610358],\n",
       "  'recall': [0.8755690359897815,\n",
       "   0.8722237734739643,\n",
       "   0.8826690188533173,\n",
       "   0.8838285278091725,\n",
       "   0.8829760134680803],\n",
       "  'f1-score': [0.8751540346987652,\n",
       "   0.8716093259603956,\n",
       "   0.8830143247421555,\n",
       "   0.8843010579669726,\n",
       "   0.8829197258599605]},\n",
       " 'weighted avg': {'precision': [0.8850982492772986,\n",
       "   0.88529829143655,\n",
       "   0.8897038157871124,\n",
       "   0.8915735748192952,\n",
       "   0.8929966828634428],\n",
       "  'recall': [0.8777533039647577,\n",
       "   0.8750918442321822,\n",
       "   0.8849687614847482,\n",
       "   0.886438809261301,\n",
       "   0.8856617647058823],\n",
       "  'f1-score': [0.8801311102715004,\n",
       "   0.8783425653697402,\n",
       "   0.8866864035388383,\n",
       "   0.8883474729082745,\n",
       "   0.88813090545532]},\n",
       " '1': {'precision': [0.7772020725388601,\n",
       "   0.7662337662337663,\n",
       "   0.7636363636363637,\n",
       "   0.7714285714285715,\n",
       "   0.7480519480519481],\n",
       "  'recall': [0.7978723404255319,\n",
       "   0.8038147138964578,\n",
       "   0.8212290502793296,\n",
       "   0.8181818181818182,\n",
       "   0.8112676056338028],\n",
       "  'f1-score': [0.7874015748031497,\n",
       "   0.7845744680851064,\n",
       "   0.791386271870794,\n",
       "   0.7941176470588236,\n",
       "   0.7783783783783784]},\n",
       " '2': {'precision': [0.6915167095115681,\n",
       "   0.6632390745501285,\n",
       "   0.7557840616966581,\n",
       "   0.7223650385604113,\n",
       "   0.711340206185567],\n",
       "  'recall': [0.8201219512195121,\n",
       "   0.78419452887538,\n",
       "   0.8010899182561307,\n",
       "   0.8121387283236994,\n",
       "   0.8070175438596491],\n",
       "  'f1-score': [0.7503486750348675,\n",
       "   0.7186629526462396,\n",
       "   0.7777777777777778,\n",
       "   0.764625850340136,\n",
       "   0.7561643835616438]},\n",
       " '3': {'precision': [0.8435897435897436,\n",
       "   0.8256410256410256,\n",
       "   0.8512820512820513,\n",
       "   0.8769230769230769,\n",
       "   0.8717948717948718],\n",
       "  'recall': [0.8867924528301887,\n",
       "   0.9147727272727273,\n",
       "   0.9021739130434783,\n",
       "   0.8746803069053708,\n",
       "   0.9115281501340483],\n",
       "  'f1-score': [0.8646517739816031,\n",
       "   0.8679245283018868,\n",
       "   0.8759894459102903,\n",
       "   0.8758002560819461,\n",
       "   0.8912188728702489]},\n",
       " '4': {'precision': [0.9691516709511568,\n",
       "   0.987146529562982,\n",
       "   0.9820051413881749,\n",
       "   0.9820051413881749,\n",
       "   0.9768637532133676],\n",
       "  'recall': [0.9425,\n",
       "   0.9142857142857143,\n",
       "   0.9271844660194175,\n",
       "   0.955,\n",
       "   0.9620253164556962],\n",
       "  'f1-score': [0.9556400506970849,\n",
       "   0.9493201483312732,\n",
       "   0.9538077403245944,\n",
       "   0.9683143219264893,\n",
       "   0.9693877551020408]},\n",
       " '5': {'precision': [0.9744245524296675,\n",
       "   0.9846153846153847,\n",
       "   0.9615384615384616,\n",
       "   0.958974358974359,\n",
       "   0.9743589743589743],\n",
       "  'recall': [0.8860465116279069,\n",
       "   0.8747152619589977,\n",
       "   0.9124087591240876,\n",
       "   0.9166666666666666,\n",
       "   0.8878504672897196],\n",
       "  'f1-score': [0.928136419001218,\n",
       "   0.9264173703256937,\n",
       "   0.9363295880149812,\n",
       "   0.9373433583959899,\n",
       "   0.9290953545232272]},\n",
       " '6': {'precision': [0.9095607235142119,\n",
       "   0.917312661498708,\n",
       "   0.8911917098445595,\n",
       "   0.9093264248704663,\n",
       "   0.9300518134715026],\n",
       "  'recall': [0.8523002421307506,\n",
       "   0.8679706601466992,\n",
       "   0.8775510204081632,\n",
       "   0.8688118811881188,\n",
       "   0.8799019607843137],\n",
       "  'f1-score': [0.88,\n",
       "   0.8919597989949748,\n",
       "   0.884318766066838,\n",
       "   0.8886075949367088,\n",
       "   0.9042821158690176]},\n",
       " '7': {'precision': [0.9770408163265306,\n",
       "   0.9795918367346939,\n",
       "   0.9872448979591837,\n",
       "   0.9821428571428571,\n",
       "   0.9846938775510204],\n",
       "  'recall': [0.9433497536945813,\n",
       "   0.9458128078817734,\n",
       "   0.937046004842615,\n",
       "   0.941320293398533,\n",
       "   0.9212410501193318],\n",
       "  'f1-score': [0.9598997493734336,\n",
       "   0.9624060150375939,\n",
       "   0.9614906832298137,\n",
       "   0.961298377028714,\n",
       "   0.9519112207151665]}}"
      ]
     },
     "execution_count": 19,
     "metadata": {},
     "output_type": "execute_result"
    }
   ],
   "source": [
    "clf2 = RandomForestClassifier(n_estimators = 10)\n",
    "clf4 = KNeighborsClassifier(n_neighbors=3)\n",
    "clf5 = XGBClassifier(max_depth=10, learning_rate=0.3, n_estimators=200, n_jobs=4)\n",
    "\n",
    "eClf = VotingClassifier(\n",
    "    estimators=[\n",
    "        ('Randomforest', clf2), \n",
    "        ('3 Nearest Neighbors', clf4), \n",
    "        ('XGBoost', clf5)\n",
    "    ], \n",
    "    voting='soft', \n",
    "    n_jobs=-1)\n",
    "\n",
    "cross_validate_model(eClf, e_X_train, e_y_train, name='ensemble', verbose=True)\n",
    "\n"
   ]
  },
  {
   "cell_type": "code",
   "execution_count": 34,
   "metadata": {},
   "outputs": [
    {
     "name": "stdout",
     "output_type": "stream",
     "text": [
      "Model: Gradient Boosted Decision Trees (XGBoost), with 5 folds\n",
      "\t\t\tSpruce/Fir           | precision:  0.76 | recall:  0.80 | f1-score:  0.78 | \n",
      "\t\t\tLodgepole Pine       | precision:  0.71 | recall:  0.78 | f1-score:  0.74 | \n",
      "\t\t\tPonderosa Pine       | precision:  0.85 | recall:  0.88 | f1-score:  0.87 | \n",
      "\t\t\tCottonwood/Willow    | precision:  0.97 | recall:  0.95 | f1-score:  0.96 | \n",
      "\t\t\tAspen                | precision:  0.96 | recall:  0.90 | f1-score:  0.93 | \n",
      "\t\t\tDouglas Fir          | precision:  0.90 | recall:  0.86 | f1-score:  0.88 | \n",
      "\t\t\tKrummholz            | precision:  0.98 | recall:  0.94 | f1-score:  0.96 | \n",
      "\t\t\tmacro avg            | precision:  0.88 | recall:  0.87 | f1-score:  0.87 | \n",
      "\t\t\tmicro avg            | precision:  0.88 | recall:  0.88 | f1-score:  0.88 | \n",
      "\t\t\tweighted avg         | precision:  0.88 | recall:  0.88 | f1-score:  0.88 | \n",
      "\n"
     ]
    }
   ],
   "source": [
    "cross_validate_model(XGBClassifier(max_depth=10, learning_rate=0.3, n_estimators=200, n_jobs=4), e_X_train, e_y_train, name=f'Gradient Boosted Decision Trees (XGBoost)', verbose=True)"
   ]
  },
  {
   "cell_type": "markdown",
   "metadata": {},
   "source": [
    "#### Results\n",
    "We do see the improvement that we expected by combining the models. A few items to note, it that the ensemble is almost perfect when predicting Cottonwood/Willow, and had a remarkable improvement on Lodgepole Pine over even the XGBoost model. In cases where a given model is unsure about a data point, none of the predicted probabilities are very high, the other models can out vote it if they are more sure of the result. Ensemble models have diminishing returns though, meaning that adding more and more models will provide less and less addition benefit. Using our top 3 models appears to be a sweet spot in the number and quality of the models."
   ]
  },
  {
   "cell_type": "markdown",
   "metadata": {},
   "source": [
    "## Master Model Result List"
   ]
  },
  {
   "cell_type": "code",
   "execution_count": 20,
   "metadata": {
    "ExecuteTime": {
     "end_time": "2019-04-07T08:48:14.989525Z",
     "start_time": "2019-04-07T08:45:06.771Z"
    }
   },
   "outputs": [
    {
     "name": "stdout",
     "output_type": "stream",
     "text": [
      "Model: LogisticRegression\n",
      "\t\tFinal                | precision:  0.67 | recall:  0.66 | f1-score:  0.67 | \n",
      "Model: GaussianNB\n",
      "\t\tFinal                | precision:  0.79 | recall:  0.62 | f1-score:  0.67 | \n",
      "Model: 3 Nearest Neighbors\n",
      "\t\tFinal                | precision:  0.85 | recall:  0.84 | f1-score:  0.84 | \n",
      "Model: linearSVC\n",
      "\t\tFinal                | precision:  0.82 | recall:  0.33 | f1-score:  0.42 | \n",
      "Model: RandomForest\n",
      "\t\tFinal                | precision:  0.84 | recall:  0.84 | f1-score:  0.84 | \n"
     ]
    },
    {
     "ename": "KeyboardInterrupt",
     "evalue": "",
     "output_type": "error",
     "traceback": [
      "\u001b[1;31m---------------------------------------------------------------------------\u001b[0m",
      "\u001b[1;31mKeyboardInterrupt\u001b[0m                         Traceback (most recent call last)",
      "\u001b[1;32m<ipython-input-20-1bdd914eec78>\u001b[0m in \u001b[0;36m<module>\u001b[1;34m()\u001b[0m\n\u001b[0;32m     10\u001b[0m     \u001b[0mtest_model\u001b[0m\u001b[1;33m(\u001b[0m\u001b[0mRandomForestClassifier\u001b[0m\u001b[1;33m(\u001b[0m\u001b[0mn_estimators\u001b[0m \u001b[1;33m=\u001b[0m \u001b[1;36m10\u001b[0m\u001b[1;33m)\u001b[0m\u001b[1;33m,\u001b[0m \u001b[0me_X_train\u001b[0m\u001b[1;33m,\u001b[0m \u001b[0me_y_train\u001b[0m\u001b[1;33m,\u001b[0m \u001b[0me_X_test\u001b[0m\u001b[1;33m,\u001b[0m \u001b[0me_y_test\u001b[0m\u001b[1;33m,\u001b[0m \u001b[0mname\u001b[0m\u001b[1;33m=\u001b[0m\u001b[1;34m'RandomForest'\u001b[0m\u001b[1;33m)\u001b[0m\u001b[1;33m\u001b[0m\u001b[0m\n\u001b[0;32m     11\u001b[0m \u001b[1;33m\u001b[0m\u001b[0m\n\u001b[1;32m---> 12\u001b[1;33m     \u001b[0mtest_model\u001b[0m\u001b[1;33m(\u001b[0m\u001b[0mXGBClassifier\u001b[0m\u001b[1;33m(\u001b[0m\u001b[0mmax_depth\u001b[0m\u001b[1;33m=\u001b[0m\u001b[1;36m10\u001b[0m\u001b[1;33m,\u001b[0m \u001b[0mlearning_rate\u001b[0m\u001b[1;33m=\u001b[0m\u001b[1;36m0.3\u001b[0m\u001b[1;33m,\u001b[0m \u001b[0mn_estimators\u001b[0m\u001b[1;33m=\u001b[0m\u001b[1;36m200\u001b[0m\u001b[1;33m,\u001b[0m \u001b[0mn_jobs\u001b[0m\u001b[1;33m=\u001b[0m\u001b[1;36m4\u001b[0m\u001b[1;33m)\u001b[0m\u001b[1;33m,\u001b[0m \u001b[0me_X_train\u001b[0m\u001b[1;33m,\u001b[0m \u001b[0me_y_train\u001b[0m\u001b[1;33m,\u001b[0m \u001b[0me_X_test\u001b[0m\u001b[1;33m,\u001b[0m \u001b[0me_y_test\u001b[0m\u001b[1;33m,\u001b[0m \u001b[0mname\u001b[0m\u001b[1;33m=\u001b[0m\u001b[1;34mf'Gradient Boosted Decision Trees (XGBoost)'\u001b[0m\u001b[1;33m)\u001b[0m\u001b[1;33m\u001b[0m\u001b[0m\n\u001b[0m\u001b[0;32m     13\u001b[0m \u001b[1;33m\u001b[0m\u001b[0m\n\u001b[0;32m     14\u001b[0m     \u001b[0mtest_model\u001b[0m\u001b[1;33m(\u001b[0m\u001b[0meClf\u001b[0m\u001b[1;33m,\u001b[0m \u001b[0me_X_train\u001b[0m\u001b[1;33m,\u001b[0m \u001b[0me_y_train\u001b[0m\u001b[1;33m,\u001b[0m \u001b[0me_X_test\u001b[0m\u001b[1;33m,\u001b[0m \u001b[0me_y_test\u001b[0m\u001b[1;33m,\u001b[0m \u001b[0mname\u001b[0m\u001b[1;33m=\u001b[0m\u001b[1;34mf'Ensemble Model'\u001b[0m\u001b[1;33m)\u001b[0m\u001b[1;33m\u001b[0m\u001b[0m\n",
      "\u001b[1;32m<ipython-input-1-5c7477991fcf>\u001b[0m in \u001b[0;36mtest_model\u001b[1;34m(model, X_train, y_train, X_test, y_test, name, verbose, return_dict)\u001b[0m\n\u001b[0;32m      1\u001b[0m \u001b[1;32mdef\u001b[0m \u001b[0mtest_model\u001b[0m\u001b[1;33m(\u001b[0m\u001b[0mmodel\u001b[0m\u001b[1;33m,\u001b[0m \u001b[0mX_train\u001b[0m\u001b[1;33m,\u001b[0m \u001b[0my_train\u001b[0m\u001b[1;33m,\u001b[0m \u001b[0mX_test\u001b[0m\u001b[1;33m,\u001b[0m \u001b[0my_test\u001b[0m\u001b[1;33m,\u001b[0m \u001b[0mname\u001b[0m\u001b[1;33m=\u001b[0m\u001b[1;34m\"model\"\u001b[0m\u001b[1;33m,\u001b[0m \u001b[0mverbose\u001b[0m\u001b[1;33m=\u001b[0m\u001b[1;32mFalse\u001b[0m\u001b[1;33m,\u001b[0m \u001b[0mreturn_dict\u001b[0m\u001b[1;33m=\u001b[0m\u001b[1;32mFalse\u001b[0m\u001b[1;33m)\u001b[0m\u001b[1;33m:\u001b[0m\u001b[1;33m\u001b[0m\u001b[0m\n\u001b[0;32m      2\u001b[0m     \u001b[1;32mwith\u001b[0m \u001b[0mwarnings\u001b[0m\u001b[1;33m.\u001b[0m\u001b[0mcatch_warnings\u001b[0m\u001b[1;33m(\u001b[0m\u001b[0mrecord\u001b[0m\u001b[1;33m=\u001b[0m\u001b[1;32mFalse\u001b[0m\u001b[1;33m)\u001b[0m\u001b[1;33m:\u001b[0m\u001b[1;33m\u001b[0m\u001b[0m\n\u001b[1;32m----> 3\u001b[1;33m         \u001b[0mmodel\u001b[0m\u001b[1;33m.\u001b[0m\u001b[0mfit\u001b[0m\u001b[1;33m(\u001b[0m\u001b[0mX_train\u001b[0m\u001b[1;33m,\u001b[0m \u001b[0my_train\u001b[0m\u001b[1;33m)\u001b[0m\u001b[1;33m\u001b[0m\u001b[0m\n\u001b[0m\u001b[0;32m      4\u001b[0m         \u001b[0mtestPrediction\u001b[0m \u001b[1;33m=\u001b[0m \u001b[0mmodel\u001b[0m\u001b[1;33m.\u001b[0m\u001b[0mpredict\u001b[0m\u001b[1;33m(\u001b[0m\u001b[0mX_test\u001b[0m\u001b[1;33m)\u001b[0m\u001b[1;33m\u001b[0m\u001b[0m\n\u001b[0;32m      5\u001b[0m         \u001b[0mtestReport\u001b[0m \u001b[1;33m=\u001b[0m \u001b[0mmetrics\u001b[0m\u001b[1;33m.\u001b[0m\u001b[0mclassification_report\u001b[0m\u001b[1;33m(\u001b[0m\u001b[0mtestPrediction\u001b[0m\u001b[1;33m,\u001b[0m \u001b[0my_test\u001b[0m\u001b[1;33m,\u001b[0m \u001b[0moutput_dict\u001b[0m\u001b[1;33m=\u001b[0m\u001b[1;32mTrue\u001b[0m\u001b[1;33m)\u001b[0m\u001b[1;33m\u001b[0m\u001b[0m\n",
      "\u001b[1;32mD:\\Anaconda2\\lib\\site-packages\\xgboost\\sklearn.py\u001b[0m in \u001b[0;36mfit\u001b[1;34m(self, X, y, sample_weight, eval_set, eval_metric, early_stopping_rounds, verbose, xgb_model, sample_weight_eval_set, callbacks)\u001b[0m\n\u001b[0;32m    711\u001b[0m                               \u001b[0mevals_result\u001b[0m\u001b[1;33m=\u001b[0m\u001b[0mevals_result\u001b[0m\u001b[1;33m,\u001b[0m \u001b[0mobj\u001b[0m\u001b[1;33m=\u001b[0m\u001b[0mobj\u001b[0m\u001b[1;33m,\u001b[0m \u001b[0mfeval\u001b[0m\u001b[1;33m=\u001b[0m\u001b[0mfeval\u001b[0m\u001b[1;33m,\u001b[0m\u001b[1;33m\u001b[0m\u001b[0m\n\u001b[0;32m    712\u001b[0m                               \u001b[0mverbose_eval\u001b[0m\u001b[1;33m=\u001b[0m\u001b[0mverbose\u001b[0m\u001b[1;33m,\u001b[0m \u001b[0mxgb_model\u001b[0m\u001b[1;33m=\u001b[0m\u001b[0mxgb_model\u001b[0m\u001b[1;33m,\u001b[0m\u001b[1;33m\u001b[0m\u001b[0m\n\u001b[1;32m--> 713\u001b[1;33m                               callbacks=callbacks)\n\u001b[0m\u001b[0;32m    714\u001b[0m \u001b[1;33m\u001b[0m\u001b[0m\n\u001b[0;32m    715\u001b[0m         \u001b[0mself\u001b[0m\u001b[1;33m.\u001b[0m\u001b[0mobjective\u001b[0m \u001b[1;33m=\u001b[0m \u001b[0mxgb_options\u001b[0m\u001b[1;33m[\u001b[0m\u001b[1;34m\"objective\"\u001b[0m\u001b[1;33m]\u001b[0m\u001b[1;33m\u001b[0m\u001b[0m\n",
      "\u001b[1;32mD:\\Anaconda2\\lib\\site-packages\\xgboost\\training.py\u001b[0m in \u001b[0;36mtrain\u001b[1;34m(params, dtrain, num_boost_round, evals, obj, feval, maximize, early_stopping_rounds, evals_result, verbose_eval, xgb_model, callbacks, learning_rates)\u001b[0m\n\u001b[0;32m    214\u001b[0m                            \u001b[0mevals\u001b[0m\u001b[1;33m=\u001b[0m\u001b[0mevals\u001b[0m\u001b[1;33m,\u001b[0m\u001b[1;33m\u001b[0m\u001b[0m\n\u001b[0;32m    215\u001b[0m                            \u001b[0mobj\u001b[0m\u001b[1;33m=\u001b[0m\u001b[0mobj\u001b[0m\u001b[1;33m,\u001b[0m \u001b[0mfeval\u001b[0m\u001b[1;33m=\u001b[0m\u001b[0mfeval\u001b[0m\u001b[1;33m,\u001b[0m\u001b[1;33m\u001b[0m\u001b[0m\n\u001b[1;32m--> 216\u001b[1;33m                            xgb_model=xgb_model, callbacks=callbacks)\n\u001b[0m\u001b[0;32m    217\u001b[0m \u001b[1;33m\u001b[0m\u001b[0m\n\u001b[0;32m    218\u001b[0m \u001b[1;33m\u001b[0m\u001b[0m\n",
      "\u001b[1;32mD:\\Anaconda2\\lib\\site-packages\\xgboost\\training.py\u001b[0m in \u001b[0;36m_train_internal\u001b[1;34m(params, dtrain, num_boost_round, evals, obj, feval, xgb_model, callbacks)\u001b[0m\n\u001b[0;32m     72\u001b[0m         \u001b[1;31m# Skip the first update if it is a recovery step.\u001b[0m\u001b[1;33m\u001b[0m\u001b[1;33m\u001b[0m\u001b[0m\n\u001b[0;32m     73\u001b[0m         \u001b[1;32mif\u001b[0m \u001b[0mversion\u001b[0m \u001b[1;33m%\u001b[0m \u001b[1;36m2\u001b[0m \u001b[1;33m==\u001b[0m \u001b[1;36m0\u001b[0m\u001b[1;33m:\u001b[0m\u001b[1;33m\u001b[0m\u001b[0m\n\u001b[1;32m---> 74\u001b[1;33m             \u001b[0mbst\u001b[0m\u001b[1;33m.\u001b[0m\u001b[0mupdate\u001b[0m\u001b[1;33m(\u001b[0m\u001b[0mdtrain\u001b[0m\u001b[1;33m,\u001b[0m \u001b[0mi\u001b[0m\u001b[1;33m,\u001b[0m \u001b[0mobj\u001b[0m\u001b[1;33m)\u001b[0m\u001b[1;33m\u001b[0m\u001b[0m\n\u001b[0m\u001b[0;32m     75\u001b[0m             \u001b[0mbst\u001b[0m\u001b[1;33m.\u001b[0m\u001b[0msave_rabit_checkpoint\u001b[0m\u001b[1;33m(\u001b[0m\u001b[1;33m)\u001b[0m\u001b[1;33m\u001b[0m\u001b[0m\n\u001b[0;32m     76\u001b[0m             \u001b[0mversion\u001b[0m \u001b[1;33m+=\u001b[0m \u001b[1;36m1\u001b[0m\u001b[1;33m\u001b[0m\u001b[0m\n",
      "\u001b[1;32mD:\\Anaconda2\\lib\\site-packages\\xgboost\\core.py\u001b[0m in \u001b[0;36mupdate\u001b[1;34m(self, dtrain, iteration, fobj)\u001b[0m\n\u001b[0;32m   1108\u001b[0m         \u001b[1;32mif\u001b[0m \u001b[0mfobj\u001b[0m \u001b[1;32mis\u001b[0m \u001b[1;32mNone\u001b[0m\u001b[1;33m:\u001b[0m\u001b[1;33m\u001b[0m\u001b[0m\n\u001b[0;32m   1109\u001b[0m             _check_call(_LIB.XGBoosterUpdateOneIter(self.handle, ctypes.c_int(iteration),\n\u001b[1;32m-> 1110\u001b[1;33m                                                     dtrain.handle))\n\u001b[0m\u001b[0;32m   1111\u001b[0m         \u001b[1;32melse\u001b[0m\u001b[1;33m:\u001b[0m\u001b[1;33m\u001b[0m\u001b[0m\n\u001b[0;32m   1112\u001b[0m             \u001b[0mpred\u001b[0m \u001b[1;33m=\u001b[0m \u001b[0mself\u001b[0m\u001b[1;33m.\u001b[0m\u001b[0mpredict\u001b[0m\u001b[1;33m(\u001b[0m\u001b[0mdtrain\u001b[0m\u001b[1;33m)\u001b[0m\u001b[1;33m\u001b[0m\u001b[0m\n",
      "\u001b[1;31mKeyboardInterrupt\u001b[0m: "
     ]
    }
   ],
   "source": [
    "with warnings.catch_warnings(record=False):\n",
    "    test_model(LogisticRegression(), e_X_train, e_y_train, e_X_test, e_y_test, name=\"LogisticRegression\")\n",
    "    \n",
    "    test_model(GaussianNB(), e_X_train, e_y_train, e_X_test, e_y_test, name=\"GaussianNB\")\n",
    "    \n",
    "    test_model(KNeighborsClassifier(n_neighbors=3), e_X_train, e_y_train, e_X_test, e_y_test, name=\"3 Nearest Neighbors\")\n",
    "    \n",
    "    test_model(LinearSVC(), e_X_train, e_y_train, e_X_test, e_y_test, name='linearSVC')\n",
    "    \n",
    "    test_model(RandomForestClassifier(n_estimators = 10), e_X_train, e_y_train, e_X_test, e_y_test, name='RandomForest')\n",
    "    \n",
    "    test_model(XGBClassifier(max_depth=10, learning_rate=0.3, n_estimators=200, n_jobs=4), e_X_train, e_y_train, e_X_test, e_y_test, name=f'Gradient Boosted Decision Trees (XGBoost)')\n",
    "    \n",
    "    test_model(eClf, e_X_train, e_y_train, e_X_test, e_y_test, name=f'Ensemble Model')\n",
    "    "
   ]
  },
  {
   "cell_type": "markdown",
   "metadata": {},
   "source": [
    "<a id=\"results\"></a>\n",
    "    \n",
    "# Results"
   ]
  },
  {
   "cell_type": "markdown",
   "metadata": {},
   "source": [
    "Need to work on this"
   ]
  },
  {
   "cell_type": "markdown",
   "metadata": {},
   "source": [
    "### Error Analysis"
   ]
  },
  {
   "cell_type": "markdown",
   "metadata": {},
   "source": [
    "Our final result, reached a precision, recall and F-score of 89%. When we see the results in a confusion matrix, we can see that we get a Jackard similarity score of .89 with a hamming loss of .11. We also notice that model has difficulty in classifying Spure/Fir and mixing it with Lodgepole Pine and vice-versa. Our model is also misclassifying Doglas Fir with Ponderosa Pine. We need to apply further data engineering to improve accuracy of the models. We can also try to find models that can classify these covers better and try to add them in the ensemble to improve our scores"
   ]
  },
  {
   "cell_type": "code",
   "execution_count": 21,
   "metadata": {},
   "outputs": [
    {
     "data": {
      "image/png": "[encoded data removed]",
      "text/plain": [
       "<Figure size 432x288 with 2 Axes>"
      ]
     },
     "metadata": {},
     "output_type": "display_data"
    },
    {
     "name": "stdout",
     "output_type": "stream",
     "text": [
      "Jaccard similarity score: 0.89 with hamming loss of 0.11\n"
     ]
    }
   ],
   "source": [
    "eClf.fit(e_X_train, e_y_train)\n",
    "pred_y = eClf.predict(e_X_test)\n",
    "get_confusion_matrix(pred_y, e_y_test)\n",
    "print(\"Jaccard similarity score: %0.2f with hamming loss of %0.2f\"%(jaccard_similarity_score(e_y_test,pred_y),hamming_loss(e_y_test,pred_y)))"
   ]
  },
  {
   "cell_type": "markdown",
   "metadata": {},
   "source": [
    "<a id=\"conclusion\"></a>\n",
    "\n",
    "# Conclusion"
   ]
  },
  {
   "cell_type": "markdown",
   "metadata": {},
   "source": [
    "#### Most Important Features \n",
    "The story that came out of the data was, in many ways, were quire counter intuitive. At the end of the analysis, the key components.\n",
    "    1. Elevation (0.162398)\n",
    "    2. Elevation_Of_Hydrology (0.151600)\n",
    "    3. Mean_Distance_To_Feature (0.070873)\n",
    "    4. Horizontal_Distance_To_Roadways (0.070431)\n",
    "    5. Euclidean_Distance_To_Hydrology (0.057154)\n",
    "    6. Horizontal_Distance_To_Fire_Points (0.051782)\n",
    "    7. Hillshade_Noon (0.036232)\n",
    "    8. Aspect (0.035743)\n",
    "    9. Hillshade_9am (0.035738)\n",
    "    10. Vertical_Distance_To_Hydrology (0.035153)\n",
    "We were surpised that all the details of the soil type, at the end, did not really matter for this dataset. It is true in this case may not be universally true.\n",
    "\n",
    "#### What can be done to improve further \n",
    "    1. More Data Engineering\n",
    "    Due to the time restrictions and large number of variables, we were not able to extract all possibly new features that could improve the models further.\n",
    "    2. Mode model and parameter testing in ensemble\n",
    "    The processing power needed to run complex combination of models, parameters take very long time to proces. and hence we could not test all possible combinations.\n",
    "    \n"
   ]
  },
  {
   "cell_type": "markdown",
   "metadata": {},
   "source": [
    "<a id=\"annexes\"></a>\n",
    "    \n",
    "# Annexes"
   ]
  },
  {
   "cell_type": "markdown",
   "metadata": {},
   "source": [
    "<a id=\"annexA\"></a>\n",
    "\n",
    "## Annex A: Exploratory Data Analysis\n",
    "\n",
    "This appendix contains some of our exploratory data analysis. This includes the code used to generate the 4-number summaries of our data reflected in the [_About the Data_](#aboutTheData) and other summaries. The most informative portions are replicated in the main body of the report.\n",
    "\n",
    "After we load the data from the source file, we examine the basic characteristics of the dataset.\n",
    "  1. We expect to see all of the features discussed above represented in our column names\n",
    "  1. As there is no separate dataset containing the labels for our observations, we would expect to see the 'Cover_Type' variable in our data\n",
    "  1. We would expect to see a shape of (15120, 55) - the 54 features plus our label column"
   ]
  },
  {
   "cell_type": "code",
   "execution_count": 21,
   "metadata": {
    "ExecuteTime": {
     "end_time": "2019-04-07T08:48:14.994528Z",
     "start_time": "2019-04-07T08:45:08.073Z"
    }
   },
   "outputs": [
    {
     "name": "stdout",
     "output_type": "stream",
     "text": [
      "Columns: Index(['Elevation', 'Aspect', 'Slope', 'Horizontal_Distance_To_Hydrology',\n",
      "       'Vertical_Distance_To_Hydrology', 'Horizontal_Distance_To_Roadways',\n",
      "       'Hillshade_9am', 'Hillshade_Noon', 'Hillshade_3pm',\n",
      "       'Horizontal_Distance_To_Fire_Points', 'Wilderness_Area1',\n",
      "       'Wilderness_Area2', 'Wilderness_Area3', 'Wilderness_Area4',\n",
      "       'Soil_Type1', 'Soil_Type2', 'Soil_Type3', 'Soil_Type4', 'Soil_Type5',\n",
      "       'Soil_Type6', 'Soil_Type7', 'Soil_Type8', 'Soil_Type9', 'Soil_Type10',\n",
      "       'Soil_Type11', 'Soil_Type12', 'Soil_Type13', 'Soil_Type14',\n",
      "       'Soil_Type15', 'Soil_Type16', 'Soil_Type17', 'Soil_Type18',\n",
      "       'Soil_Type19', 'Soil_Type20', 'Soil_Type21', 'Soil_Type22',\n",
      "       'Soil_Type23', 'Soil_Type24', 'Soil_Type25', 'Soil_Type26',\n",
      "       'Soil_Type27', 'Soil_Type28', 'Soil_Type29', 'Soil_Type30',\n",
      "       'Soil_Type31', 'Soil_Type32', 'Soil_Type33', 'Soil_Type34',\n",
      "       'Soil_Type35', 'Soil_Type36', 'Soil_Type37', 'Soil_Type38',\n",
      "       'Soil_Type39', 'Soil_Type40', 'Cover_Type'],\n",
      "      dtype='object')\n",
      "Shape: (15120, 55)\n"
     ]
    }
   ],
   "source": [
    "print(f'Columns: {full_data.columns}')\n",
    "print(f'Shape: {full_data.shape}')"
   ]
  },
  {
   "cell_type": "markdown",
   "metadata": {},
   "source": [
    "We take a look at the first several observations to get a sense for the nature of the data."
   ]
  },
  {
   "cell_type": "code",
   "execution_count": 22,
   "metadata": {
    "ExecuteTime": {
     "end_time": "2019-04-07T08:48:14.996525Z",
     "start_time": "2019-04-07T08:45:08.249Z"
    }
   },
   "outputs": [
    {
     "data": {
      "text/html": [
       "<div>\n",
       "<style scoped>\n",
       "    .dataframe tbody tr th:only-of-type {\n",
       "        vertical-align: middle;\n",
       "    }\n",
       "\n",
       "    .dataframe tbody tr th {\n",
       "        vertical-align: top;\n",
       "    }\n",
       "\n",
       "    .dataframe thead th {\n",
       "        text-align: right;\n",
       "    }\n",
       "</style>\n",
       "<table border=\"1\" class=\"dataframe\">\n",
       "  <thead>\n",
       "    <tr style=\"text-align: right;\">\n",
       "      <th></th>\n",
       "      <th>Elevation</th>\n",
       "      <th>Aspect</th>\n",
       "      <th>Slope</th>\n",
       "      <th>Horizontal_Distance_To_Hydrology</th>\n",
       "      <th>Vertical_Distance_To_Hydrology</th>\n",
       "      <th>Horizontal_Distance_To_Roadways</th>\n",
       "      <th>Hillshade_9am</th>\n",
       "      <th>Hillshade_Noon</th>\n",
       "      <th>Hillshade_3pm</th>\n",
       "      <th>Horizontal_Distance_To_Fire_Points</th>\n",
       "      <th>...</th>\n",
       "      <th>Soil_Type31</th>\n",
       "      <th>Soil_Type32</th>\n",
       "      <th>Soil_Type33</th>\n",
       "      <th>Soil_Type34</th>\n",
       "      <th>Soil_Type35</th>\n",
       "      <th>Soil_Type36</th>\n",
       "      <th>Soil_Type37</th>\n",
       "      <th>Soil_Type38</th>\n",
       "      <th>Soil_Type39</th>\n",
       "      <th>Soil_Type40</th>\n",
       "    </tr>\n",
       "    <tr>\n",
       "      <th>Id</th>\n",
       "      <th></th>\n",
       "      <th></th>\n",
       "      <th></th>\n",
       "      <th></th>\n",
       "      <th></th>\n",
       "      <th></th>\n",
       "      <th></th>\n",
       "      <th></th>\n",
       "      <th></th>\n",
       "      <th></th>\n",
       "      <th></th>\n",
       "      <th></th>\n",
       "      <th></th>\n",
       "      <th></th>\n",
       "      <th></th>\n",
       "      <th></th>\n",
       "      <th></th>\n",
       "      <th></th>\n",
       "      <th></th>\n",
       "      <th></th>\n",
       "      <th></th>\n",
       "    </tr>\n",
       "  </thead>\n",
       "  <tbody>\n",
       "    <tr>\n",
       "      <th>1</th>\n",
       "      <td>2596</td>\n",
       "      <td>51</td>\n",
       "      <td>3</td>\n",
       "      <td>258</td>\n",
       "      <td>0</td>\n",
       "      <td>510</td>\n",
       "      <td>221</td>\n",
       "      <td>232</td>\n",
       "      <td>148</td>\n",
       "      <td>6279</td>\n",
       "      <td>...</td>\n",
       "      <td>0</td>\n",
       "      <td>0</td>\n",
       "      <td>0</td>\n",
       "      <td>0</td>\n",
       "      <td>0</td>\n",
       "      <td>0</td>\n",
       "      <td>0</td>\n",
       "      <td>0</td>\n",
       "      <td>0</td>\n",
       "      <td>0</td>\n",
       "    </tr>\n",
       "    <tr>\n",
       "      <th>2</th>\n",
       "      <td>2590</td>\n",
       "      <td>56</td>\n",
       "      <td>2</td>\n",
       "      <td>212</td>\n",
       "      <td>-6</td>\n",
       "      <td>390</td>\n",
       "      <td>220</td>\n",
       "      <td>235</td>\n",
       "      <td>151</td>\n",
       "      <td>6225</td>\n",
       "      <td>...</td>\n",
       "      <td>0</td>\n",
       "      <td>0</td>\n",
       "      <td>0</td>\n",
       "      <td>0</td>\n",
       "      <td>0</td>\n",
       "      <td>0</td>\n",
       "      <td>0</td>\n",
       "      <td>0</td>\n",
       "      <td>0</td>\n",
       "      <td>0</td>\n",
       "    </tr>\n",
       "    <tr>\n",
       "      <th>3</th>\n",
       "      <td>2804</td>\n",
       "      <td>139</td>\n",
       "      <td>9</td>\n",
       "      <td>268</td>\n",
       "      <td>65</td>\n",
       "      <td>3180</td>\n",
       "      <td>234</td>\n",
       "      <td>238</td>\n",
       "      <td>135</td>\n",
       "      <td>6121</td>\n",
       "      <td>...</td>\n",
       "      <td>0</td>\n",
       "      <td>0</td>\n",
       "      <td>0</td>\n",
       "      <td>0</td>\n",
       "      <td>0</td>\n",
       "      <td>0</td>\n",
       "      <td>0</td>\n",
       "      <td>0</td>\n",
       "      <td>0</td>\n",
       "      <td>0</td>\n",
       "    </tr>\n",
       "    <tr>\n",
       "      <th>4</th>\n",
       "      <td>2785</td>\n",
       "      <td>155</td>\n",
       "      <td>18</td>\n",
       "      <td>242</td>\n",
       "      <td>118</td>\n",
       "      <td>3090</td>\n",
       "      <td>238</td>\n",
       "      <td>238</td>\n",
       "      <td>122</td>\n",
       "      <td>6211</td>\n",
       "      <td>...</td>\n",
       "      <td>0</td>\n",
       "      <td>0</td>\n",
       "      <td>0</td>\n",
       "      <td>0</td>\n",
       "      <td>0</td>\n",
       "      <td>0</td>\n",
       "      <td>0</td>\n",
       "      <td>0</td>\n",
       "      <td>0</td>\n",
       "      <td>0</td>\n",
       "    </tr>\n",
       "    <tr>\n",
       "      <th>5</th>\n",
       "      <td>2595</td>\n",
       "      <td>45</td>\n",
       "      <td>2</td>\n",
       "      <td>153</td>\n",
       "      <td>-1</td>\n",
       "      <td>391</td>\n",
       "      <td>220</td>\n",
       "      <td>234</td>\n",
       "      <td>150</td>\n",
       "      <td>6172</td>\n",
       "      <td>...</td>\n",
       "      <td>0</td>\n",
       "      <td>0</td>\n",
       "      <td>0</td>\n",
       "      <td>0</td>\n",
       "      <td>0</td>\n",
       "      <td>0</td>\n",
       "      <td>0</td>\n",
       "      <td>0</td>\n",
       "      <td>0</td>\n",
       "      <td>0</td>\n",
       "    </tr>\n",
       "  </tbody>\n",
       "</table>\n",
       "<p>5 rows × 52 columns</p>\n",
       "</div>"
      ],
      "text/plain": [
       "    Elevation  Aspect  Slope  Horizontal_Distance_To_Hydrology  \\\n",
       "Id                                                               \n",
       "1        2596      51      3                               258   \n",
       "2        2590      56      2                               212   \n",
       "3        2804     139      9                               268   \n",
       "4        2785     155     18                               242   \n",
       "5        2595      45      2                               153   \n",
       "\n",
       "    Vertical_Distance_To_Hydrology  Horizontal_Distance_To_Roadways  \\\n",
       "Id                                                                    \n",
       "1                                0                              510   \n",
       "2                               -6                              390   \n",
       "3                               65                             3180   \n",
       "4                              118                             3090   \n",
       "5                               -1                              391   \n",
       "\n",
       "    Hillshade_9am  Hillshade_Noon  Hillshade_3pm  \\\n",
       "Id                                                 \n",
       "1             221             232            148   \n",
       "2             220             235            151   \n",
       "3             234             238            135   \n",
       "4             238             238            122   \n",
       "5             220             234            150   \n",
       "\n",
       "    Horizontal_Distance_To_Fire_Points     ...       Soil_Type31  Soil_Type32  \\\n",
       "Id                                         ...                                  \n",
       "1                                 6279     ...                 0            0   \n",
       "2                                 6225     ...                 0            0   \n",
       "3                                 6121     ...                 0            0   \n",
       "4                                 6211     ...                 0            0   \n",
       "5                                 6172     ...                 0            0   \n",
       "\n",
       "    Soil_Type33  Soil_Type34  Soil_Type35  Soil_Type36  Soil_Type37  \\\n",
       "Id                                                                    \n",
       "1             0            0            0            0            0   \n",
       "2             0            0            0            0            0   \n",
       "3             0            0            0            0            0   \n",
       "4             0            0            0            0            0   \n",
       "5             0            0            0            0            0   \n",
       "\n",
       "    Soil_Type38  Soil_Type39  Soil_Type40  \n",
       "Id                                         \n",
       "1             0            0            0  \n",
       "2             0            0            0  \n",
       "3             0            0            0  \n",
       "4             0            0            0  \n",
       "5             0            0            0  \n",
       "\n",
       "[5 rows x 52 columns]"
      ]
     },
     "execution_count": 22,
     "metadata": {},
     "output_type": "execute_result"
    }
   ],
   "source": [
    "full_features.head()"
   ]
  },
  {
   "cell_type": "markdown",
   "metadata": {},
   "source": [
    "We'll also want to get a high-level summary of each of our features."
   ]
  },
  {
   "cell_type": "code",
   "execution_count": 23,
   "metadata": {
    "ExecuteTime": {
     "end_time": "2019-04-07T08:48:14.998527Z",
     "start_time": "2019-04-07T08:45:08.415Z"
    }
   },
   "outputs": [
    {
     "name": "stdout",
     "output_type": "stream",
     "text": [
      "Column: Elevation                           | Max value:   3849 | Min value: 1863.00 | Mean: 2749.32 | Median: 2752.00\n",
      "Column: Aspect                              | Max value:    360 | Min value:    0.00 | Mean:  156.68 | Median:  126.00\n",
      "Column: Slope                               | Max value:     52 | Min value:    0.00 | Mean:   16.50 | Median:   15.00\n",
      "Column: Horizontal_Distance_To_Hydrology    | Max value:   1343 | Min value:    0.00 | Mean:  227.20 | Median:  180.00\n",
      "Column: Vertical_Distance_To_Hydrology      | Max value:    554 | Min value: -146.00 | Mean:   51.08 | Median:   32.00\n",
      "Column: Horizontal_Distance_To_Roadways     | Max value:   6890 | Min value:    0.00 | Mean: 1714.02 | Median: 1316.00\n",
      "Column: Hillshade_9am                       | Max value:    254 | Min value:    0.00 | Mean:  212.70 | Median:  220.00\n",
      "Column: Hillshade_Noon                      | Max value:    254 | Min value:   99.00 | Mean:  218.97 | Median:  223.00\n",
      "Column: Hillshade_3pm                       | Max value:    248 | Min value:    0.00 | Mean:  135.09 | Median:  138.00\n",
      "Column: Horizontal_Distance_To_Fire_Points  | Max value:   6993 | Min value:    0.00 | Mean: 1511.15 | Median: 1256.00\n",
      "Column: Wilderness_Area1                    | Max value:      1 | Min value:    0.00 | Mean:    0.24 | Median:    0.00\n",
      "Column: Wilderness_Area2                    | Max value:      1 | Min value:    0.00 | Mean:    0.03 | Median:    0.00\n",
      "Column: Wilderness_Area3                    | Max value:      1 | Min value:    0.00 | Mean:    0.42 | Median:    0.00\n",
      "Column: Wilderness_Area4                    | Max value:      1 | Min value:    0.00 | Mean:    0.31 | Median:    0.00\n",
      "Column: Soil_Type1                          | Max value:      1 | Min value:    0.00 | Mean:    0.02 | Median:    0.00\n",
      "Column: Soil_Type2                          | Max value:      1 | Min value:    0.00 | Mean:    0.04 | Median:    0.00\n",
      "Column: Soil_Type3                          | Max value:      1 | Min value:    0.00 | Mean:    0.06 | Median:    0.00\n",
      "Column: Soil_Type4                          | Max value:      1 | Min value:    0.00 | Mean:    0.06 | Median:    0.00\n",
      "Column: Soil_Type5                          | Max value:      1 | Min value:    0.00 | Mean:    0.01 | Median:    0.00\n",
      "Column: Soil_Type6                          | Max value:      1 | Min value:    0.00 | Mean:    0.04 | Median:    0.00\n",
      "Column: Soil_Type8                          | Max value:      1 | Min value:    0.00 | Mean:    0.00 | Median:    0.00\n",
      "Column: Soil_Type9                          | Max value:      1 | Min value:    0.00 | Mean:    0.00 | Median:    0.00\n",
      "Column: Soil_Type10                         | Max value:      1 | Min value:    0.00 | Mean:    0.14 | Median:    0.00\n",
      "Column: Soil_Type11                         | Max value:      1 | Min value:    0.00 | Mean:    0.03 | Median:    0.00\n",
      "Column: Soil_Type12                         | Max value:      1 | Min value:    0.00 | Mean:    0.02 | Median:    0.00\n",
      "Column: Soil_Type13                         | Max value:      1 | Min value:    0.00 | Mean:    0.03 | Median:    0.00\n",
      "Column: Soil_Type14                         | Max value:      1 | Min value:    0.00 | Mean:    0.01 | Median:    0.00\n",
      "Column: Soil_Type16                         | Max value:      1 | Min value:    0.00 | Mean:    0.01 | Median:    0.00\n",
      "Column: Soil_Type17                         | Max value:      1 | Min value:    0.00 | Mean:    0.04 | Median:    0.00\n",
      "Column: Soil_Type18                         | Max value:      1 | Min value:    0.00 | Mean:    0.00 | Median:    0.00\n",
      "Column: Soil_Type19                         | Max value:      1 | Min value:    0.00 | Mean:    0.00 | Median:    0.00\n",
      "Column: Soil_Type20                         | Max value:      1 | Min value:    0.00 | Mean:    0.01 | Median:    0.00\n",
      "Column: Soil_Type21                         | Max value:      1 | Min value:    0.00 | Mean:    0.00 | Median:    0.00\n",
      "Column: Soil_Type22                         | Max value:      1 | Min value:    0.00 | Mean:    0.02 | Median:    0.00\n",
      "Column: Soil_Type23                         | Max value:      1 | Min value:    0.00 | Mean:    0.05 | Median:    0.00\n",
      "Column: Soil_Type24                         | Max value:      1 | Min value:    0.00 | Mean:    0.02 | Median:    0.00\n",
      "Column: Soil_Type25                         | Max value:      1 | Min value:    0.00 | Mean:    0.00 | Median:    0.00\n",
      "Column: Soil_Type26                         | Max value:      1 | Min value:    0.00 | Mean:    0.00 | Median:    0.00\n",
      "Column: Soil_Type27                         | Max value:      1 | Min value:    0.00 | Mean:    0.00 | Median:    0.00\n",
      "Column: Soil_Type28                         | Max value:      1 | Min value:    0.00 | Mean:    0.00 | Median:    0.00\n",
      "Column: Soil_Type29                         | Max value:      1 | Min value:    0.00 | Mean:    0.09 | Median:    0.00\n",
      "Column: Soil_Type30                         | Max value:      1 | Min value:    0.00 | Mean:    0.05 | Median:    0.00\n",
      "Column: Soil_Type31                         | Max value:      1 | Min value:    0.00 | Mean:    0.02 | Median:    0.00\n",
      "Column: Soil_Type32                         | Max value:      1 | Min value:    0.00 | Mean:    0.05 | Median:    0.00\n",
      "Column: Soil_Type33                         | Max value:      1 | Min value:    0.00 | Mean:    0.04 | Median:    0.00\n",
      "Column: Soil_Type34                         | Max value:      1 | Min value:    0.00 | Mean:    0.00 | Median:    0.00\n",
      "Column: Soil_Type35                         | Max value:      1 | Min value:    0.00 | Mean:    0.01 | Median:    0.00\n",
      "Column: Soil_Type36                         | Max value:      1 | Min value:    0.00 | Mean:    0.00 | Median:    0.00\n",
      "Column: Soil_Type37                         | Max value:      1 | Min value:    0.00 | Mean:    0.00 | Median:    0.00\n",
      "Column: Soil_Type38                         | Max value:      1 | Min value:    0.00 | Mean:    0.05 | Median:    0.00\n",
      "Column: Soil_Type39                         | Max value:      1 | Min value:    0.00 | Mean:    0.04 | Median:    0.00\n",
      "Column: Soil_Type40                         | Max value:      1 | Min value:    0.00 | Mean:    0.03 | Median:    0.00\n"
     ]
    }
   ],
   "source": [
    "# Small function to give us a bird's-eye summary of the data\n",
    "def five_num_summary(df, column):\n",
    "    print(f'Column: {column:<35} | ' +\n",
    "          f'Max value: {np.max(df[column]):>6} | ' + \n",
    "          f'Min value: {np.min(df[column]):>7.2f} | ' +\n",
    "          f'Mean: {np.mean(df[column]):>7.2f} | ' +\n",
    "          f'Median: {np.median(df[column]):>7.2f}')\n",
    "\n",
    "for col_name in full_features.columns:\n",
    "    five_num_summary(full_features, col_name)"
   ]
  },
  {
   "cell_type": "markdown",
   "metadata": {},
   "source": [
    "### Checking Label Imbalance"
   ]
  },
  {
   "cell_type": "markdown",
   "metadata": {},
   "source": [
    "It would be useful for us to understand whether we have an imbalanced dataset (i.e., one where certain labels/categories are overrepresented relative to others.) Here we'll quickly describe our training and test labels and just make sure our classes are balanced. We can do this both graphically and numerically."
   ]
  },
  {
   "cell_type": "code",
   "execution_count": 24,
   "metadata": {
    "ExecuteTime": {
     "end_time": "2019-04-07T08:48:15.001528Z",
     "start_time": "2019-04-07T08:45:09.065Z"
    }
   },
   "outputs": [
    {
     "data": {
      "image/png": "[encoded data removed]",
      "text/plain": [
       "<Figure size 576x216 with 2 Axes>"
      ]
     },
     "metadata": {},
     "output_type": "display_data"
    }
   ],
   "source": [
    "f, (ax1, ax2) = plt.subplots(1, 2, figsize=(8,3), sharey=True)\n",
    "bins = np.arange(8) + 0.5\n",
    "ax1.hist(y_train, bins, width = 0.8)\n",
    "ax1.xaxis.set_major_locator(ticker.MultipleLocator(1))\n",
    "ax1.set_title('Labels')\n",
    "ax2.hist(y_test, bins, width = 0.8)\n",
    "ax2.set_title('Test Labels')\n",
    "plt.xticks(range(8))\n",
    "plt.show()"
   ]
  },
  {
   "cell_type": "code",
   "execution_count": 25,
   "metadata": {
    "ExecuteTime": {
     "end_time": "2019-04-07T08:48:15.003529Z",
     "start_time": "2019-04-07T08:45:09.073Z"
    }
   },
   "outputs": [
    {
     "name": "stdout",
     "output_type": "stream",
     "text": [
      "DescribeResult(nobs=15120, minmax=(1, 7), mean=4.0, variance=4.000264567762418, skewness=0.0, kurtosis=-1.25)\n",
      "DescribeResult(nobs=1512, minmax=(1, 7), mean=3.947751322751323, variance=4.034991631037296, skewness=0.010853316785871835, kurtosis=-1.2670058892892788)\n",
      "i = 0: Train Ct:     0 | Test Ct:     0\n",
      "i = 1: Train Ct:  2160 | Test Ct:   234\n",
      "i = 2: Train Ct:  2160 | Test Ct:   216\n",
      "i = 3: Train Ct:  2160 | Test Ct:   210\n",
      "i = 4: Train Ct:  2160 | Test Ct:   215\n",
      "i = 5: Train Ct:  2160 | Test Ct:   209\n",
      "i = 6: Train Ct:  2160 | Test Ct:   228\n",
      "i = 7: Train Ct:  2160 | Test Ct:   200\n"
     ]
    }
   ],
   "source": [
    "print(stats.describe(full_labels))\n",
    "print(stats.describe(y_test))\n",
    "for i in range(0, 8):\n",
    "        print(f'i = {i}: Train Ct: {(full_labels==i).sum():>5} | Test Ct: {(y_test==i).sum():>5}')"
   ]
  },
  {
   "cell_type": "markdown",
   "metadata": {},
   "source": [
    "It appears that our classes are quite well-balanced in both our training data and the test data.\n",
    "\n",
    "This is good both because we will not need to deliberately compensate for imbalances and because our model will be unable to achieve reasonable performance simply by guessing the modal category. (Doing so would give accuracy on the training set of 1741/12096 = 0.145, and then accuracy on the test set of 411/3024 = 0.136.)"
   ]
  },
  {
   "cell_type": "markdown",
   "metadata": {},
   "source": [
    "One thing of note is that the `Soil_Type7` and `Soil_Type15` are never true, so this feature tells us nothing.  These features should be removed before any modeling is done."
   ]
  },
  {
   "cell_type": "code",
   "execution_count": 26,
   "metadata": {
    "ExecuteTime": {
     "end_time": "2019-04-07T08:48:15.014528Z",
     "start_time": "2019-04-07T08:45:09.803Z"
    }
   },
   "outputs": [
    {
     "name": "stdout",
     "output_type": "stream",
     "text": [
      "[  0  10  20  30  40  50  60  70  80  90 100 110 120 130 140 150 160 170\n",
      " 180 190 200 210 220 230 240 250 260 270 280 290 300 310 320 330 340 350]\n"
     ]
    },
    {
     "data": {
      "text/plain": [
       "[NaN, (0, 45], (0, 45], (0, 45], (0, 45], ..., (270, 315], (315, 360], (315, 360], (315, 360], (315, 360]]\n",
       "Length: 36\n",
       "Categories (8, interval[int64]): [(0, 45] < (45, 90] < (90, 135] < (135, 180] < (180, 225] < (225, 270] < (270, 315] < (315, 360]]"
      ]
     },
     "execution_count": 26,
     "metadata": {},
     "output_type": "execute_result"
    }
   ],
   "source": [
    "bins = np.arange(0, 360, 10)\n",
    "cut = [0, 45, 90, 135, 180, 225, 270, 315, 360]\n",
    "\n",
    "print(bins)\n",
    "pd.cut(bins, cut)"
   ]
  },
  {
   "cell_type": "code",
   "execution_count": 27,
   "metadata": {
    "ExecuteTime": {
     "end_time": "2019-04-07T08:48:15.016527Z",
     "start_time": "2019-04-07T08:45:09.809Z"
    }
   },
   "outputs": [
    {
     "data": {
      "text/html": [
       "<div>\n",
       "<style scoped>\n",
       "    .dataframe tbody tr th:only-of-type {\n",
       "        vertical-align: middle;\n",
       "    }\n",
       "\n",
       "    .dataframe tbody tr th {\n",
       "        vertical-align: top;\n",
       "    }\n",
       "\n",
       "    .dataframe thead th {\n",
       "        text-align: right;\n",
       "    }\n",
       "</style>\n",
       "<table border=\"1\" class=\"dataframe\">\n",
       "  <thead>\n",
       "    <tr style=\"text-align: right;\">\n",
       "      <th></th>\n",
       "      <th>Hillshade_9am</th>\n",
       "      <th>Hillshade_Noon</th>\n",
       "      <th>Hillshade_3pm</th>\n",
       "      <th>Total_Hillshade</th>\n",
       "    </tr>\n",
       "    <tr>\n",
       "      <th>Id</th>\n",
       "      <th></th>\n",
       "      <th></th>\n",
       "      <th></th>\n",
       "      <th></th>\n",
       "    </tr>\n",
       "  </thead>\n",
       "  <tbody>\n",
       "    <tr>\n",
       "      <th>1</th>\n",
       "      <td>221</td>\n",
       "      <td>232</td>\n",
       "      <td>148</td>\n",
       "      <td>601</td>\n",
       "    </tr>\n",
       "    <tr>\n",
       "      <th>2</th>\n",
       "      <td>220</td>\n",
       "      <td>235</td>\n",
       "      <td>151</td>\n",
       "      <td>606</td>\n",
       "    </tr>\n",
       "    <tr>\n",
       "      <th>3</th>\n",
       "      <td>234</td>\n",
       "      <td>238</td>\n",
       "      <td>135</td>\n",
       "      <td>607</td>\n",
       "    </tr>\n",
       "    <tr>\n",
       "      <th>4</th>\n",
       "      <td>238</td>\n",
       "      <td>238</td>\n",
       "      <td>122</td>\n",
       "      <td>598</td>\n",
       "    </tr>\n",
       "    <tr>\n",
       "      <th>5</th>\n",
       "      <td>220</td>\n",
       "      <td>234</td>\n",
       "      <td>150</td>\n",
       "      <td>604</td>\n",
       "    </tr>\n",
       "    <tr>\n",
       "      <th>6</th>\n",
       "      <td>230</td>\n",
       "      <td>237</td>\n",
       "      <td>140</td>\n",
       "      <td>607</td>\n",
       "    </tr>\n",
       "    <tr>\n",
       "      <th>7</th>\n",
       "      <td>222</td>\n",
       "      <td>225</td>\n",
       "      <td>138</td>\n",
       "      <td>585</td>\n",
       "    </tr>\n",
       "    <tr>\n",
       "      <th>8</th>\n",
       "      <td>222</td>\n",
       "      <td>230</td>\n",
       "      <td>144</td>\n",
       "      <td>596</td>\n",
       "    </tr>\n",
       "    <tr>\n",
       "      <th>9</th>\n",
       "      <td>223</td>\n",
       "      <td>221</td>\n",
       "      <td>133</td>\n",
       "      <td>577</td>\n",
       "    </tr>\n",
       "    <tr>\n",
       "      <th>10</th>\n",
       "      <td>228</td>\n",
       "      <td>219</td>\n",
       "      <td>124</td>\n",
       "      <td>571</td>\n",
       "    </tr>\n",
       "    <tr>\n",
       "      <th>11</th>\n",
       "      <td>218</td>\n",
       "      <td>243</td>\n",
       "      <td>161</td>\n",
       "      <td>622</td>\n",
       "    </tr>\n",
       "    <tr>\n",
       "      <th>12</th>\n",
       "      <td>234</td>\n",
       "      <td>240</td>\n",
       "      <td>136</td>\n",
       "      <td>610</td>\n",
       "    </tr>\n",
       "    <tr>\n",
       "      <th>13</th>\n",
       "      <td>248</td>\n",
       "      <td>224</td>\n",
       "      <td>92</td>\n",
       "      <td>564</td>\n",
       "    </tr>\n",
       "    <tr>\n",
       "      <th>14</th>\n",
       "      <td>213</td>\n",
       "      <td>247</td>\n",
       "      <td>170</td>\n",
       "      <td>630</td>\n",
       "    </tr>\n",
       "    <tr>\n",
       "      <th>15</th>\n",
       "      <td>224</td>\n",
       "      <td>240</td>\n",
       "      <td>151</td>\n",
       "      <td>615</td>\n",
       "    </tr>\n",
       "    <tr>\n",
       "      <th>16</th>\n",
       "      <td>224</td>\n",
       "      <td>225</td>\n",
       "      <td>137</td>\n",
       "      <td>586</td>\n",
       "    </tr>\n",
       "    <tr>\n",
       "      <th>17</th>\n",
       "      <td>216</td>\n",
       "      <td>239</td>\n",
       "      <td>161</td>\n",
       "      <td>616</td>\n",
       "    </tr>\n",
       "    <tr>\n",
       "      <th>18</th>\n",
       "      <td>228</td>\n",
       "      <td>227</td>\n",
       "      <td>133</td>\n",
       "      <td>588</td>\n",
       "    </tr>\n",
       "    <tr>\n",
       "      <th>19</th>\n",
       "      <td>214</td>\n",
       "      <td>232</td>\n",
       "      <td>156</td>\n",
       "      <td>602</td>\n",
       "    </tr>\n",
       "    <tr>\n",
       "      <th>20</th>\n",
       "      <td>220</td>\n",
       "      <td>228</td>\n",
       "      <td>144</td>\n",
       "      <td>592</td>\n",
       "    </tr>\n",
       "  </tbody>\n",
       "</table>\n",
       "</div>"
      ],
      "text/plain": [
       "    Hillshade_9am  Hillshade_Noon  Hillshade_3pm  Total_Hillshade\n",
       "Id                                                               \n",
       "1             221             232            148              601\n",
       "2             220             235            151              606\n",
       "3             234             238            135              607\n",
       "4             238             238            122              598\n",
       "5             220             234            150              604\n",
       "6             230             237            140              607\n",
       "7             222             225            138              585\n",
       "8             222             230            144              596\n",
       "9             223             221            133              577\n",
       "10            228             219            124              571\n",
       "11            218             243            161              622\n",
       "12            234             240            136              610\n",
       "13            248             224             92              564\n",
       "14            213             247            170              630\n",
       "15            224             240            151              615\n",
       "16            224             225            137              586\n",
       "17            216             239            161              616\n",
       "18            228             227            133              588\n",
       "19            214             232            156              602\n",
       "20            220             228            144              592"
      ]
     },
     "execution_count": 27,
     "metadata": {},
     "output_type": "execute_result"
    }
   ],
   "source": [
    "full_data['Total_Hillshade'] = full_data[['Hillshade_9am', 'Hillshade_Noon', 'Hillshade_3pm']].sum(axis=1)\n",
    "full_data[['Hillshade_9am', 'Hillshade_Noon', 'Hillshade_3pm','Total_Hillshade']].head(20)"
   ]
  },
  {
   "cell_type": "code",
   "execution_count": 28,
   "metadata": {
    "ExecuteTime": {
     "end_time": "2019-04-07T12:18:15.186610Z",
     "start_time": "2019-04-07T12:18:14.649610Z"
    }
   },
   "outputs": [
    {
     "ename": "KeyError",
     "evalue": "'Euclidean_distance_to_water'",
     "output_type": "error",
     "traceback": [
      "\u001b[1;31m---------------------------------------------------------------------------\u001b[0m",
      "\u001b[1;31mKeyError\u001b[0m                                  Traceback (most recent call last)",
      "\u001b[1;32mC:\\ProgramData\\Anaconda3\\lib\\site-packages\\pandas\\core\\indexes\\base.py\u001b[0m in \u001b[0;36mget_loc\u001b[1;34m(self, key, method, tolerance)\u001b[0m\n\u001b[0;32m   2524\u001b[0m             \u001b[1;32mtry\u001b[0m\u001b[1;33m:\u001b[0m\u001b[1;33m\u001b[0m\u001b[0m\n\u001b[1;32m-> 2525\u001b[1;33m                 \u001b[1;32mreturn\u001b[0m \u001b[0mself\u001b[0m\u001b[1;33m.\u001b[0m\u001b[0m_engine\u001b[0m\u001b[1;33m.\u001b[0m\u001b[0mget_loc\u001b[0m\u001b[1;33m(\u001b[0m\u001b[0mkey\u001b[0m\u001b[1;33m)\u001b[0m\u001b[1;33m\u001b[0m\u001b[0m\n\u001b[0m\u001b[0;32m   2526\u001b[0m             \u001b[1;32mexcept\u001b[0m \u001b[0mKeyError\u001b[0m\u001b[1;33m:\u001b[0m\u001b[1;33m\u001b[0m\u001b[0m\n",
      "\u001b[1;32mpandas/_libs/index.pyx\u001b[0m in \u001b[0;36mpandas._libs.index.IndexEngine.get_loc\u001b[1;34m()\u001b[0m\n",
      "\u001b[1;32mpandas/_libs/index.pyx\u001b[0m in \u001b[0;36mpandas._libs.index.IndexEngine.get_loc\u001b[1;34m()\u001b[0m\n",
      "\u001b[1;32mpandas/_libs/hashtable_class_helper.pxi\u001b[0m in \u001b[0;36mpandas._libs.hashtable.PyObjectHashTable.get_item\u001b[1;34m()\u001b[0m\n",
      "\u001b[1;32mpandas/_libs/hashtable_class_helper.pxi\u001b[0m in \u001b[0;36mpandas._libs.hashtable.PyObjectHashTable.get_item\u001b[1;34m()\u001b[0m\n",
      "\u001b[1;31mKeyError\u001b[0m: 'Euclidean_distance_to_water'",
      "\nDuring handling of the above exception, another exception occurred:\n",
      "\u001b[1;31mKeyError\u001b[0m                                  Traceback (most recent call last)",
      "\u001b[1;32m<ipython-input-28-dce146af1cbf>\u001b[0m in \u001b[0;36m<module>\u001b[1;34m()\u001b[0m\n\u001b[0;32m     11\u001b[0m \u001b[1;33m\u001b[0m\u001b[0m\n\u001b[0;32m     12\u001b[0m \u001b[0mfull_features\u001b[0m\u001b[1;33m[\u001b[0m\u001b[1;34m'Euclidean_distance_to_water'\u001b[0m\u001b[1;33m]\u001b[0m \u001b[1;33m=\u001b[0m \u001b[0mnp\u001b[0m\u001b[1;33m.\u001b[0m\u001b[0msqrt\u001b[0m\u001b[1;33m(\u001b[0m\u001b[0mfull_features\u001b[0m\u001b[1;33m[\u001b[0m\u001b[1;34m'Horizontal_Distance_To_Hydrology'\u001b[0m\u001b[1;33m]\u001b[0m\u001b[1;33m**\u001b[0m\u001b[1;36m2\u001b[0m \u001b[1;33m+\u001b[0m \u001b[0mfull_features\u001b[0m\u001b[1;33m[\u001b[0m\u001b[1;34m'Vertical_Distance_To_Hydrology'\u001b[0m\u001b[1;33m]\u001b[0m\u001b[1;33m**\u001b[0m\u001b[1;36m2\u001b[0m\u001b[1;33m)\u001b[0m\u001b[1;33m\u001b[0m\u001b[0m\n\u001b[1;32m---> 13\u001b[1;33m \u001b[0mdist_to_water\u001b[0m \u001b[1;33m=\u001b[0m \u001b[0msparsified\u001b[0m\u001b[1;33m[\u001b[0m\u001b[1;34m'Euclidean_distance_to_water'\u001b[0m\u001b[1;33m]\u001b[0m\u001b[1;33m\u001b[0m\u001b[0m\n\u001b[0m\u001b[0;32m     14\u001b[0m \u001b[0maltitude\u001b[0m \u001b[1;33m=\u001b[0m \u001b[0msparsified\u001b[0m\u001b[1;33m[\u001b[0m\u001b[1;34m'Elevation'\u001b[0m\u001b[1;33m]\u001b[0m\u001b[1;33m\u001b[0m\u001b[0m\n\u001b[0;32m     15\u001b[0m \u001b[0mhillshade\u001b[0m \u001b[1;33m=\u001b[0m \u001b[0msparsified\u001b[0m\u001b[1;33m[\u001b[0m\u001b[1;34m'Hillshade_3pm'\u001b[0m\u001b[1;33m]\u001b[0m\u001b[1;33m\u001b[0m\u001b[0m\n",
      "\u001b[1;32mC:\\ProgramData\\Anaconda3\\lib\\site-packages\\pandas\\core\\frame.py\u001b[0m in \u001b[0;36m__getitem__\u001b[1;34m(self, key)\u001b[0m\n\u001b[0;32m   2137\u001b[0m             \u001b[1;32mreturn\u001b[0m \u001b[0mself\u001b[0m\u001b[1;33m.\u001b[0m\u001b[0m_getitem_multilevel\u001b[0m\u001b[1;33m(\u001b[0m\u001b[0mkey\u001b[0m\u001b[1;33m)\u001b[0m\u001b[1;33m\u001b[0m\u001b[0m\n\u001b[0;32m   2138\u001b[0m         \u001b[1;32melse\u001b[0m\u001b[1;33m:\u001b[0m\u001b[1;33m\u001b[0m\u001b[0m\n\u001b[1;32m-> 2139\u001b[1;33m             \u001b[1;32mreturn\u001b[0m \u001b[0mself\u001b[0m\u001b[1;33m.\u001b[0m\u001b[0m_getitem_column\u001b[0m\u001b[1;33m(\u001b[0m\u001b[0mkey\u001b[0m\u001b[1;33m)\u001b[0m\u001b[1;33m\u001b[0m\u001b[0m\n\u001b[0m\u001b[0;32m   2140\u001b[0m \u001b[1;33m\u001b[0m\u001b[0m\n\u001b[0;32m   2141\u001b[0m     \u001b[1;32mdef\u001b[0m \u001b[0m_getitem_column\u001b[0m\u001b[1;33m(\u001b[0m\u001b[0mself\u001b[0m\u001b[1;33m,\u001b[0m \u001b[0mkey\u001b[0m\u001b[1;33m)\u001b[0m\u001b[1;33m:\u001b[0m\u001b[1;33m\u001b[0m\u001b[0m\n",
      "\u001b[1;32mC:\\ProgramData\\Anaconda3\\lib\\site-packages\\pandas\\core\\frame.py\u001b[0m in \u001b[0;36m_getitem_column\u001b[1;34m(self, key)\u001b[0m\n\u001b[0;32m   2144\u001b[0m         \u001b[1;31m# get column\u001b[0m\u001b[1;33m\u001b[0m\u001b[1;33m\u001b[0m\u001b[0m\n\u001b[0;32m   2145\u001b[0m         \u001b[1;32mif\u001b[0m \u001b[0mself\u001b[0m\u001b[1;33m.\u001b[0m\u001b[0mcolumns\u001b[0m\u001b[1;33m.\u001b[0m\u001b[0mis_unique\u001b[0m\u001b[1;33m:\u001b[0m\u001b[1;33m\u001b[0m\u001b[0m\n\u001b[1;32m-> 2146\u001b[1;33m             \u001b[1;32mreturn\u001b[0m \u001b[0mself\u001b[0m\u001b[1;33m.\u001b[0m\u001b[0m_get_item_cache\u001b[0m\u001b[1;33m(\u001b[0m\u001b[0mkey\u001b[0m\u001b[1;33m)\u001b[0m\u001b[1;33m\u001b[0m\u001b[0m\n\u001b[0m\u001b[0;32m   2147\u001b[0m \u001b[1;33m\u001b[0m\u001b[0m\n\u001b[0;32m   2148\u001b[0m         \u001b[1;31m# duplicate columns & possible reduce dimensionality\u001b[0m\u001b[1;33m\u001b[0m\u001b[1;33m\u001b[0m\u001b[0m\n",
      "\u001b[1;32mC:\\ProgramData\\Anaconda3\\lib\\site-packages\\pandas\\core\\generic.py\u001b[0m in \u001b[0;36m_get_item_cache\u001b[1;34m(self, item)\u001b[0m\n\u001b[0;32m   1840\u001b[0m         \u001b[0mres\u001b[0m \u001b[1;33m=\u001b[0m \u001b[0mcache\u001b[0m\u001b[1;33m.\u001b[0m\u001b[0mget\u001b[0m\u001b[1;33m(\u001b[0m\u001b[0mitem\u001b[0m\u001b[1;33m)\u001b[0m\u001b[1;33m\u001b[0m\u001b[0m\n\u001b[0;32m   1841\u001b[0m         \u001b[1;32mif\u001b[0m \u001b[0mres\u001b[0m \u001b[1;32mis\u001b[0m \u001b[1;32mNone\u001b[0m\u001b[1;33m:\u001b[0m\u001b[1;33m\u001b[0m\u001b[0m\n\u001b[1;32m-> 1842\u001b[1;33m             \u001b[0mvalues\u001b[0m \u001b[1;33m=\u001b[0m \u001b[0mself\u001b[0m\u001b[1;33m.\u001b[0m\u001b[0m_data\u001b[0m\u001b[1;33m.\u001b[0m\u001b[0mget\u001b[0m\u001b[1;33m(\u001b[0m\u001b[0mitem\u001b[0m\u001b[1;33m)\u001b[0m\u001b[1;33m\u001b[0m\u001b[0m\n\u001b[0m\u001b[0;32m   1843\u001b[0m             \u001b[0mres\u001b[0m \u001b[1;33m=\u001b[0m \u001b[0mself\u001b[0m\u001b[1;33m.\u001b[0m\u001b[0m_box_item_values\u001b[0m\u001b[1;33m(\u001b[0m\u001b[0mitem\u001b[0m\u001b[1;33m,\u001b[0m \u001b[0mvalues\u001b[0m\u001b[1;33m)\u001b[0m\u001b[1;33m\u001b[0m\u001b[0m\n\u001b[0;32m   1844\u001b[0m             \u001b[0mcache\u001b[0m\u001b[1;33m[\u001b[0m\u001b[0mitem\u001b[0m\u001b[1;33m]\u001b[0m \u001b[1;33m=\u001b[0m \u001b[0mres\u001b[0m\u001b[1;33m\u001b[0m\u001b[0m\n",
      "\u001b[1;32mC:\\ProgramData\\Anaconda3\\lib\\site-packages\\pandas\\core\\internals.py\u001b[0m in \u001b[0;36mget\u001b[1;34m(self, item, fastpath)\u001b[0m\n\u001b[0;32m   3841\u001b[0m \u001b[1;33m\u001b[0m\u001b[0m\n\u001b[0;32m   3842\u001b[0m             \u001b[1;32mif\u001b[0m \u001b[1;32mnot\u001b[0m \u001b[0misna\u001b[0m\u001b[1;33m(\u001b[0m\u001b[0mitem\u001b[0m\u001b[1;33m)\u001b[0m\u001b[1;33m:\u001b[0m\u001b[1;33m\u001b[0m\u001b[0m\n\u001b[1;32m-> 3843\u001b[1;33m                 \u001b[0mloc\u001b[0m \u001b[1;33m=\u001b[0m \u001b[0mself\u001b[0m\u001b[1;33m.\u001b[0m\u001b[0mitems\u001b[0m\u001b[1;33m.\u001b[0m\u001b[0mget_loc\u001b[0m\u001b[1;33m(\u001b[0m\u001b[0mitem\u001b[0m\u001b[1;33m)\u001b[0m\u001b[1;33m\u001b[0m\u001b[0m\n\u001b[0m\u001b[0;32m   3844\u001b[0m             \u001b[1;32melse\u001b[0m\u001b[1;33m:\u001b[0m\u001b[1;33m\u001b[0m\u001b[0m\n\u001b[0;32m   3845\u001b[0m                 \u001b[0mindexer\u001b[0m \u001b[1;33m=\u001b[0m \u001b[0mnp\u001b[0m\u001b[1;33m.\u001b[0m\u001b[0marange\u001b[0m\u001b[1;33m(\u001b[0m\u001b[0mlen\u001b[0m\u001b[1;33m(\u001b[0m\u001b[0mself\u001b[0m\u001b[1;33m.\u001b[0m\u001b[0mitems\u001b[0m\u001b[1;33m)\u001b[0m\u001b[1;33m)\u001b[0m\u001b[1;33m[\u001b[0m\u001b[0misna\u001b[0m\u001b[1;33m(\u001b[0m\u001b[0mself\u001b[0m\u001b[1;33m.\u001b[0m\u001b[0mitems\u001b[0m\u001b[1;33m)\u001b[0m\u001b[1;33m]\u001b[0m\u001b[1;33m\u001b[0m\u001b[0m\n",
      "\u001b[1;32mC:\\ProgramData\\Anaconda3\\lib\\site-packages\\pandas\\core\\indexes\\base.py\u001b[0m in \u001b[0;36mget_loc\u001b[1;34m(self, key, method, tolerance)\u001b[0m\n\u001b[0;32m   2525\u001b[0m                 \u001b[1;32mreturn\u001b[0m \u001b[0mself\u001b[0m\u001b[1;33m.\u001b[0m\u001b[0m_engine\u001b[0m\u001b[1;33m.\u001b[0m\u001b[0mget_loc\u001b[0m\u001b[1;33m(\u001b[0m\u001b[0mkey\u001b[0m\u001b[1;33m)\u001b[0m\u001b[1;33m\u001b[0m\u001b[0m\n\u001b[0;32m   2526\u001b[0m             \u001b[1;32mexcept\u001b[0m \u001b[0mKeyError\u001b[0m\u001b[1;33m:\u001b[0m\u001b[1;33m\u001b[0m\u001b[0m\n\u001b[1;32m-> 2527\u001b[1;33m                 \u001b[1;32mreturn\u001b[0m \u001b[0mself\u001b[0m\u001b[1;33m.\u001b[0m\u001b[0m_engine\u001b[0m\u001b[1;33m.\u001b[0m\u001b[0mget_loc\u001b[0m\u001b[1;33m(\u001b[0m\u001b[0mself\u001b[0m\u001b[1;33m.\u001b[0m\u001b[0m_maybe_cast_indexer\u001b[0m\u001b[1;33m(\u001b[0m\u001b[0mkey\u001b[0m\u001b[1;33m)\u001b[0m\u001b[1;33m)\u001b[0m\u001b[1;33m\u001b[0m\u001b[0m\n\u001b[0m\u001b[0;32m   2528\u001b[0m \u001b[1;33m\u001b[0m\u001b[0m\n\u001b[0;32m   2529\u001b[0m         \u001b[0mindexer\u001b[0m \u001b[1;33m=\u001b[0m \u001b[0mself\u001b[0m\u001b[1;33m.\u001b[0m\u001b[0mget_indexer\u001b[0m\u001b[1;33m(\u001b[0m\u001b[1;33m[\u001b[0m\u001b[0mkey\u001b[0m\u001b[1;33m]\u001b[0m\u001b[1;33m,\u001b[0m \u001b[0mmethod\u001b[0m\u001b[1;33m=\u001b[0m\u001b[0mmethod\u001b[0m\u001b[1;33m,\u001b[0m \u001b[0mtolerance\u001b[0m\u001b[1;33m=\u001b[0m\u001b[0mtolerance\u001b[0m\u001b[1;33m)\u001b[0m\u001b[1;33m\u001b[0m\u001b[0m\n",
      "\u001b[1;32mpandas/_libs/index.pyx\u001b[0m in \u001b[0;36mpandas._libs.index.IndexEngine.get_loc\u001b[1;34m()\u001b[0m\n",
      "\u001b[1;32mpandas/_libs/index.pyx\u001b[0m in \u001b[0;36mpandas._libs.index.IndexEngine.get_loc\u001b[1;34m()\u001b[0m\n",
      "\u001b[1;32mpandas/_libs/hashtable_class_helper.pxi\u001b[0m in \u001b[0;36mpandas._libs.hashtable.PyObjectHashTable.get_item\u001b[1;34m()\u001b[0m\n",
      "\u001b[1;32mpandas/_libs/hashtable_class_helper.pxi\u001b[0m in \u001b[0;36mpandas._libs.hashtable.PyObjectHashTable.get_item\u001b[1;34m()\u001b[0m\n",
      "\u001b[1;31mKeyError\u001b[0m: 'Euclidean_distance_to_water'"
     ]
    }
   ],
   "source": [
    "## Make 3D scatterplot to explore water, elevation, and hillshade concurrently\n",
    "\n",
    "%matplotlib qt\n",
    "from mpl_toolkits.mplot3d import Axes3D\n",
    "\n",
    "sparsifier = np.random.randint(0, full_features.shape[0], 5000)\n",
    "\n",
    "sparsified = full_features.iloc[sparsifier,:]\n",
    "sparse_labels = full_labels.iloc[sparsifier]\n",
    "# print(f'Length of sparsified dataset\\n: {sparsified}')\n",
    "\n",
    "full_features['Euclidean_distance_to_water'] = np.sqrt(full_features['Horizontal_Distance_To_Hydrology']**2 + full_features['Vertical_Distance_To_Hydrology']**2)\n",
    "dist_to_water = sparsified['Euclidean_distance_to_water']\n",
    "altitude = sparsified['Elevation']\n",
    "hillshade = sparsified['Hillshade_3pm']\n",
    "color_dict = {1: '#A7C6ED', 2: '#BA0C2F', 3: '#651D32', 4: '#8C8985',\n",
    "              5: '#212721', 6: '#002F6C', 7: '#FFC000'}\n",
    "coloration = [color_dict[x] for x in sparse_labels]\n",
    "fig = plt.figure()\n",
    "ax = fig.add_subplot(111, projection='3d')\n",
    "ax.scatter(hillshade, dist_to_water, altitude, color=coloration, alpha=0.6)\n",
    "# ax.title('Forest cover categorization\\nby distance to water and hillshade')\n",
    "ax.view_init(30, 115)\n",
    "# mouse_init(rotate_btn=1, zoom_btn=3)\n",
    "plt.show()"
   ]
  }
 ],
 "metadata": {
  "kernelspec": {
   "display_name": "Python 3",
   "language": "python",
   "name": "python3"
  },
  "language_info": {
   "codemirror_mode": {
    "name": "ipython",
    "version": 3
   },
   "file_extension": ".py",
   "mimetype": "text/x-python",
   "name": "python",
   "nbconvert_exporter": "python",
   "pygments_lexer": "ipython3",
   "version": "3.6.5"
  },
  "latex_envs": {
   "LaTeX_envs_menu_present": true,
   "autoclose": true,
   "autocomplete": true,
   "bibliofile": "biblio.bib",
   "cite_by": "apalike",
   "current_citInitial": 1,
   "eqLabelWithNumbers": true,
   "eqNumInitial": 1,
   "hotkeys": {
    "equation": "Ctrl-E",
    "itemize": "Ctrl-I"
   },
   "labels_anchors": false,
   "latex_user_defs": false,
   "report_style_numbering": false,
   "user_envs_cfg": false
  },
  "varInspector": {
   "cols": {
    "lenName": 16,
    "lenType": 16,
    "lenVar": 40
   },
   "kernels_config": {
    "python": {
     "delete_cmd_postfix": "",
     "delete_cmd_prefix": "del ",
     "library": "var_list.py",
     "varRefreshCmd": "print(var_dic_list())"
    },
    "r": {
     "delete_cmd_postfix": ") ",
     "delete_cmd_prefix": "rm(",
     "library": "var_list.r",
     "varRefreshCmd": "cat(var_dic_list()) "
    }
   },
   "types_to_exclude": [
    "module",
    "function",
    "builtin_function_or_method",
    "instance",
    "_Feature"
   ],
   "window_display": false
  }
 },
 "nbformat": 4,
 "nbformat_minor": 2
}
