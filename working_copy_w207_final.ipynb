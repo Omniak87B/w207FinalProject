{
 "cells": [
  {
   "cell_type": "markdown",
   "metadata": {},
   "source": [
    "# W207 Spring 2019 Final Project\n",
    "## Kaggle Competition: Forest Cover Prediction\n",
    "**Pierce Coggins, Jake Mitchell, Debasish Mukhopadhyay, and Tim Slade**"
   ]
  },
  {
   "cell_type": "markdown",
   "metadata": {},
   "source": [
    "# Table of Contents/Section Notes"
   ]
  },
  {
   "cell_type": "markdown",
   "metadata": {},
   "source": [
    "- [Introduction](#introduction)\n",
    "  - In which we discuss the problem and why it matters\n",
    "  - [Housekeeping](#housekeeping)\n",
    "    - In which we deal with basic prep and setup issues\n",
    "- [About the Data](#aboutTheData)\n",
    "  - EDA, charts, data cleaning\n",
    "- [Feature Engineering](#featureEngineering)\n",
    "  - Describe a basic model that we will use to test the usefulness of new features (LR or NB)\n",
    "  - Normalization\n",
    "  - Each added or removed feature\n",
    "- [Models](#models)\n",
    "  - Maybe choose 4 to test out?  Don't want this section to get too lengthy, and each model should be covered in some detail\n",
    "- [Results](#results)\n",
    "  - What went well, what went poorly\n",
    "  - Final comparison of models on test data\n",
    "- [Conclusion](#conclusion)\n",
    "- [Annexes](#annexA)\n",
    "  "
   ]
  },
  {
   "cell_type": "markdown",
   "metadata": {},
   "source": [
    "<a id=\"introduction\"></a>\n",
    "# Introduction"
   ]
  },
  {
   "cell_type": "markdown",
   "metadata": {},
   "source": [
    "In this report, we will attempt to predict the forest cover type (defined as the predominant type of tree cover) for a given area of land in Colorado given only cartographic variables as inputs.  This problem and dataset were initially posted as a Kaggle competition in 2015.  We have chosen to tackle this problem as it allows for many different machine learning techniques to be attempted and explored.  The report will go through the process of building a capable model from data cleaning through final testing.\n",
    "\n",
    "The problem of understanding what type of vegetation is present in a difficult to access area is a surprisingly important one.  In this particular example the forests of Colorado are very diverse, and each type of tree cover has its own benefits and dangers.  For example, many of the pine trees in Colorado are susceptible to the [mountain pine beetle](https://csfs.colostate.edu/forest-management/common-forest-insects-diseases/mountain-pine-beetle/), while the Spruce and Fir trees are relatively safe from the beetles.  Without directly going to every location in the mountains of Colorado, it is very difficult to distinguish these types of trees as they look very similar from the air.  It is relatively easy to get cartographic data for a large swath of the mountains, however, and if it is possible to accurately predict the tree type from the cartographic information alone then all of the Colorado forest could be mapped by likely forest cover type. That information would be invaluable to firefighters and forest service personnel to direct their efforts where it will have the most impact.\n",
    "\n",
    "If you would like to learn more about the problem or try for yourself, all information and data can be found from the kaggle competition:<br>[Kaggle's Forest Cover Type Prediction](https://www.kaggle.com/c/forest-cover-type-prediction)."
   ]
  },
  {
   "cell_type": "markdown",
   "metadata": {},
   "source": [
    "<a id=\"housekeeping\"></a>\n",
    "## Housekeeping"
   ]
  },
  {
   "cell_type": "markdown",
   "metadata": {},
   "source": [
    "### Importing Libraries, Helper Functions, and Loading Data"
   ]
  },
  {
   "cell_type": "code",
   "execution_count": 8,
   "metadata": {
    "ExecuteTime": {
     "end_time": "2019-04-08T17:45:33.770078Z",
     "start_time": "2019-04-08T17:45:21.938324Z"
    },
    "scrolled": false
   },
   "outputs": [],
   "source": [
    "%%capture\n",
    "# %matplotlib inline\n",
    "# %matplotlib notebook\n",
    "%matplotlib qt\n",
    "\n",
    "# General libraries\n",
    "import pandas as pd\n",
    "import numpy as np\n",
    "import os\n",
    "import copy\n",
    "import warnings\n",
    "import statsmodels.api as sm\n",
    "from scipy import stats\n",
    "import math\n",
    "\n",
    "# Plotting and printing libraries\n",
    "import matplotlib.pyplot as plt\n",
    "import matplotlib.ticker as ticker\n",
    "import matplotlib.patches as mpatches\n",
    "from matplotlib.pyplot import figure, imshow, axis\n",
    "from matplotlib.image import imread\n",
    "import pprint\n",
    "\n",
    "# Model-building libraries\n",
    "from sklearn.model_selection import train_test_split, StratifiedKFold\n",
    "from sklearn.preprocessing import normalize, MinMaxScaler, StandardScaler, RobustScaler, Normalizer, scale\n",
    "\n",
    "# SK-learn libraries for learning\n",
    "from sklearn.pipeline import Pipeline\n",
    "from sklearn.neighbors import KNeighborsClassifier\n",
    "from sklearn.linear_model import LogisticRegression, LinearRegression\n",
    "from sklearn.naive_bayes import BernoulliNB, GaussianNB, MultinomialNB\n",
    "from sklearn.model_selection import GridSearchCV\n",
    "from sklearn.ensemble import GradientBoostingRegressor\n",
    "from sklearn.ensemble import RandomForestClassifier, ExtraTreesClassifier\n",
    "from sklearn.svm import SVC, LinearSVC\n",
    "from sklearn.decomposition import PCA\n",
    "from xgboost import XGBClassifier\n",
    "\n",
    "# SK-learn libraries for evaluation\n",
    "from sklearn.metrics import confusion_matrix, classification_report\n",
    "from sklearn import metrics\n",
    "from sklearn.model_selection import cross_val_score\n",
    "\n",
    "import warnings\n",
    "warnings.filterwarnings('ignore')\n",
    "\n",
    "# Run the helper functions notebook\n",
    "%run w207_final_helper_functions.ipynb"
   ]
  },
  {
   "cell_type": "markdown",
   "metadata": {},
   "source": [
    "The forest cover types we aim to predict are bundled with the features used to predict them. Our first step is therefore to separate them out, lest we accidentally let our models peek at the outcomes. We also want to split the dataset into _train_ and _test_ subsets; this will give us insight into how well our chosen models and parameters will perform against out-of-sample data.\n",
    "\n",
    "The original dataset contained 15,120 observations. We will train our models on 90% of the data and hold out 10% for testing. We thus expect to have approximately 0.9 * 15,120 = 13,608 observations in our training dataset."
   ]
  },
  {
   "cell_type": "code",
   "execution_count": 9,
   "metadata": {
    "ExecuteTime": {
     "end_time": "2019-04-08T17:45:57.918825Z",
     "start_time": "2019-04-08T17:45:57.471558Z"
    }
   },
   "outputs": [
    {
     "name": "stdout",
     "output_type": "stream",
     "text": [
      "\n",
      "                 | Observations |  Features  |\n",
      "----------------------------------------------\n",
      "Training dataset |    13608     |     54     |\n",
      "Training labels  |    13608     |     --     |\n",
      "  Test dataset   |     1512     |     54     |\n",
      "  Test labels    |     1512     |     --     |\n",
      "\n"
     ]
    }
   ],
   "source": [
    "%%capture --no-stdout --no-display\n",
    "full_data = pd.DataFrame.from_csv('./train.csv')\n",
    "full_data.shape\n",
    "\n",
    "# Separating out the labels\n",
    "full_labels = full_data['Cover_Type']\n",
    "full_features = full_data.drop('Cover_Type', axis=1)\n",
    "\n",
    "# Setting seed so we get consistent results from our splitting\n",
    "np.random.seed(0)\n",
    "X_train, X_test, y_train, y_test = train_test_split(full_features, full_labels, test_size=0.10)\n",
    "\n",
    "# Verifying our data shapes are as expected\n",
    "print(f'''\n",
    "{'':^16} | {'Observations':^12} | {'Features':^10} |\n",
    "{'-'*46}\n",
    "{'Training dataset':^16} | {X_train.shape[0]:^12} | {X_train.shape[1]:^10} |\n",
    "{'Training labels':^16} | {y_train.shape[0]:^12} | {'--':^10} |\n",
    "{'Test dataset':^16} | {X_test.shape[0]:^12} | {X_test.shape[1]:^10} |\n",
    "{'Test labels':^16} | {y_test.shape[0]:^12} | {'--':^10} |\n",
    "''')"
   ]
  },
  {
   "cell_type": "markdown",
   "metadata": {},
   "source": [
    "<a id=\"aboutTheData\"></a>"
   ]
  },
  {
   "cell_type": "markdown",
   "metadata": {},
   "source": [
    "<a id=\"aboutTheData\"></a>\n",
    "# About the Data"
   ]
  },
  {
   "cell_type": "markdown",
   "metadata": {},
   "source": [
    "The data comes from several wilderness areas in northern Colorado, specifically the Rawah Wilderness Area, Neota Wilderness Area, Comanche Peak Wilderness Area, and the Cache la Poudre Wilderness Area.  These are all fairly remote areas of Colorado, which may be why they were chosen; there is less human influence in these places to complicate the prediction task.\n",
    "\n",
    "The features in the dataset are all cartographic measures of a 30x30m square plot of land.  We have 10 simple features. The 11th and 12th - `wilderness_area` and `soil_type` - are categorical variables which are represented as 4 and 40 binary columns respectively in our dataset. We therefore have a total of 10 + 4 + 40 = 54 features to work with.\n",
    "The list below contains a short description of each feature, including where relevant its range, median, and mean. (See [Annex A](#annexA) for the associated code and further discussion of the exploratory data analysis).\n",
    "\n",
    "- `Elevation`: _Elevation in meters_\n",
    "  - **Range**: 1863 to 3849 | **Mean**: 2749.3 | **Median**: 2752\n",
    "\n",
    "\n",
    "- `Aspect`: _Aspect in degrees azimuth. i.e., degrees clockwise from a line pointed at true North. So North = 0$^\\circ$, East = 90$^\\circ$, South = 180$^\\circ$, and West = 270$^\\circ$_\n",
    "  - **Range**: 0 to 360 | **Mean**: 156.7 | **Median**: 126.0\n",
    "\n",
    "\n",
    "- `Slope`: _Slope in degrees. 0$^\\circ$ would indicate a flat plane; greater values represent steeper slopes._\n",
    "  - **Range**: 0 to 52 | **Mean**: 16.5 | **Median**: 15.0 \n",
    "\n",
    "\n",
    "- `Horizontal_Distance_To_Hydrology`: _Horizontal distance to nearest surface water features. Units unspecified._\n",
    "  - **Range**: 0 to 1343 | **Mean**: 227.2 | **Median**: 180 \n",
    "\n",
    "\n",
    "- `Vertical_Distance_To_Hydrology`: _Vertical distance to nearest surface water features. Units unspecified._\n",
    "  - **Range**: -146 to 554 | **Mean**: 51.1 | **Median**: 32.0\n",
    "\n",
    "\n",
    "- `Horizontal_Distance_To_Roadways`: _Horizontal distance to nearest roadway. Units unspecified._\n",
    "  - **Range**: 0 to 6890 | **Mean**: 1714.0 | **Median**: 1316\n",
    "\n",
    "\n",
    "- `Hillshade_9am`: _(0 to 255 index) - Hillshade index at 9am, summer solstice_\n",
    "  - **Range**: 0 to 254 | **Mean**: 212.7 | **Median**: 220\n",
    "\n",
    "\n",
    "- `Hillshade_Noon`: _(0 to 255 index) - Hillshade index at noon, summer solstice_\n",
    "  - **Range**: 99 to 254 | **Mean**: 219.0 | **Median**: 223\n",
    "\n",
    "\n",
    "- `Hillshade_3pm`: _(0 to 255 index) - Hillshade index at 3pm, summer solstice_\n",
    "  - **Range**: 0 to 248 | **Mean**: 135.1 | **Median**: 138.0\n",
    "\n",
    "\n",
    "- `Horizontal_Distance_To_Fire_Points`: _Horizontal distance to nearest wildfire ignition points. Units unspecified._\n",
    "  - **Range**: 0 to 6993 | **Mean**: 1511.2 | **Median**: 1256 \n",
    "\n",
    "\n",
    "- `Wilderness_Area`: _(4 binary columns, 0 = absence or 1 = presence) - Wilderness area designation_\n",
    "  - % of cases - **Area 1**: 24% || **Area 2**: 3% || **Area 3**: 42% || **Area 4**: 31% \n",
    "\n",
    "\n",
    "- `Soil_Type`: _(40 binary columns, 0 = absence or 1 = presence) - Soil type designation_\n",
    "  - The soil types descriptions can be found at the [Kaggle Competition Data Page](https://www.kaggle.com/c/forest-cover-type-prediction/data)"
   ]
  },
  {
   "cell_type": "markdown",
   "metadata": {},
   "source": [
    "### Initial Exploration of the Challenge\n",
    "The label indicating our data's categorization is contained in the`Cover_Type` variable, and is split up into 7 different designations. While the tree species discussed in the Colorado State Forest Service's [_Colorado's Major Tree Species_](https://csfs.colostate.edu/colorado-trees/colorados-major-tree-species/) article do not map perfectly to these categories, the article provides some insights that may prove useful in our categorization exercise.\n",
    "\n",
    "#### <span style='color:blue'>Category 1</span>: 'Spruce/Fir'\n",
    "- Species that might fit into this category include the **Blue Spruce** (which thrives at an altitude of 6700-11500 ft in sandy soils near moisture), the **Engelmann Spruce** (8000-11000 ft, moist north-facing slopes), the **Subalpine Fir** (8000-12000 ft, cold high-elevation forests), and the **White Fir** (7900-10200 ft, moist soils in valleys).\n",
    "\n",
    "<center>Blue Spruce</center> | <center>Engelmann Spruce</center> | <center>Subalpine Fir</center> | <center>White Fir</center>\n",
    "- | - | - | -\n",
    "<img src=\"imgs/1_blue-spruce-tree.jpg\" alt=\"BlueSpruce\" style=\"width: 250px;\"/>  | <img src=\"imgs/1_engelmann-spruce.jpg\" alt=\"EngelmannSpruce\" style=\"width: 250px;\"/> | <img src=\"imgs/1_subalpine-fir.jpg\" alt=\"SubalpineFir\" style=\"width: 250px;\"/> | <img src=\"imgs/1_white-fir-tree.jpg\" alt=\"WhiteFir\" style=\"width: 250px;\"/>"
   ]
  },
  {
   "cell_type": "markdown",
   "metadata": {},
   "source": [
    "#### <span style='color:blue'>Category 2</span>: 'Lodgepole Pine' and <span style='color:blue'>Category 3</span>: 'Ponderosa Pine'\n",
    "- The **Lodgepole Pine** thrives in well-drained soils at high elevations (6000-11000 ft).\n",
    "- The **Ponderosa Pine** thrives in dry, nutrient-poor soils at elevations of 6300-9500 ft. It is often found with Douglas Firs.\n",
    "\n",
    "<center>Lodgepole Pine</center> | <center>Ponderosa Pine</center> |\n",
    "- |-|\n",
    "<img src=\"imgs/2_lodgepole-pine.jpg\" alt=\"LodgepolePine\" style=\"width: 250px;\"/> | <img src=\"imgs/3_ponderosa-pine.jpg\" alt=\"PonderosaPine\" style=\"width: 250px;\"/> |"
   ]
  },
  {
   "cell_type": "markdown",
   "metadata": {},
   "source": [
    "#### <span style='color:blue'>Category 4</span>: 'Cottonwood/Willow'\n",
    "- Species that might fit into this category include the **Plains Cottonwood** (which thrives at altitudes of 3500-6500 ft near sources of water), the **Narrowleaf Cottonwood** (5000-8000 ft, moist soils along streams), and the **Peachleaf Willow** (3500-7500 ft, near water sources).\n",
    "\n",
    "<center>Plains Cottonwood</center> | <center>Narrowleaf Cottonwood</center> | <center>Peachleaf Willow</center> |\n",
    "- |- |- |\n",
    "<img src=\"imgs/4_plains-cottonwood.jpg\" alt=\"PlainsCottonwood\" style=\"width: 250px;\"/> |<img src=\"imgs/4_narrowleaf-cottonwood.jpg\" alt=\"NarrowleafCottonwood\" style=\"width: 250px;\"/> |<img src=\"imgs/4_peachleaf-willow.jpg\" alt=\"PeachleafWillow\" style=\"width: 250px;\"/> |"
   ]
  },
  {
   "cell_type": "markdown",
   "metadata": {},
   "source": [
    "#### <span style='color:blue'>Category 5</span>: 'Aspen' and <span style='color:blue'>Category 6</span>: 'Douglas Fir'\n",
    "- The **Quaking Aspen** thrives at altitudes of 6500-11500 ft. While it can be in many soil types, it is especially found on sandy and gravelly slopes.\n",
    "- The **Douglas Fir** thrives at altitudes of 6000-9500 ft in rocky soils of moist northern slopes.\n",
    "\n",
    "<center>Quaking Aspen</center> | <center>Douglas Fir</center> |\n",
    "- | - |\n",
    "<img src=\"imgs/5_aspen.jpg\" alt=\"QuakingAspen\" style=\"width: 250px;\"/> | <img src=\"imgs/6_douglas-fir.jpg\" alt=\"DouglasFir\" style=\"width: 250px;\"/>|"
   ]
  },
  {
   "cell_type": "markdown",
   "metadata": {},
   "source": [
    "#### <span style='color:blue'>Category 7</span>: 'Krummholz'\n",
    "- Interestingly, _krummholz_ is not a species of tree; it is a type of tree formation (which can emerge among various tree species) that results from consistent long-term exposure to strong, cold winds. Per [Wikipedia](https://en.wikipedia.org/wiki/Krummholz), Subalpine Fir and Engelmann Spruce are often associated with Krummholz conditions (as is Lodgepole Pine, although that is more common in British Columbia).\n",
    "\n",
    "<center>Krummholz Banner Tree</center> | <center>Krummholz White Pine</center> | <center>Krummholz Bristlecone</center> \n",
    "- |- |- |\n",
    "<img src=\"imgs/7_krummholz-banner-tree.jpg\" alt=\"KrummholzBannerTree (Photo credit to John Spooner - flickr.com, CC BY 2.0, https://commons.wikimedia.org/w/index.php?curid=5007578)\" style=\"width: 250px;\"/> | <img src=\"imgs/7_krummholz-white-pine.jpg\" alt=\"KrummholzWhitePine (Photo credit to Walter Siegmund [CC BY-SA 3.0 (https://creativecommons.org/licenses/by-sa/3.0)] https://commons.wikimedia.org/wiki/File:Pinus_albicaulis_7872.JPG\" style=\"width: 350px;\"/> |  <img src=\"imgs/7_krummholz-windswept-bristlecone.jpg\" alt=\"KrummholzBristlecone\" style=\"width: 400px;\"/> | \n"
   ]
  },
  {
   "cell_type": "markdown",
   "metadata": {},
   "source": [
    "### Where do we start?\n",
    "\n",
    "The brief descriptions we've seen already suggest some avenues of exploration: altitude ranges and access to water seem to be of primary importance.\n",
    "\n",
    "#### What can we learn from elevation alone?\n",
    "\n",
    "One place to begin would be to plot out the idealized elevation ranges within which the various tree species thrive. There may be certain elevations where certain tree species would be far more prevalent than others. The graph below illustrates the ranges in which the species of trees discussed the Colorado State Forest Service's [_Colorado's Major Tree Species_](https://csfs.colostate.edu/colorado-trees/colorados-major-tree-species/) thrive, per the article."
   ]
  },
  {
   "cell_type": "markdown",
   "metadata": {
    "ExecuteTime": {
     "end_time": "2019-04-06T16:28:41.024009Z",
     "start_time": "2019-04-06T16:28:40.675304Z"
    }
   },
   "source": [
    "<img src=\"imgs/altitudeRanges4.png\" alt=\"ElevationRangesIdealized\" style=\"width: 800px;\"/>"
   ]
  },
  {
   "cell_type": "markdown",
   "metadata": {},
   "source": [
    "It appears that lower elevations would be strongly suggestive of the `Cottonwood/Willow` `Cover_Type`, while higher elevations might be more suggestive of the `Spruce/Fir`, `Lodgepole Pine`, `Aspen`, and `Krummholz` `Cover_Type`s. The graph above is based upon idealized data from outside sources, though, and our actual dataset might tell a different story. The graphs below present the observed _elevation_ ranges and quartiles by `Cover_Type` in our data.\n",
    "\n",
    "| <center>Elevation Ranges</center> | <center>Elevation Quartiles</center>\n",
    "|-|-\n",
    "|<img src=\"imgs/elevationRanges.png\" alt=\"ElevationRanges\" style=\"width: 600px;\"/> |<img src=\"imgs/elevationQuartiles.png\" alt=\"ElevationQuartiles\" style=\"width: 600px;\"/> |"
   ]
  },
  {
   "cell_type": "markdown",
   "metadata": {},
   "source": [
    "When looking at the ranges, our dataset appears to differ from the idealized one in that the `Cottonwood/Willow` `Cover_Type` does not seem to occur at markedly lower elevations. When looking at the quartiles, though, patterns emerge that appear similar to what we would expect from the idealized presentation: `Cottonwood/Willow` tends to cluster at lower elevations, with the higher elevations dominated by `Spruce/Fir` and `Krummholz` cover types.\n",
    "\n",
    "The separations are surprisingly clean, suggesting that `Elevation` will be a powerful feature in our models. It might be especially powerful if we could develop a method to cluster the altitudes into the interquartile ranges presented in the model above."
   ]
  },
  {
   "cell_type": "markdown",
   "metadata": {},
   "source": [
    "#### What if we bring water into the picture?\n",
    "The other feature that the article suggests might be highly salient is moisture. How does the picture evolve if we add a measure of the distance to water to the mix?\n",
    "\n",
    "The graph below is a scatterplot of the Euclidean distance (derived from the `Horizontal_Distance_To_Hydrology` and `Vertical_Distance_To_Hydrology` features) and the `Elevation`, with data points colored by the `Cover_Type`."
   ]
  },
  {
   "cell_type": "markdown",
   "metadata": {
    "ExecuteTime": {
     "end_time": "2019-04-07T17:10:56.612522Z",
     "start_time": "2019-04-07T17:10:56.592521Z"
    }
   },
   "source": [
    "<img src=\"imgs/hydrologyAndElevationScatter.png\" alt=\"HydrologyAndElevationScatter\" style=\"width: 600px;\"/>"
   ]
  },
  {
   "cell_type": "markdown",
   "metadata": {},
   "source": [
    "The distance to hydrology appears to be informative: `Cover_Type`s 3, 4, and 6 are essentially not found when the distance to water exceeds 750. That said, it remains clear that `Elevation` is the predominant distinguishing feature.\n",
    "\n",
    "#### What if we consider exposure to sunlight and wind?\n",
    "From a layperson's perspective, the amount of sunlight to which a given plot of land is exposed would seem likely to influence the vegetation which thrives there. In our dataset, the `Hillshade` variables encode this information.\n",
    "\n",
    "The plot below compares the 1st quartile, median, and 3rd quartiles for each measure of `Hillshade` for each category of `Cover_Type`.\n",
    "\n",
    "<img src=\"imgs/hillshadeQuartiles.png\" alt=\"HillshadeQuartiles\" style=\"width: 600px;\"/>\n",
    "\n",
    "While the median `Hillshade` values appear to vary a little across categories in the morning and afternoon, the interquartile range largely overlaps across categories. The overall impression is that `Hillshade` is unlikely to be determinative on its own.\n",
    "\n",
    "Exposure to sunlight and wind would also be affected by the `Aspect`, which is essentially the compass direction (0$^\\circ$ is true North, 90$^\\circ$ is East, 180$^\\circ$ is South, 270$^\\circ$ is West) the plot is facing. While the exact nature of the interaction between these features may not be clear *a priori*, we can attempt to collapse the effect into a single feature by taking the first principal component of the `Hillshade_9am` and `Hillshade_3pm` features with the `Aspect` feature.\n",
    "\n",
    "The graph below plots this first principal component against `Elevation`, as we already know `Elevation` is strongly informative.\n",
    "\n",
    "<img src=\"imgs/hillshadeAspectPcaScatter.png\" alt=\"hillshadeAspectPcaScatter\" style=\"width: 600px;\"/>"
   ]
  },
  {
   "cell_type": "markdown",
   "metadata": {},
   "source": [
    "What patterns we see are weak at best. While the `Douglas Fir` category appears to be more prevalent for greater and lesser values of this first principal component, and the `Ponderosa Pine` appears to be slightly more prevalent nearer to zero, it is clear that the `Elevation` remains the dominant feature."
   ]
  },
  {
   "cell_type": "markdown",
   "metadata": {},
   "source": [
    "#### What about the 'Kitchen Sink' approach?\n",
    "\n",
    "So far we've examined `Elevation`, `Hydrology`, `Aspect`, and `Hillshade` features on the basis of the write-ups regarding the various tree species. But what if we just took a look at all of our key features and how they relate to one another?\n",
    "\n",
    "The graph below is a scatterplot matrix incorporating all of the raw simple features in our data, as well as the `Euclidean_Distance_To_Hydrology` feature we composed from the horizontal and vertical distances to hydrology.\n",
    "\n",
    "<img src=\"imgs/scatterplotMatrixElevationAspectWaterHillshade.png\" alt=\"scatterplotMatrixElevationAspectWaterHillshade\" style=\"width: 800px;\"/>"
   ]
  },
  {
   "cell_type": "markdown",
   "metadata": {},
   "source": [
    "While `Elevation` remains the feature that seems to provide the cleanest separation between `Cover_Type`s, two additional features seem to perform pretty well at discriminating the `Lodgepole Pine`s: `Horizontal_Distance_To_Roadways` and `Horizontal_Distance_To_Fire_Points`."
   ]
  },
  {
   "cell_type": "markdown",
   "metadata": {},
   "source": [
    "### Cleaning the Data\n",
    "While exploring the data (see [Annex A](#annexA)), we noted that the `Soil_Type7` and `Soil_Type15` variables are never true. Because there is no variation in this feature, it contributes nothing to any of our models."
   ]
  },
  {
   "cell_type": "code",
   "execution_count": 10,
   "metadata": {
    "ExecuteTime": {
     "end_time": "2019-04-08T17:48:50.110694Z",
     "start_time": "2019-04-08T17:48:50.097737Z"
    }
   },
   "outputs": [],
   "source": [
    "# Removing uninformative features\n",
    "full_features = full_features.drop(['Soil_Type7', 'Soil_Type15'], axis=1)"
   ]
  },
  {
   "cell_type": "markdown",
   "metadata": {},
   "source": [
    "<a id=\"featureEngineering\"></a>\n",
    "# Feature Engineering"
   ]
  },
  {
   "cell_type": "markdown",
   "metadata": {},
   "source": [
    "Successful machine learning projects often depend heavily on feature engineering. The most important feature in a dataset may be a latent one - that is, 'hidden' behind other features which serves as proxies for it. In such a case, the latent feature needs to be explicitly extracted. While we are exploring the potential of various synthetic/constructed features, we will also try to remove original features which are proving uninformative. Doing so will reduce the noise passed into our models. We can keep the engineered and source datasets separate by creating a deep copy of the data."
   ]
  },
  {
   "cell_type": "markdown",
   "metadata": {},
   "source": [
    "### Euclidean Distance to Hydrology"
   ]
  },
  {
   "cell_type": "markdown",
   "metadata": {},
   "source": [
    "As we saw in the [About the Data](#aboutTheData) section, the `Cover_Type`s can be visually broken up based on their distance to hydrology, both horizontally and vertically.  By combining the features into a single feature, we can reduce the overall number of features."
   ]
  },
  {
   "cell_type": "markdown",
   "metadata": {},
   "source": [
    "### Elevation of Hydrology"
   ]
  },
  {
   "cell_type": "markdown",
   "metadata": {},
   "source": [
    "Elevation and Hydrology are very important features when it comes to predicting the `Cover_Type` of an area.  By subtracting the vertical distance to hydrology from the elevation, we can find what the elevation of the hydrology itself it.  This may prove useful by providing a feature that would be able to discern an alpine lake vs a valley stream."
   ]
  },
  {
   "cell_type": "markdown",
   "metadata": {},
   "source": [
    "### Mean Distance to Feature"
   ]
  },
  {
   "cell_type": "markdown",
   "metadata": {},
   "source": [
    "As we saw in the [About the Data](#aboutTheData) section, the distance metrics group the data pretty well for classification.  We can engineer a new feature that incorporates the mean distance to hydrology, fire points, and roadways - the latter two features providing a fair approximation of an area's remoteness."
   ]
  },
  {
   "cell_type": "markdown",
   "metadata": {},
   "source": [
    "### Stony"
   ]
  },
  {
   "cell_type": "markdown",
   "metadata": {},
   "source": [
    "This data set features 40 different types of soils.  When compared to the 7 possible labels, this number of soil types seems a bit extreme.  Different types of trees favor more rocky soils, and so combining all of the stony soil types into a single feature will allow a model to more easily pick up on that."
   ]
  },
  {
   "cell_type": "markdown",
   "metadata": {},
   "source": [
    "### Hillshade"
   ]
  },
  {
   "cell_type": "code",
   "execution_count": 11,
   "metadata": {
    "ExecuteTime": {
     "end_time": "2019-04-08T18:01:20.170251Z",
     "start_time": "2019-04-08T18:01:20.136734Z"
    }
   },
   "outputs": [
    {
     "data": {
      "text/html": [
       "<div>\n",
       "<style scoped>\n",
       "    .dataframe tbody tr th:only-of-type {\n",
       "        vertical-align: middle;\n",
       "    }\n",
       "\n",
       "    .dataframe tbody tr th {\n",
       "        vertical-align: top;\n",
       "    }\n",
       "\n",
       "    .dataframe thead th {\n",
       "        text-align: right;\n",
       "    }\n",
       "</style>\n",
       "<table border=\"1\" class=\"dataframe\">\n",
       "  <thead>\n",
       "    <tr style=\"text-align: right;\">\n",
       "      <th></th>\n",
       "      <th>Hillshade_9am</th>\n",
       "      <th>Hillshade_3pm</th>\n",
       "    </tr>\n",
       "  </thead>\n",
       "  <tbody>\n",
       "    <tr>\n",
       "      <th>count</th>\n",
       "      <td>15120.000000</td>\n",
       "      <td>15120.000000</td>\n",
       "    </tr>\n",
       "    <tr>\n",
       "      <th>mean</th>\n",
       "      <td>212.704299</td>\n",
       "      <td>135.091997</td>\n",
       "    </tr>\n",
       "    <tr>\n",
       "      <th>std</th>\n",
       "      <td>30.561287</td>\n",
       "      <td>45.895189</td>\n",
       "    </tr>\n",
       "    <tr>\n",
       "      <th>min</th>\n",
       "      <td>0.000000</td>\n",
       "      <td>0.000000</td>\n",
       "    </tr>\n",
       "    <tr>\n",
       "      <th>25%</th>\n",
       "      <td>196.000000</td>\n",
       "      <td>106.000000</td>\n",
       "    </tr>\n",
       "    <tr>\n",
       "      <th>50%</th>\n",
       "      <td>220.000000</td>\n",
       "      <td>138.000000</td>\n",
       "    </tr>\n",
       "    <tr>\n",
       "      <th>75%</th>\n",
       "      <td>235.000000</td>\n",
       "      <td>167.000000</td>\n",
       "    </tr>\n",
       "    <tr>\n",
       "      <th>max</th>\n",
       "      <td>254.000000</td>\n",
       "      <td>248.000000</td>\n",
       "    </tr>\n",
       "  </tbody>\n",
       "</table>\n",
       "</div>"
      ],
      "text/plain": [
       "       Hillshade_9am  Hillshade_3pm\n",
       "count   15120.000000   15120.000000\n",
       "mean      212.704299     135.091997\n",
       "std        30.561287      45.895189\n",
       "min         0.000000       0.000000\n",
       "25%       196.000000     106.000000\n",
       "50%       220.000000     138.000000\n",
       "75%       235.000000     167.000000\n",
       "max       254.000000     248.000000"
      ]
     },
     "execution_count": 11,
     "metadata": {},
     "output_type": "execute_result"
    }
   ],
   "source": [
    "full_features[['Hillshade_9am', 'Hillshade_3pm']].describe()"
   ]
  },
  {
   "cell_type": "markdown",
   "metadata": {},
   "source": [
    "### Key Data Assumptions Made\n",
    "\n",
    "One thing to notice about the data is that the `Hillshade_9am` and `Hillshade_3pm` features are missing several values.  We choose to replace these values with the median value for those features.  This will allow the areas with missing values to be more accurately classified as they no longer have un-usable data."
   ]
  },
  {
   "cell_type": "code",
   "execution_count": 12,
   "metadata": {
    "ExecuteTime": {
     "end_time": "2019-04-08T18:03:31.853815Z",
     "start_time": "2019-04-08T18:03:29.248556Z"
    },
    "scrolled": false
   },
   "outputs": [],
   "source": [
    "engineered_features = pd.DataFrame.copy(full_features)\n",
    "engineered_features['Euclidean_Distance_To_Hydrology'] = engineered_features.apply(lambda row: math.sqrt(row.Horizontal_Distance_To_Hydrology**2 + row.Vertical_Distance_To_Hydrology**2), axis=1)\n",
    "engineered_features['Elevation_Of_Hydrology'] = engineered_features['Elevation']-engineered_features['Vertical_Distance_To_Hydrology']\n",
    "engineered_features['Mean_Distance_To_Feature'] = (engineered_features['Horizontal_Distance_To_Hydrology']+engineered_features['Horizontal_Distance_To_Roadways']+engineered_features['Horizontal_Distance_To_Fire_Points'])/3\n",
    "engineered_features['Stony'] = engineered_features[['Soil_Type1', 'Soil_Type2', 'Soil_Type6', 'Soil_Type9', 'Soil_Type12', 'Soil_Type18', 'Soil_Type24', 'Soil_Type25', 'Soil_Type26', 'Soil_Type27', 'Soil_Type28', 'Soil_Type29', 'Soil_Type30', 'Soil_Type31', 'Soil_Type32', 'Soil_Type33', 'Soil_Type34', 'Soil_Type35', 'Soil_Type36', 'Soil_Type37', 'Soil_Type38', 'Soil_Type39', 'Soil_Type40', ]].any(axis=1)\n",
    "median_hillshade_9am = np.median(engineered_features['Hillshade_9am'])\n",
    "engineered_features['Hillshade_9am'] = engineered_features.apply(lambda row: median_hillshade_9am if row.Hillshade_9am == 0 else row.Hillshade_9am, axis=1)\n",
    "median_hillshade_3pm = np.median(engineered_features['Hillshade_3pm'])\n",
    "engineered_features['Hillshade_3pm'] = engineered_features.apply(lambda row: median_hillshade_3pm if row.Hillshade_3pm == 0 else row.Hillshade_3pm, axis=1)\n",
    "\n",
    "np.random.seed(0)\n",
    "e_X_train, e_X_test, e_y_train, e_y_test = train_test_split(engineered_features, full_labels, test_size=0.10)"
   ]
  },
  {
   "cell_type": "markdown",
   "metadata": {},
   "source": [
    "### How to Test Feature Changes"
   ]
  },
  {
   "cell_type": "markdown",
   "metadata": {},
   "source": [
    "Without _a priori_ knowledge of how the interplay between soil types, topography, hydrology, etc. affects forest cover, we need a way to view the performance of new features.  As such we will use a simple Gaussian Naive Bayes model to do predictions, and quanitify the results using cross-validation.  We will be tracking performance across precision, recall, and f1-score."
   ]
  },
  {
   "cell_type": "markdown",
   "metadata": {},
   "source": [
    "#### Naïve Bayes\n",
    "\n",
    "One reasonable place to begin might be a Naïve Bayes classifier. While it is unlikely that all of the features at our disposal are _strictly_ independent, we may be able to relax the assumption of independence enough to explore how a NB model performs.\n",
    "\n",
    "We don't want a Bernoulli NB model: our features are not uniformly binary-valued. We also don't want a Multinomial NB model: per the documentation, it assumes integer feature counts. A Gaussian NB, on the other hand, might work well. While it assumes that the likelihoods of the features are Gaussian - and this is not necessarily strictly the case - it may be worth trying."
   ]
  },
  {
   "cell_type": "code",
   "execution_count": 13,
   "metadata": {
    "ExecuteTime": {
     "end_time": "2019-04-08T18:03:24.390692Z",
     "start_time": "2019-04-08T18:03:24.367690Z"
    }
   },
   "outputs": [
    {
     "name": "stdout",
     "output_type": "stream",
     "text": [
      "Model: Base Data GaussianNB, with 5 folds\n",
      "\t\t\tSpruce/Fir           | precision:  0.72 | recall:  0.50 | f1-score:  0.59 | \n",
      "\t\t\tLodgepole Pine       | precision:  0.13 | recall:  0.73 | f1-score:  0.22 | \n",
      "\t\t\tPonderosa Pine       | precision:  0.73 | recall:  0.43 | f1-score:  0.54 | \n",
      "\t\t\tCottonwood/Willow    | precision:  0.92 | recall:  0.68 | f1-score:  0.78 | \n",
      "\t\t\tAspen                | precision:  0.73 | recall:  0.59 | f1-score:  0.65 | \n",
      "\t\t\tDouglas Fir          | precision:  0.07 | recall:  0.77 | f1-score:  0.12 | \n",
      "\t\t\tKrummholz            | precision:  0.82 | recall:  0.86 | f1-score:  0.84 | \n",
      "\t\t\tmacro avg            | precision:  0.59 | recall:  0.65 | f1-score:  0.54 | \n",
      "\t\t\tmicro avg            | precision:  0.59 | recall:  0.59 | f1-score:  0.59 | \n",
      "\t\t\tweighted avg         | precision:  0.76 | recall:  0.59 | f1-score:  0.65 | \n",
      "\n",
      "Model: Base Data GaussianNB, with 5 folds\n",
      "\t\t\tSpruce/Fir           | precision:  0.73 | recall:  0.53 | f1-score:  0.61 | \n",
      "\t\t\tLodgepole Pine       | precision:  0.16 | recall:  0.73 | f1-score:  0.26 | \n",
      "\t\t\tPonderosa Pine       | precision:  0.73 | recall:  0.44 | f1-score:  0.55 | \n",
      "\t\t\tCottonwood/Willow    | precision:  0.93 | recall:  0.69 | f1-score:  0.79 | \n",
      "\t\t\tAspen                | precision:  0.79 | recall:  0.62 | f1-score:  0.69 | \n",
      "\t\t\tDouglas Fir          | precision:  0.08 | recall:  0.80 | f1-score:  0.14 | \n",
      "\t\t\tKrummholz            | precision:  0.86 | recall:  0.85 | f1-score:  0.85 | \n",
      "\t\t\tmacro avg            | precision:  0.61 | recall:  0.66 | f1-score:  0.56 | \n",
      "\t\t\tmicro avg            | precision:  0.61 | recall:  0.61 | f1-score:  0.61 | \n",
      "\t\t\tweighted avg         | precision:  0.77 | recall:  0.61 | f1-score:  0.66 | \n",
      "\n"
     ]
    }
   ],
   "source": [
    "# Testing on the base data\n",
    "cross_validate_model(GaussianNB(), X_train, y_train, name='Base Data GaussianNB', verbose=True)\n",
    "\n",
    "# Testing on the engineered data\n",
    "cross_validate_model(GaussianNB(), e_X_train, e_y_train, name='Base Data GaussianNB', verbose=True)"
   ]
  },
  {
   "cell_type": "markdown",
   "metadata": {},
   "source": [
    "In this report we will use two metrics to determine how well a particular model performs, precision and recall.  All in all, just throwing a Gaussian Naive Bayes classifier at the data performed better than expected.  It achieved a 76% weighted precision across 5 fold cross validation.  \n",
    "\n",
    "The engineered features do not provide as much improvement as hoped.  They resulted in 1-2% improvements across all of the metrics.  One positive however is that the improved features seem to help the poorly classified labels more than the already well classified labels."
   ]
  },
  {
   "cell_type": "markdown",
   "metadata": {},
   "source": [
    "### Failed Engineered Features"
   ]
  },
  {
   "cell_type": "markdown",
   "metadata": {},
   "source": [
    "Not every feature that is engineered is a useful addition to the data set.  Randomly adding new features can add noise to the dataset without providing any new information.  We have listed the failed features below.  Some highlights include mountain width and prominence (from the `Elevation` and `Slope` features), and a few different ways to view the elevation of an area."
   ]
  },
  {
   "cell_type": "code",
   "execution_count": 14,
   "metadata": {},
   "outputs": [],
   "source": [
    "# engineered_features['Elevation_Away_From_Hydrology'] = engineered_features['Elevation']-engineered_features['Horizontal_Distance_To_Hydrology']\n",
    "# engineered_features['Mountain_Width'] = engineered_features.apply(lambda row: row.Elevation/math.tan(math.radians(row.Slope+.1)), axis=1)\n",
    "# engineered_features['Mountain_Prominence'] = engineered_features.apply(lambda row: row.Elevation/math.sin(math.radians(row.Slope+.1)), axis=1)\n",
    "# engineered_features['Mean_Hillshade'] = engineered_features.apply(lambda row: (row.Hillshade_9am + row.Hillshade_Noon + row.Hillshade_3pm)/3, axis=1)\n",
    "# engineered_features['Morning_Hillshade'] = engineered_features.apply(lambda row: (row.Hillshade_9am * row.Hillshade_Noon), axis=1)\n",
    "# engineered_features['Norm_Horizontal_Distance_To_Hydrology'] = engineered_features['Horizontal_Distance_To_Hydrology']/(np.mean(engineered_features['Horizontal_Distance_To_Hydrology']))\n",
    "# engineered_features['Norm_Elevation'] = engineered_features['Elevation']/(np.mean(engineered_features['Elevation']))\n",
    "# engineered_features['Log_Elevation'] = engineered_features.apply(lambda row: math.log(row.Elevation), axis=1)"
   ]
  },
  {
   "cell_type": "markdown",
   "metadata": {},
   "source": [
    "### Standardization of the Features"
   ]
  },
  {
   "cell_type": "markdown",
   "metadata": {},
   "source": [
    "Standardization is a very important aspect of preparing data for consumption by machine learning models.  It brings all of the features into a simlilar range, meaning that the models will not end up with widely varying coefficients due to the differing scales of features.  By ensuring all features exist within a given range, we eliminate the possibility that a feature could dominate the weighting and prediction process simply by virtue of having a range that is a few orders of magnitude greater than that of another (potentially more meaningful) feature.   We will experiment with several different types of standardization to see which is the most effective. Specifically we will test Min-Max scaling, standard scaling, robust scaling and sklearn's normalizer."
   ]
  },
  {
   "cell_type": "markdown",
   "metadata": {},
   "source": [
    "#### Evaluating standardization using K-Nearest Neighbors"
   ]
  },
  {
   "cell_type": "markdown",
   "metadata": {},
   "source": [
    "One issue with Naïve Bayes models is that they are more or less invariant to feature scaling, and therefore cannot be used when testing different standardization methods.  We will use the `KNearestClassifier` with *K = 3* when testing out our performance on scaled data.  In testing a variety of values for `K`, we found that *K = 3* consistently produced the best results."
   ]
  },
  {
   "cell_type": "code",
   "execution_count": 15,
   "metadata": {
    "ExecuteTime": {
     "end_time": "2019-04-08T18:08:11.887347Z",
     "start_time": "2019-04-08T18:08:11.869348Z"
    }
   },
   "outputs": [
    {
     "name": "stdout",
     "output_type": "stream",
     "text": [
      "Model: 3 Nearest Neighbors, with 5 folds\n",
      "\t\t\tSpruce/Fir           | precision:  0.66 | recall:  0.74 | f1-score:  0.70 | \n",
      "\t\t\tLodgepole Pine       | precision:  0.58 | recall:  0.71 | f1-score:  0.64 | \n",
      "\t\t\tPonderosa Pine       | precision:  0.74 | recall:  0.83 | f1-score:  0.78 | \n",
      "\t\t\tCottonwood/Willow    | precision:  0.96 | recall:  0.90 | f1-score:  0.93 | \n",
      "\t\t\tAspen                | precision:  0.96 | recall:  0.83 | f1-score:  0.89 | \n",
      "\t\t\tDouglas Fir          | precision:  0.85 | recall:  0.80 | f1-score:  0.82 | \n",
      "\t\t\tKrummholz            | precision:  0.97 | recall:  0.88 | f1-score:  0.92 | \n",
      "\t\t\tmacro avg            | precision:  0.82 | recall:  0.81 | f1-score:  0.81 | \n",
      "\t\t\tmicro avg            | precision:  0.82 | recall:  0.82 | f1-score:  0.82 | \n",
      "\t\t\tweighted avg         | precision:  0.84 | recall:  0.82 | f1-score:  0.82 | \n",
      "\n"
     ]
    }
   ],
   "source": [
    "# Testing on the unscaled data\n",
    "cross_validate_model(KNeighborsClassifier(n_neighbors=3), e_X_train, e_y_train, name='3 Nearest Neighbors', verbose=True)"
   ]
  },
  {
   "cell_type": "markdown",
   "metadata": {},
   "source": [
    "The `KNearestClassifier` performed remarkably well on the base data with 83% precision and 81% recall.  This is a remarkably good result for a very basic model.  However with such a low K, it is important to keep overfitting in mind."
   ]
  },
  {
   "cell_type": "markdown",
   "metadata": {},
   "source": [
    "#### In brief: standardizing was unhelpful"
   ]
  },
  {
   "cell_type": "markdown",
   "metadata": {},
   "source": [
    "We tested standardization of our feature set using the following models:\n",
    "+ `MinMaxScaler` with ranges of [-1, 1] and [0, 1]\n",
    "+ `StandardScaler` with the range [0, 1]\n",
    "+ `RobustScaler`\n",
    "+ `Normalizer`\n",
    "\n",
    "The code block below demonstrates the effect of applying each of those standardization approaches. (Removing the `%%capture` line will allow the output to be generated.) Output is currently omitted for parsimony, however, because the central message was that no approach to standardization materially improved performance on the KNN test case. As a result we have also elided extended discussion of the way the various scalers function and the apparent (in)coherence of the transformed features."
   ]
  },
  {
   "cell_type": "code",
   "execution_count": 16,
   "metadata": {
    "ExecuteTime": {
     "end_time": "2019-04-08T18:37:29.643857Z",
     "start_time": "2019-04-08T18:37:29.604320Z"
    }
   },
   "outputs": [],
   "source": [
    "%%capture\n",
    "mm_neg1_1_scaled_df = apply_scaler(MinMaxScaler(feature_range=(-1, 1)), e_X_train)\n",
    "print(\"MinMaxScaler [-1,1]\")\n",
    "mm_neg1_1_scaled_df.head(5)\n",
    "\n",
    "mm_0_1_scaled_df = apply_scaler(MinMaxScaler(feature_range=(0, 1)), e_X_train)\n",
    "print(\"MinMaxScaler [0,1]\")\n",
    "mm_0_1_scaled_df.head(5)\n",
    "\n",
    "standard_scaled_df = apply_scaler(StandardScaler(), e_X_train)\n",
    "print(\"StandardScaler [0,1]\")\n",
    "standard_scaled_df.head(5)\n",
    "\n",
    "r_scaled_df = apply_scaler(RobustScaler(), e_X_train)\n",
    "print(\"RobustScaler [0,1]\")\n",
    "r_scaled_df.head(5)\n",
    "\n",
    "n_scaled_df = apply_scaler(Normalizer(), e_X_train)\n",
    "print(n_scaled_df.shape)\n",
    "n_scaled_df.head(10)"
   ]
  },
  {
   "cell_type": "code",
   "execution_count": 17,
   "metadata": {
    "ExecuteTime": {
     "end_time": "2019-04-07T08:45:02.057657Z",
     "start_time": "2019-04-07T08:45:01.261Z"
    }
   },
   "outputs": [
    {
     "name": "stdout",
     "output_type": "stream",
     "text": [
      "Model: 3 Nearest Neighbors, MinMax scaled [-1,1]\n",
      "\t\t\tweighted avg         | precision:  0.82 | recall:  0.81 | f1-score:  0.81 | \n",
      "Model: 3 Nearest Neighbors, MinMax scaled [0,1]\n",
      "\t\t\tweighted avg         | precision:  0.82 | recall:  0.81 | f1-score:  0.81 | \n",
      "Model: 3 Nearest Neighbors, Standard scaled [0,1]\n",
      "\t\t\tweighted avg         | precision:  0.81 | recall:  0.80 | f1-score:  0.80 | \n",
      "Model: 3 Nearest Neighbors, Robust scaled [0,1]\n",
      "\t\t\tweighted avg         | precision:  0.81 | recall:  0.80 | f1-score:  0.80 | \n",
      "Model: 3 Nearest Neighbors, Normalized\n",
      "\t\t\tweighted avg         | precision:  0.73 | recall:  0.70 | f1-score:  0.71 | \n",
      "Model: 3 Nearest Neighbors\n",
      "\t\t\tweighted avg         | precision:  0.84 | recall:  0.82 | f1-score:  0.82 | \n"
     ]
    }
   ],
   "source": [
    "# Testing on the [-1,1] scaled data again for reference\n",
    "cross_validate_model(KNeighborsClassifier(n_neighbors=3), mm_neg1_1_scaled_df, e_y_train, name='3 Nearest Neighbors, MinMax scaled [-1,1]')\n",
    "# Testing on the [0,1] scaled data\n",
    "cross_validate_model(KNeighborsClassifier(n_neighbors=3), mm_0_1_scaled_df, e_y_train, name='3 Nearest Neighbors, MinMax scaled [0,1]')\n",
    "# Testing on the [0,1] scaled data\n",
    "cross_validate_model(KNeighborsClassifier(n_neighbors=3), standard_scaled_df, e_y_train, name='3 Nearest Neighbors, Standard scaled [0,1]')\n",
    "# Testing on the Robust scaled data\n",
    "cross_validate_model(KNeighborsClassifier(n_neighbors=3), r_scaled_df, e_y_train, name='3 Nearest Neighbors, Robust scaled [0,1]')\n",
    "# Testing on the Normalized data\n",
    "cross_validate_model(KNeighborsClassifier(n_neighbors=3), n_scaled_df, e_y_train, name='3 Nearest Neighbors, Normalized')\n",
    "# Testing on the unscaled data again for reference\n",
    "cross_validate_model(KNeighborsClassifier(n_neighbors=3), e_X_train, e_y_train, name='3 Nearest Neighbors')"
   ]
  },
  {
   "cell_type": "markdown",
   "metadata": {},
   "source": [
    "This test is to determine how much the scaled features affect the KNN model, so we have included the previous basic KNearestNeighbors results for reference.  \n",
    "+ The range used when applying the `MinMaxScaler` does not materially affect the results.\n",
    "+ The `StandardScaler` actually performs slightly worse than the `MinMaxScaler` when used on a KNN-3 model.\n",
    "+ The `RobustScaler` performs approximately as well as the previous models.\n",
    "+ The `Normalizer` generated the worst results of all.\n",
    "\n",
    "Many of the sklearn models that we will deploy apply some built-in standardization before training. Since manually standardizing the features has not improved performance, the remainder of our exploration will use the unstandardized features."
   ]
  },
  {
   "cell_type": "markdown",
   "metadata": {},
   "source": [
    "<a id=\"models\"></a>\n",
    "\n",
    "# Models"
   ]
  },
  {
   "cell_type": "markdown",
   "metadata": {},
   "source": [
    "### Logistic Regression"
   ]
  },
  {
   "cell_type": "markdown",
   "metadata": {},
   "source": [
    "Logistic Regression is a useful model because it is quite interpretable (it is possible to extract the coefficients for individual features), and when given enough data can perform remarkably well."
   ]
  },
  {
   "cell_type": "code",
   "execution_count": 19,
   "metadata": {},
   "outputs": [
    {
     "name": "stdout",
     "output_type": "stream",
     "text": [
      "Model: Logistic Regression, with 5 folds\n",
      "\t\t\tSpruce/Fir           | precision:  0.65 | recall:  0.62 | f1-score:  0.64 | \n",
      "\t\t\tLodgepole Pine       | precision:  0.50 | recall:  0.58 | f1-score:  0.54 | \n",
      "\t\t\tPonderosa Pine       | precision:  0.54 | recall:  0.59 | f1-score:  0.56 | \n",
      "\t\t\tCottonwood/Willow    | precision:  0.88 | recall:  0.79 | f1-score:  0.83 | \n",
      "\t\t\tAspen                | precision:  0.69 | recall:  0.62 | f1-score:  0.65 | \n",
      "\t\t\tDouglas Fir          | precision:  0.54 | recall:  0.56 | f1-score:  0.55 | \n",
      "\t\t\tKrummholz            | precision:  0.84 | recall:  0.87 | f1-score:  0.86 | \n",
      "\t\t\tmacro avg            | precision:  0.66 | recall:  0.66 | f1-score:  0.66 | \n",
      "\t\t\tmicro avg            | precision:  0.66 | recall:  0.66 | f1-score:  0.66 | \n",
      "\t\t\tweighted avg         | precision:  0.67 | recall:  0.66 | f1-score:  0.67 | \n",
      "\n"
     ]
    }
   ],
   "source": [
    "cross_validate_model(LogisticRegression(), e_X_train, e_y_train, name='Logistic Regression', verbose=True)"
   ]
  },
  {
   "cell_type": "markdown",
   "metadata": {},
   "source": [
    "This basic logistic regression gives us a baseline against which to compare other models. The basic one-vs-many `LogisticRegression` classifier achieved an average precision of ~0.67, meaning about 2/3 of its predictions are correct. None of the f1 scores were stellar (above 0.90), but neither were any as terrible as what we saw earlier with a base Naïve Bayes model."
   ]
  },
  {
   "cell_type": "markdown",
   "metadata": {},
   "source": [
    "### K Nearest Neighbors"
   ]
  },
  {
   "cell_type": "markdown",
   "metadata": {},
   "source": [
    "We discussed K Nearest Neighbors above when testing how effective different forms of scaling were.  KNN is a good fit for this type of problem because there are a large number of examples relative to the number of classes.  This means that every new data point will have many 'neighbors' to choose from. We found that the ideal number of neighbors was three as there is enough data to prevent overfitting."
   ]
  },
  {
   "cell_type": "code",
   "execution_count": 20,
   "metadata": {},
   "outputs": [
    {
     "name": "stdout",
     "output_type": "stream",
     "text": [
      "Model: 3 Nearest Neighbors, with 5 folds\n",
      "\t\t\tSpruce/Fir           | precision:  0.66 | recall:  0.74 | f1-score:  0.70 | \n",
      "\t\t\tLodgepole Pine       | precision:  0.58 | recall:  0.71 | f1-score:  0.64 | \n",
      "\t\t\tPonderosa Pine       | precision:  0.74 | recall:  0.83 | f1-score:  0.78 | \n",
      "\t\t\tCottonwood/Willow    | precision:  0.96 | recall:  0.90 | f1-score:  0.93 | \n",
      "\t\t\tAspen                | precision:  0.96 | recall:  0.83 | f1-score:  0.89 | \n",
      "\t\t\tDouglas Fir          | precision:  0.85 | recall:  0.80 | f1-score:  0.82 | \n",
      "\t\t\tKrummholz            | precision:  0.97 | recall:  0.88 | f1-score:  0.92 | \n",
      "\t\t\tmacro avg            | precision:  0.82 | recall:  0.81 | f1-score:  0.81 | \n",
      "\t\t\tmicro avg            | precision:  0.82 | recall:  0.82 | f1-score:  0.82 | \n",
      "\t\t\tweighted avg         | precision:  0.84 | recall:  0.82 | f1-score:  0.82 | \n",
      "\n"
     ]
    }
   ],
   "source": [
    "cross_validate_model(KNeighborsClassifier(n_neighbors=3), e_X_train, e_y_train, name='3 Nearest Neighbors', verbose=True)"
   ]
  },
  {
   "cell_type": "markdown",
   "metadata": {},
   "source": [
    "What KNN does well is perform relatively well across all of the labels.  The lowest precision score it achieves is 56% on `Lodgepole Pines`.  As we saw in the [About the Data](#aboutTheData) section, Lodgepole pine trees thrive in areas that can be covered by many types of trees.  This makes classifying them especially hard with KNN as the Lodgepole covered areas often have neighbors of other cover types."
   ]
  },
  {
   "cell_type": "markdown",
   "metadata": {},
   "source": [
    "### Support Vector Machines"
   ]
  },
  {
   "cell_type": "markdown",
   "metadata": {},
   "source": [
    "Support Vector Machines are a common tool in a data scientist's kit.  They generally perform well on datasets that are semi linearly separable, but they are very slow to train.  We will take a look at the efficacy of SVMs on this data set, as it may give an indication as to how close to linearly separable this data is."
   ]
  },
  {
   "cell_type": "code",
   "execution_count": 22,
   "metadata": {
    "ExecuteTime": {
     "end_time": "2019-04-07T08:46:42.652719Z",
     "start_time": "2019-04-07T08:45:05.680175Z"
    }
   },
   "outputs": [
    {
     "name": "stdout",
     "output_type": "stream",
     "text": [
      "Model: linearSVC, with 5 folds\n",
      "\t\t\tSpruce/Fir           | precision:  0.19 | recall:  0.28 | f1-score:  0.16 | \n",
      "\t\t\tLodgepole Pine       | precision:  0.24 | recall:  0.27 | f1-score:  0.14 | \n",
      "\t\t\tPonderosa Pine       | precision:  0.35 | recall:  0.30 | f1-score:  0.22 | \n",
      "\t\t\tCottonwood/Willow    | precision:  0.54 | recall:  0.75 | f1-score:  0.52 | \n",
      "\t\t\tAspen                | precision:  0.09 | recall:  0.35 | f1-score:  0.14 | \n",
      "\t\t\tDouglas Fir          | precision:  0.43 | recall:  0.20 | f1-score:  0.21 | \n",
      "\t\t\tKrummholz            | precision:  0.49 | recall:  0.58 | f1-score:  0.48 | \n",
      "\t\t\tmacro avg            | precision:  0.33 | recall:  0.39 | f1-score:  0.27 | \n",
      "\t\t\tmicro avg            | precision:  0.33 | recall:  0.33 | f1-score:  0.33 | \n",
      "\t\t\tweighted avg         | precision:  0.80 | recall:  0.33 | f1-score:  0.40 | \n",
      "\n"
     ]
    }
   ],
   "source": [
    "# Basic Linear Support Vector machine \n",
    "cross_validate_model(LinearSVC(), e_X_train, e_y_train, name='linearSVC', verbose=True)"
   ]
  },
  {
   "cell_type": "markdown",
   "metadata": {},
   "source": [
    "The standard linearSVC produces very poor results.  It has extremely low recall, and predicts the `Aspen` and `Ponderosa Pine` categories very poorly.  We will take a look at how it does on scaled data, as SVC's generally require some standardization.  The recommended scaling is mean 0 var 1, but we will see how the existing ones do."
   ]
  },
  {
   "cell_type": "code",
   "execution_count": 23,
   "metadata": {
    "ExecuteTime": {
     "end_time": "2019-04-07T08:48:14.961514Z",
     "start_time": "2019-04-07T08:46:42.659723Z"
    }
   },
   "outputs": [
    {
     "name": "stdout",
     "output_type": "stream",
     "text": [
      "Model: linearSVC, Unscaled\n",
      "\t\t\tweighted avg         | precision:  0.80 | recall:  0.33 | f1-score:  0.40 | \n",
      "Model: linearSVC, MinMax scaled [-1,1]\n",
      "\t\t\tweighted avg         | precision:  0.68 | recall:  0.67 | f1-score:  0.67 | \n",
      "Model: linearSVC, Scaled to mean=0, variance=1\n",
      "\t\t\tweighted avg         | precision:  0.68 | recall:  0.67 | f1-score:  0.67 | \n"
     ]
    }
   ],
   "source": [
    "# Basic Linear Support Vector machine \n",
    "cross_validate_model(LinearSVC(), e_X_train, e_y_train, name='linearSVC, Unscaled')\n",
    "cross_validate_model(LinearSVC(), mm_neg1_1_scaled_df, e_y_train, name='linearSVC, MinMax scaled [-1,1]')\n",
    "scaled_X_train = scale(e_X_train)\n",
    "scaled_X_train_df = pd.DataFrame(data=scaled_X_train,    # values\n",
    "                         columns=e_X_train.columns)  # 1st row as the column names\n",
    "cross_validate_model(LinearSVC(), scaled_X_train_df, e_y_train, name='linearSVC, Scaled to mean=0, variance=1')"
   ]
  },
  {
   "cell_type": "markdown",
   "metadata": {},
   "source": [
    "It turns out that using scaled features made the performance of the `LinearSVC` even worse. That will be the end of the SVC strategy for our purposes."
   ]
  },
  {
   "cell_type": "markdown",
   "metadata": {},
   "source": [
    "### Random Forest Model"
   ]
  },
  {
   "cell_type": "markdown",
   "metadata": {},
   "source": [
    "Random Forests can be extremely effective on datasets with a myriad of features that each contain a little information.  The base data set contains 54 features, 44 of which are binary, making building many of the trees quick and easy. In addition, Random Forest models are also fairly interpretable, as the most salient features can be extracted from the model."
   ]
  },
  {
   "cell_type": "code",
   "execution_count": 24,
   "metadata": {
    "ExecuteTime": {
     "end_time": "2019-04-07T08:48:14.979530Z",
     "start_time": "2019-04-07T08:45:06.407Z"
    }
   },
   "outputs": [
    {
     "name": "stdout",
     "output_type": "stream",
     "text": [
      "Model: RandomForest, with 5 folds\n",
      "\t\t\tSpruce/Fir           | precision:  0.76 | recall:  0.75 | f1-score:  0.75 | \n",
      "\t\t\tLodgepole Pine       | precision:  0.66 | recall:  0.76 | f1-score:  0.70 | \n",
      "\t\t\tPonderosa Pine       | precision:  0.82 | recall:  0.80 | f1-score:  0.81 | \n",
      "\t\t\tCottonwood/Willow    | precision:  0.97 | recall:  0.93 | f1-score:  0.95 | \n",
      "\t\t\tAspen                | precision:  0.93 | recall:  0.89 | f1-score:  0.91 | \n",
      "\t\t\tDouglas Fir          | precision:  0.82 | recall:  0.84 | f1-score:  0.83 | \n",
      "\t\t\tKrummholz            | precision:  0.96 | recall:  0.94 | f1-score:  0.95 | \n",
      "\t\t\tmacro avg            | precision:  0.84 | recall:  0.84 | f1-score:  0.84 | \n",
      "\t\t\tmicro avg            | precision:  0.84 | recall:  0.84 | f1-score:  0.84 | \n",
      "\t\t\tweighted avg         | precision:  0.85 | recall:  0.84 | f1-score:  0.85 | \n",
      "\n"
     ]
    }
   ],
   "source": [
    "cross_validate_model(RandomForestClassifier(), e_X_train, e_y_train, name='RandomForest', verbose=True)"
   ]
  },
  {
   "cell_type": "markdown",
   "metadata": {},
   "source": [
    "The base `RandomForestClassifier` performs quite well out of the box, achieving a respectable ~0.83 across all of our metrics.  Lets see if using standardized data makes a difference."
   ]
  },
  {
   "cell_type": "code",
   "execution_count": 42,
   "metadata": {
    "ExecuteTime": {
     "end_time": "2019-04-07T08:48:14.981526Z",
     "start_time": "2019-04-07T08:45:06.413Z"
    },
    "scrolled": false
   },
   "outputs": [
    {
     "name": "stdout",
     "output_type": "stream",
     "text": [
      "Model: RandomForest, MinMax scaled [0,1]\n",
      "\t\t\tweighted avg         | precision:  0.85 | recall:  0.84 | f1-score:  0.85 | \n",
      "Model: RandomForest\n",
      "\t\t\tweighted avg         | precision:  0.85 | recall:  0.84 | f1-score:  0.85 | \n"
     ]
    }
   ],
   "source": [
    "# Testing on the [0,1] scaled data\n",
    "cross_validate_model(RandomForestClassifier(n_estimators = 10), mm_0_1_scaled_df, e_y_train, name='RandomForest, MinMax scaled [0,1]')\n",
    "# Testing on the unscaled data again for reference\n",
    "cross_validate_model(RandomForestClassifier(n_estimators = 10), e_X_train, e_y_train, name='RandomForest')"
   ]
  },
  {
   "cell_type": "code",
   "execution_count": 28,
   "metadata": {
    "ExecuteTime": {
     "end_time": "2019-04-07T08:48:14.983529Z",
     "start_time": "2019-04-07T08:45:06.422Z"
    }
   },
   "outputs": [],
   "source": [
    "#Note: Must fit the model prior to running this function\n",
    "def FeatImportance(model, dataColumns, title): \n",
    "# Calculate the feature ranking - Top 10 \n",
    "    importances = model.feature_importances_ \n",
    "    indices = np.argsort(importances)[::-1] \n",
    "    print (\"%s Top 10 Features\\n\" %title)\n",
    "    for f in range(10): \n",
    "        print(\"%d. %s (%f)\" % (f + 1, dataColumns.columns[indices[f]], importances[indices[f]])) \n",
    "    #Mean Feature Importance \n",
    "    print (\"\\nMean Feature Importance %.6f\" %np.mean(importances))\n",
    "    #Plot the feature importances of the forest \n",
    "    indices=indices[:10] \n",
    "    plt.figure() \n",
    "    plt.title(title+\" Top 10 Features\") \n",
    "    plt.bar(range(10), importances[indices], color=\"gb\", align=\"center\") \n",
    "    plt.xticks(range(10), dataColumns.columns[indices], fontsize=12, rotation=90) \n",
    "    plt.xlim([-1, 10]) \n",
    "    plt.show()\n",
    "\n"
   ]
  },
  {
   "cell_type": "markdown",
   "metadata": {},
   "source": [
    "As expected, the scaled features did not have an effect on the performance of the model.  Random Forests are made up of trees that only deal with a few features at a time, and do not care if a feature goes from [0,1] or [0,10000].  The tree's decision boundaries are set based on whatever scale that particular feature is at."
   ]
  },
  {
   "cell_type": "markdown",
   "metadata": {},
   "source": [
    "### Gradient Boosting"
   ]
  },
  {
   "cell_type": "markdown",
   "metadata": {},
   "source": [
    "Gradient Boosted Decision Trees are a cousin to the Random Forests.  When a Random Forest is built, it builds many trees in parallel trying to maximize the information gain of each tree.  In Gradient Boosting, trees are made iteratively with each tree attempting to correct the errors of the previous one.  These tend to perform a little better than Random Forests, while maintaining their nice properties."
   ]
  },
  {
   "cell_type": "code",
   "execution_count": 26,
   "metadata": {
    "scrolled": false
   },
   "outputs": [
    {
     "name": "stdout",
     "output_type": "stream",
     "text": [
      "Model: Gradient Boosted Decision Trees (XGBoost)\n",
      "\t\t\tweighted avg         | precision:  0.88 | recall:  0.88 | f1-score:  0.88 | \n"
     ]
    }
   ],
   "source": [
    "cross_validate_model(XGBClassifier(max_depth=10, learning_rate=0.3, n_estimators=200, n_jobs=4), e_X_train, e_y_train, name=f'Gradient Boosted Decision Trees (XGBoost)')"
   ]
  },
  {
   "cell_type": "markdown",
   "metadata": {},
   "source": [
    "Gradient Boosting has proven to be the most effective model so far, achieving the very high score of 0.88 across the board.  This is a pretty great result because classifying new data using a `XGBClassifier` is extremely quick despite the long time it takes to train a new model."
   ]
  },
  {
   "cell_type": "code",
   "execution_count": 29,
   "metadata": {
    "ExecuteTime": {
     "end_time": "2019-04-07T08:48:14.986527Z",
     "start_time": "2019-04-07T08:45:06.427Z"
    }
   },
   "outputs": [
    {
     "name": "stdout",
     "output_type": "stream",
     "text": [
      "Random Forest Top 10 Features\n",
      "\n",
      "1. Elevation (0.186905)\n",
      "2. Elevation_Of_Hydrology (0.153781)\n",
      "3. Mean_Distance_To_Feature (0.066324)\n",
      "4. Horizontal_Distance_To_Roadways (0.058135)\n",
      "5. Horizontal_Distance_To_Fire_Points (0.049055)\n",
      "6. Euclidean_Distance_To_Hydrology (0.044480)\n",
      "7. Horizontal_Distance_To_Hydrology (0.044321)\n",
      "8. Hillshade_9am (0.038664)\n",
      "9. Aspect (0.036399)\n",
      "10. Vertical_Distance_To_Hydrology (0.034118)\n",
      "\n",
      "Mean Feature Importance 0.017857\n"
     ]
    },
    {
     "data": {
      "image/png": "[encoded data removed]",
      "text/plain": [
       "<Figure size 432x288 with 1 Axes>"
      ]
     },
     "metadata": {},
     "output_type": "display_data"
    }
   ],
   "source": [
    "# Generate Initial RF and identify most important features\n",
    "initialRF = RandomForestClassifier(n_estimators = 10)\n",
    "initialRF.fit(e_X_train, e_y_train)\n",
    "FeatImportance(initialRF, e_X_train, \"Random Forest\")"
   ]
  },
  {
   "cell_type": "markdown",
   "metadata": {},
   "source": [
    "By taking a look at the most important features we can see which variables are most effective in predicting the cover type.  As expected the `Elevation` of an area is the biggest predictor of the `Cover_Type`.  Following the elevation of an area, we see the distances to roadways, fire points, and water all having a large effect."
   ]
  },
  {
   "cell_type": "markdown",
   "metadata": {},
   "source": [
    "### Ensemble Model"
   ]
  },
  {
   "cell_type": "markdown",
   "metadata": {},
   "source": [
    "#### Approach\n",
    "In the above analysis, some of the models' performance as measured by precision and recall varied widely across cover types. Most of the models did well with `Cottonwood/Willow` and poorly with `Lodgepole Pine`. We might be able to improve our results by drawing upon the strengths of each different model and take a vote to maximize the overall performance.\n",
    "\n",
    "We use an ensemble model for this purpose. However, we also know that if our top model to date, Random Forest (RF), is more accurate than other models, there is a possibility that the noise level from the poorly performing models will reduce overall performance of the ensemble. To diagnose this, we write our code in such a way that we can also see inside the ensemble, to assess how each individual model performed.\n",
    "\n",
    "In addition to RF, we have also tested KNN, LinearSVC and Logistic Regression models. We should take the opportunity to check other classifiers and see if they can beat our RF model. It is also important to model an ensemble of these various models with and optimizing different parameters to see if we can find a better alternative model. This is a costly and time consuming approach. Executing a GridSearch with multiple model ensembles each with 2-3 parameters often takes hours of processing even on high-end machines with many CPU cores. We, therefore, individually tested and optimized parameters for addition models such as MLP Classifier, Ada Boost, Quadratic Discriminant Analysis and Gaussian Process Classifier. Addditionally, we also varied the hyperparameters for KNN and RF individually to see the best outcome in each model. Finally, we created an ensemble model with 9 models in a \"hard\" and a \"soft\" voting model to see if we can get the best outcome.  \n",
    "\n",
    "#### Results\n",
    "Initial result showed what we suspected. The overall effect of the ensemble models were lower than the random forest. This is because the other models were adding noise to the overall. We then started process of elimination to get the best possible combination. Our simple RF can only be beaten by an ensemble model composed of KNN and RF. "
   ]
  },
  {
   "cell_type": "code",
   "execution_count": 32,
   "metadata": {},
   "outputs": [
    {
     "name": "stdout",
     "output_type": "stream",
     "text": [
      "\t\tSpruce/Fir           | precision:  0.85 | recall:  0.75 | f1-score:  0.80 | \n",
      "\t\tLodgepole Pine       | precision:  0.62 | recall:  0.80 | f1-score:  0.70 | \n",
      "\t\tPonderosa Pine       | precision:  0.89 | recall:  0.83 | f1-score:  0.86 | \n",
      "\t\tCottonwood/Willow    | precision:  0.97 | recall:  0.90 | f1-score:  0.94 | \n",
      "\t\tAspen                | precision:  0.97 | recall:  0.91 | f1-score:  0.94 | \n",
      "\t\tDouglas Fir          | precision:  0.81 | recall:  0.96 | f1-score:  0.88 | \n",
      "\t\tKrummholz            | precision:  0.97 | recall:  0.95 | f1-score:  0.96 | \n",
      "\t\tmacro avg            | precision:  0.87 | recall:  0.87 | f1-score:  0.87 | \n",
      "\t\tmicro avg            | precision:  0.87 | recall:  0.87 | f1-score:  0.87 | \n",
      "\t\tFinal                | precision:  0.88 | recall:  0.87 | f1-score:  0.87 | \n",
      "Accuracy: 0.80 (+/- 0.01) [KNeighborsClassifier]\n",
      "Accuracy: 0.88 (+/- 0.01) [GB]\n",
      "Accuracy: 0.86 (+/- 0.01) [Ensemble]\n"
     ]
    }
   ],
   "source": [
    "# Flooowing code has been tried out with multiple options:\n",
    "# - Engineeered vs. non-engineered datasets\n",
    "# - Scaled vs. non-scaled train/test datasets\n",
    "# - Different model combinations\n",
    "# - Gridseasrch for best hyper parameters\n",
    "\n",
    "from sklearn.model_selection import GridSearchCV\n",
    "from sklearn.ensemble import VotingClassifier\n",
    "from sklearn.gaussian_process import GaussianProcessClassifier\n",
    "from sklearn.gaussian_process.kernels import RBF\n",
    "from sklearn.ensemble import RandomForestClassifier, AdaBoostClassifier\n",
    "from sklearn.neural_network import MLPClassifier\n",
    "from sklearn.discriminant_analysis import QuadraticDiscriminantAnalysis\n",
    "from sklearn.model_selection import cross_val_score\n",
    "\n",
    "#clf1 = LogisticRegression(solver='lbfgs', multi_class='multinomial',random_state=1)\n",
    "clf1 =LinearSVC()\n",
    "clf2 = RandomForestClassifier()\n",
    "clf3 = GaussianNB()\n",
    "clf4 = KNeighborsClassifier()\n",
    "clf5 = SVC(gamma=2, C=1)\n",
    "clf6 = GaussianProcessClassifier(1.0 * RBF(1.0))\n",
    "clf7 = MLPClassifier(alpha=1,activation = 'tanh',solver = 'lbfgs' )\n",
    "#clf8 = AdaBoostClassifier()\n",
    "clf8 = XGBClassifier(max_depth=10, learning_rate=0.3, n_estimators=200, n_jobs=4)\n",
    "clf9 = QuadraticDiscriminantAnalysis()\n",
    "eclf = VotingClassifier(estimators=[\n",
    "#                                    ('lsvc', clf1)\n",
    "#                                    , \n",
    "#                                    ('rf', clf2)\n",
    "#                                    , ('gnb', clf3)\n",
    "#                                   , \n",
    "                                    ('knn', clf4)\n",
    "#                                   , ('svc', clf5)\n",
    "#                                   , ('gpc', clf6)\n",
    "#                                   , ('mlp', clf7)\n",
    "                                   , ('GB', clf8)\n",
    "#                                   , ('qda', clf9)\n",
    "                                   ], voting='hard')\n",
    "\n",
    "params = {\n",
    "    #    'lsvc__C': [1.0, 100.0], \n",
    "    \"knn__n_neighbors\":[3,5,7,],\"knn__weights\":[\"uniform\",\"distance\"],\n",
    "         # 'rf__n_estimators': [5, 10], \"rf__criterion\": [\"gini\", \"entropy\"], \"rf__min_samples_split\":[5,7,10]\n",
    "     }\n",
    "\n",
    "model = GridSearchCV(estimator=eclf, param_grid=params, cv=5)\n",
    "\n",
    "#model.fit(scaled_FX_train, Fy_train)\n",
    "#testPrediction = model.predict(scaled_FX_test)\n",
    "model.fit(e_X_train, e_y_train)\n",
    "testPrediction = model.predict(e_X_test)\n",
    "#model.fit(X_train, y_train)\n",
    "#testPrediction = model.predict(X_test)\n",
    "testReport = metrics.classification_report(testPrediction, e_y_test, output_dict=True)\n",
    "verbose= True\n",
    "\n",
    "reportFields = ['precision', 'recall', 'f1-score']\n",
    "fields = sorted(testReport.keys()) if verbose else ['weighted avg']\n",
    "fieldLabels = [label_names[field] if field in label_names.keys() else field for field in fields]\n",
    "fieldLabels[-1] = \"Final\"\n",
    "\n",
    "for i in range(len(fields)):\n",
    "    output = f'\\t\\t{fieldLabels[i]:<20} | '\n",
    "    for outputField in reportFields:\n",
    "        output += f'{outputField}: {np.mean(testReport[fields[i]][outputField]):>5.2f} | '\n",
    "    print(output)\n",
    "for clf, label in zip([\n",
    "            #clf1,\n",
    "            #clf2, clf3, \n",
    "            clf4\n",
    "            #, clf5,clf6,clf7\n",
    "            ,clf8\n",
    "            #,clf9\n",
    "            , eclf]\n",
    "            , [ \n",
    "                #\"LinearSVC\",\n",
    "                #\"RandomForestClassifier\"\n",
    "                #,\"GaussianNB()\",\n",
    "                \"KNeighborsClassifier\"\n",
    "                #,\"SVC\",\"GaussianProcessClassifier\"\n",
    "                #,\"MLPClassifier\"\n",
    "                ,\"GB\"\n",
    "                #,\"QuadraticDiscriminantAnalysis\"\n",
    "                ,\"Ensemble\"]):\n",
    "     scores = cross_val_score(clf, e_X_train, e_y_train, cv=5, scoring='accuracy')\n",
    "     print(\"Accuracy: %0.2f (+/- %0.2f) [%s]\" % (scores.mean(), scores.std(), label)) "
   ]
  },
  {
   "cell_type": "markdown",
   "metadata": {},
   "source": [
    "## Master Model Result List"
   ]
  },
  {
   "cell_type": "code",
   "execution_count": 33,
   "metadata": {
    "ExecuteTime": {
     "end_time": "2019-04-07T08:48:14.989525Z",
     "start_time": "2019-04-07T08:45:06.771Z"
    }
   },
   "outputs": [
    {
     "name": "stdout",
     "output_type": "stream",
     "text": [
      "Model: LogisticRegression\n",
      "\t\tFinal                | precision:  0.67 | recall:  0.66 | f1-score:  0.67 | \n",
      "Model: GaussianNB\n",
      "\t\tFinal                | precision:  0.79 | recall:  0.62 | f1-score:  0.67 | \n",
      "Model: 3 Nearest Neighbors\n",
      "\t\tFinal                | precision:  0.85 | recall:  0.84 | f1-score:  0.84 | \n",
      "Model: linearSVC\n",
      "\t\tFinal                | precision:  1.00 | recall:  0.15 | f1-score:  0.26 | \n",
      "Model: RandomForest\n",
      "\t\tFinal                | precision:  0.85 | recall:  0.85 | f1-score:  0.85 | \n",
      "Model: Gradient Boosted Decision Trees (XGBoost)\n",
      "\t\tFinal                | precision:  0.88 | recall:  0.87 | f1-score:  0.88 | \n"
     ]
    }
   ],
   "source": [
    "with warnings.catch_warnings(record=False):\n",
    "    test_model(LogisticRegression(), e_X_train, e_y_train, e_X_test, e_y_test, name=\"LogisticRegression\")\n",
    "    \n",
    "    test_model(GaussianNB(), e_X_train, e_y_train, e_X_test, e_y_test, name=\"GaussianNB\")\n",
    "    \n",
    "    test_model(KNeighborsClassifier(n_neighbors=3), e_X_train, e_y_train, e_X_test, e_y_test, name=\"3 Nearest Neighbors\")\n",
    "    \n",
    "    test_model(LinearSVC(), e_X_train, e_y_train, e_X_test, e_y_test, name='linearSVC')\n",
    "    \n",
    "    test_model(RandomForestClassifier(n_estimators = 10), e_X_train, e_y_train, e_X_test, e_y_test, name='RandomForest')\n",
    "    \n",
    "    test_model(XGBClassifier(max_depth=10, learning_rate=0.3, n_estimators=200, n_jobs=4), e_X_train, e_y_train, e_X_test, e_y_test, name=f'Gradient Boosted Decision Trees (XGBoost)')\n",
    "    "
   ]
  },
  {
   "cell_type": "code",
   "execution_count": 41,
   "metadata": {},
   "outputs": [
    {
     "data": {
      "image/png": "[encoded data removed]",
      "text/plain": [
       "<Figure size 432x288 with 2 Axes>"
      ]
     },
     "metadata": {},
     "output_type": "display_data"
    }
   ],
   "source": [
    "import itertools\n",
    "clf = XGBClassifier(max_depth=10, learning_rate=0.3, n_estimators=200, n_jobs=4)\n",
    "clf.fit(e_X_train, e_y_train)\n",
    "pred_y = clf.predict(e_X_test)\n",
    "\n",
    "matrix = confusion_matrix(pred_y, e_y_test)\n",
    "\n",
    "plt.clf()\n",
    "\n",
    "# place labels at the top\n",
    "plt.gca().xaxis.tick_top()\n",
    "plt.gca().xaxis.set_label_position('top')\n",
    "\n",
    "# plot the matrix per se\n",
    "plt.imshow(matrix, interpolation='nearest', cmap=plt.cm.Blues)\n",
    "\n",
    "# plot colorbar to the right\n",
    "plt.colorbar()\n",
    "\n",
    "fmt = 'd'\n",
    "\n",
    "# write the number of predictions in each bucket\n",
    "thresh = matrix.max() / 2.\n",
    "for i, j in itertools.product(range(matrix.shape[0]), range(matrix.shape[1])):\n",
    "\n",
    "    # if background is dark, use a white number, and vice-versa\n",
    "    plt.text(j, i, format(matrix[i, j], fmt),\n",
    "         horizontalalignment=\"center\",\n",
    "         color=\"white\" if matrix[i, j] > thresh else \"black\")\n",
    "\n",
    "#tick_marks = np.arange(len(class_names))\n",
    "#plt.xticks(tick_marks, class_names, rotation=45)\n",
    "#plt.yticks(tick_marks, class_names)\n",
    "plt.tight_layout()\n",
    "plt.ylabel('True label',size=14)\n",
    "plt.xlabel('Predicted label',size=14)\n",
    "plt.show()"
   ]
  },
  {
   "cell_type": "markdown",
   "metadata": {},
   "source": [
    "<a id=\"results\"></a>\n",
    "    \n",
    "# Results"
   ]
  },
  {
   "cell_type": "markdown",
   "metadata": {},
   "source": [
    "The above results show that the Gradient Boosted Decision Tree gives us the best results. Our experiment with the ensemble model could not improve the accuracy any further. our best modes, XGBClassifier, with learning rate of 0.3 and maximum depth of 10, when run wiht 100 estimators gives us the 88% precision, 87% recall rate and F1 Score of .88.\n",
    "\n",
    "This model runs reasonably fast considering the complexity of the dataset. We were also careful to not to to make this model overfitted with the given dataset."
   ]
  },
  {
   "cell_type": "markdown",
   "metadata": {},
   "source": [
    "<a id=\"conclusion\"></a>\n",
    "\n",
    "# Conclusion"
   ]
  },
  {
   "cell_type": "markdown",
   "metadata": {},
   "source": [
    "#### Most Important Features \n",
    "The story that came out of the data was, in many ways, were quire counter intuitive. At the end of the analysis, the key components.\n",
    "    1. Elevation (0.162398)\n",
    "    2. Elevation_Of_Hydrology (0.151600)\n",
    "    3. Mean_Distance_To_Feature (0.070873)\n",
    "    4. Horizontal_Distance_To_Roadways (0.070431)\n",
    "    5. Euclidean_Distance_To_Hydrology (0.057154)\n",
    "    6. Horizontal_Distance_To_Fire_Points (0.051782)\n",
    "    7. Hillshade_Noon (0.036232)\n",
    "    8. Aspect (0.035743)\n",
    "    9. Hillshade_9am (0.035738)\n",
    "    10. Vertical_Distance_To_Hydrology (0.035153)\n",
    "We were surpised that all the details of the soil type, at the end, did not really matter for this dataset. It is true in this case may not be universally true.\n",
    "\n",
    "#### What can be done to improve further \n",
    "    1. More Data Engineering\n",
    "    Due to the time restrictions and large number of variables, we were not able to extract all possibly new features that could improve the models further.\n",
    "    2. Mode model and parameter testing in ensemble\n",
    "    The processing power needed to run complex combination of models, parameters take very long time to proces. and hence we could not test all possible combinations.\n",
    "    \n"
   ]
  },
  {
   "cell_type": "markdown",
   "metadata": {},
   "source": [
    "<a id=\"annexes\"></a>\n",
    "    \n",
    "# Annexes"
   ]
  },
  {
   "cell_type": "markdown",
   "metadata": {},
   "source": [
    "<a id=\"annexA\"></a>\n",
    "\n",
    "## Annex A: Exploratory Data Analysis\n",
    "\n",
    "This appendix contains some of our exploratory data analysis. This includes the code used to generate the 4-number summaries of our data reflected in the [_About the Data_](#aboutTheData) and other summaries. The most informative portions are replicated in the main body of the report.\n",
    "\n",
    "After we load the data from the source file, we examine the basic characteristics of the dataset.\n",
    "  1. We expect to see all of the features discussed above represented in our column names\n",
    "  1. As there is no separate dataset containing the labels for our observations, we would expect to see the 'Cover_Type' variable in our data\n",
    "  1. We would expect to see a shape of (15120, 55) - the 54 features plus our label column"
   ]
  },
  {
   "cell_type": "code",
   "execution_count": null,
   "metadata": {
    "ExecuteTime": {
     "end_time": "2019-04-07T08:48:14.994528Z",
     "start_time": "2019-04-07T08:45:08.073Z"
    }
   },
   "outputs": [],
   "source": [
    "print(f'Columns: {full_data.columns}')\n",
    "print(f'Shape: {full_data.shape}')"
   ]
  },
  {
   "cell_type": "markdown",
   "metadata": {},
   "source": [
    "We take a look at the first several observations to get a sense for the nature of the data."
   ]
  },
  {
   "cell_type": "code",
   "execution_count": null,
   "metadata": {
    "ExecuteTime": {
     "end_time": "2019-04-07T08:48:14.996525Z",
     "start_time": "2019-04-07T08:45:08.249Z"
    }
   },
   "outputs": [],
   "source": [
    "full_features.head()"
   ]
  },
  {
   "cell_type": "markdown",
   "metadata": {},
   "source": [
    "We'll also want to get a high-level summary of each of our features."
   ]
  },
  {
   "cell_type": "code",
   "execution_count": null,
   "metadata": {
    "ExecuteTime": {
     "end_time": "2019-04-07T08:48:14.998527Z",
     "start_time": "2019-04-07T08:45:08.415Z"
    }
   },
   "outputs": [],
   "source": [
    "# Small function to give us a bird's-eye summary of the data\n",
    "def five_num_summary(df, column):\n",
    "    print(f'Column: {column:<35} | ' +\n",
    "          f'Max value: {np.max(df[column]):>6} | ' + \n",
    "          f'Min value: {np.min(df[column]):>7.2f} | ' +\n",
    "          f'Mean: {np.mean(df[column]):>7.2f} | ' +\n",
    "          f'Median: {np.median(df[column]):>7.2f}')\n",
    "\n",
    "for col_name in full_features.columns:\n",
    "    five_num_summary(full_features, col_name)"
   ]
  },
  {
   "cell_type": "markdown",
   "metadata": {},
   "source": [
    "### Checking Label Imbalance"
   ]
  },
  {
   "cell_type": "markdown",
   "metadata": {},
   "source": [
    "It would be useful for us to understand whether we have an imbalanced dataset (i.e., one where certain labels/categories are overrepresented relative to others.) Here we'll quickly describe our training and test labels and just make sure our classes are balanced. We can do this both graphically and numerically."
   ]
  },
  {
   "cell_type": "code",
   "execution_count": null,
   "metadata": {
    "ExecuteTime": {
     "end_time": "2019-04-07T08:48:15.001528Z",
     "start_time": "2019-04-07T08:45:09.065Z"
    }
   },
   "outputs": [],
   "source": [
    "f, (ax1, ax2) = plt.subplots(1, 2, figsize=(8,3), sharey=True)\n",
    "bins = np.arange(8) + 0.5\n",
    "ax1.hist(y_train, bins, width = 0.8)\n",
    "ax1.xaxis.set_major_locator(ticker.MultipleLocator(1))\n",
    "ax1.set_title('Labels')\n",
    "ax2.hist(y_test, bins, width = 0.8)\n",
    "ax2.set_title('Test Labels')\n",
    "plt.xticks(range(8))\n",
    "plt.show()"
   ]
  },
  {
   "cell_type": "code",
   "execution_count": null,
   "metadata": {
    "ExecuteTime": {
     "end_time": "2019-04-07T08:48:15.003529Z",
     "start_time": "2019-04-07T08:45:09.073Z"
    }
   },
   "outputs": [],
   "source": [
    "print(stats.describe(full_labels))\n",
    "print(stats.describe(y_test))\n",
    "for i in range(0, 8):\n",
    "        print(f'i = {i}: Train Ct: {(full_labels==i).sum():>5} | Test Ct: {(y_test==i).sum():>5}')"
   ]
  },
  {
   "cell_type": "markdown",
   "metadata": {},
   "source": [
    "It appears that our classes are quite well-balanced in both our training data and the test data.\n",
    "\n",
    "This is good both because we will not need to deliberately compensate for imbalances and because our model will be unable to achieve reasonable performance simply by guessing the modal category. (Doing so would give accuracy on the training set of 1741/12096 = 0.145, and then accuracy on the test set of 411/3024 = 0.136.)"
   ]
  },
  {
   "cell_type": "markdown",
   "metadata": {},
   "source": [
    "One thing of note is that the `Soil_Type7` and `Soil_Type15` are never true, so this feature tells us nothing.  These features should be removed before any modeling is done."
   ]
  },
  {
   "cell_type": "code",
   "execution_count": null,
   "metadata": {
    "ExecuteTime": {
     "end_time": "2019-04-07T08:48:15.014528Z",
     "start_time": "2019-04-07T08:45:09.803Z"
    }
   },
   "outputs": [],
   "source": [
    "bins = np.arange(0, 360, 10)\n",
    "cut = [0, 45, 90, 135, 180, 225, 270, 315, 360]\n",
    "\n",
    "print(bins)\n",
    "pd.cut(bins, cut)"
   ]
  },
  {
   "cell_type": "code",
   "execution_count": null,
   "metadata": {
    "ExecuteTime": {
     "end_time": "2019-04-07T08:48:15.016527Z",
     "start_time": "2019-04-07T08:45:09.809Z"
    }
   },
   "outputs": [],
   "source": [
    "full_data['Total_Hillshade'] = full_data[['Hillshade_9am', 'Hillshade_Noon', 'Hillshade_3pm']].sum(axis=1)\n",
    "full_data[['Hillshade_9am', 'Hillshade_Noon', 'Hillshade_3pm','Total_Hillshade']].head(20)"
   ]
  },
  {
   "cell_type": "code",
   "execution_count": null,
   "metadata": {
    "ExecuteTime": {
     "end_time": "2019-04-07T12:18:15.186610Z",
     "start_time": "2019-04-07T12:18:14.649610Z"
    }
   },
   "outputs": [],
   "source": [
    "## Make 3D scatterplot to explore water, elevation, and hillshade concurrently\n",
    "\n",
    "%matplotlib qt\n",
    "from mpl_toolkits.mplot3d import Axes3D\n",
    "\n",
    "sparsifier = np.random.randint(0, full_features.shape[0], 5000)\n",
    "\n",
    "sparsified = full_features.iloc[sparsifier,:]\n",
    "sparse_labels = full_labels.iloc[sparsifier]\n",
    "# print(f'Length of sparsified dataset\\n: {sparsified}')\n",
    "\n",
    "full_features['Euclidean_distance_to_water'] = np.sqrt(full_features['Horizontal_Distance_To_Hydrology']**2 + full_features['Vertical_Distance_To_Hydrology']**2)\n",
    "dist_to_water = sparsified['Euclidean_distance_to_water']\n",
    "altitude = sparsified['Elevation']\n",
    "hillshade = sparsified['Hillshade_3pm']\n",
    "color_dict = {1: '#A7C6ED', 2: '#BA0C2F', 3: '#651D32', 4: '#8C8985',\n",
    "              5: '#212721', 6: '#002F6C', 7: '#FFC000'}\n",
    "coloration = [color_dict[x] for x in sparse_labels]\n",
    "fig = plt.figure()\n",
    "ax = fig.add_subplot(111, projection='3d')\n",
    "ax.scatter(hillshade, dist_to_water, altitude, color=coloration, alpha=0.6)\n",
    "# ax.title('Forest cover categorization\\nby distance to water and hillshade')\n",
    "ax.view_init(30, 115)\n",
    "# mouse_init(rotate_btn=1, zoom_btn=3)\n",
    "plt.show()"
   ]
  }
 ],
 "metadata": {
  "kernelspec": {
   "display_name": "Python 3",
   "language": "python",
   "name": "python3"
  },
  "language_info": {
   "codemirror_mode": {
    "name": "ipython",
    "version": 3
   },
   "file_extension": ".py",
   "mimetype": "text/x-python",
   "name": "python",
   "nbconvert_exporter": "python",
   "pygments_lexer": "ipython3",
   "version": "3.6.5"
  },
  "latex_envs": {
   "LaTeX_envs_menu_present": true,
   "autoclose": true,
   "autocomplete": true,
   "bibliofile": "biblio.bib",
   "cite_by": "apalike",
   "current_citInitial": 1,
   "eqLabelWithNumbers": true,
   "eqNumInitial": 1,
   "hotkeys": {
    "equation": "Ctrl-E",
    "itemize": "Ctrl-I"
   },
   "labels_anchors": false,
   "latex_user_defs": false,
   "report_style_numbering": false,
   "user_envs_cfg": false
  },
  "varInspector": {
   "cols": {
    "lenName": 16,
    "lenType": 16,
    "lenVar": 40
   },
   "kernels_config": {
    "python": {
     "delete_cmd_postfix": "",
     "delete_cmd_prefix": "del ",
     "library": "var_list.py",
     "varRefreshCmd": "print(var_dic_list())"
    },
    "r": {
     "delete_cmd_postfix": ") ",
     "delete_cmd_prefix": "rm(",
     "library": "var_list.r",
     "varRefreshCmd": "cat(var_dic_list()) "
    }
   },
   "types_to_exclude": [
    "module",
    "function",
    "builtin_function_or_method",
    "instance",
    "_Feature"
   ],
   "window_display": false
  }
 },
 "nbformat": 4,
 "nbformat_minor": 2
}
