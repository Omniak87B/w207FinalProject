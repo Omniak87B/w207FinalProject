{
 "cells": [
  {
   "cell_type": "code",
   "execution_count": null,
   "metadata": {
    "ExecuteTime": {
     "end_time": "2019-04-07T12:17:52.522435Z",
     "start_time": "2019-04-07T12:17:52.350Z"
    }
   },
   "outputs": [],
   "source": [
    "%matplotlib inline\n",
    "\n",
    "# General libraries\n",
    "import pandas as pd\n",
    "import numpy as np\n",
    "import os\n",
    "import copy\n",
    "import warnings\n",
    "import statsmodels.api as sm\n",
    "from scipy import stats\n",
    "\n",
    "# Plotting and printing libraries\n",
    "import matplotlib.pyplot as plt\n",
    "import matplotlib.ticker as ticker\n",
    "import matplotlib.patches as mpatches\n",
    "import pprint\n",
    "# from matplotlib.pyplot import figure, imshow, axis\n",
    "from matplotlib.image import imread\n",
    "from matplotlib.figure import figaspect\n",
    "\n",
    "\n",
    "# Model-building libraries\n",
    "from sklearn.model_selection import train_test_split, StratifiedKFold\n",
    "from sklearn.preprocessing import normalize, MinMaxScaler, StandardScaler, RobustScaler, Normalizer, scale\n",
    "\n",
    "# SK-learn libraries for learning\n",
    "from sklearn.pipeline import Pipeline\n",
    "from sklearn.neighbors import KNeighborsClassifier\n",
    "from sklearn.linear_model import LogisticRegression\n",
    "from sklearn.naive_bayes import BernoulliNB, GaussianNB, MultinomialNB\n",
    "from sklearn.model_selection import GridSearchCV\n",
    "from sklearn.svm import SVC, LinearSVC\n",
    "\n",
    "# SK-learn libraries for evaluation\n",
    "from sklearn.metrics import confusion_matrix, classification_report\n",
    "from sklearn import metrics"
   ]
  },
  {
   "cell_type": "code",
   "execution_count": null,
   "metadata": {
    "ExecuteTime": {
     "end_time": "2019-04-07T12:17:52.526435Z",
     "start_time": "2019-04-07T12:17:52.355Z"
    }
   },
   "outputs": [],
   "source": [
    "label_names = {'1':'Spruce/Fir', \n",
    "               '2':'Lodgepole Pine', \n",
    "               '3':'Ponderosa Pine', \n",
    "               '4':'Cottonwood/Willow', \n",
    "               '5':'Aspen',\n",
    "               '6':'Douglas Fir',\n",
    "               '7':'Krummholz'}\n",
    "'''Plotting helpers'''\n",
    "\n",
    "color_dict = {1: '#A7C6ED', 2: '#BA0C2F', 3: '#651D32', 4: '#8C8985',\n",
    "              5: '#212721', 6: '#002F6C', 7: '#FFC000'}\n",
    "\n",
    "cat_1 = mpatches.Patch(color=color_dict[1], label=label_names['1'])\n",
    "cat_2 = mpatches.Patch(color=color_dict[2], label=label_names['2'])\n",
    "cat_3 = mpatches.Patch(color=color_dict[3], label=label_names['3'])\n",
    "cat_4 = mpatches.Patch(color=color_dict[4], label=label_names['4'])\n",
    "cat_5 = mpatches.Patch(color=color_dict[5], label=label_names['5'])\n",
    "cat_6 = mpatches.Patch(color=color_dict[6], label=label_names['6'])\n",
    "cat_7 = mpatches.Patch(color=color_dict[7], label=label_names['7'])\n"
   ]
  },
  {
   "cell_type": "code",
   "execution_count": null,
   "metadata": {
    "ExecuteTime": {
     "end_time": "2019-04-07T12:17:52.530436Z",
     "start_time": "2019-04-07T12:17:52.363Z"
    }
   },
   "outputs": [],
   "source": [
    "def apply_scaler(scaler, data):\n",
    "    scaled_data = scaler.fit_transform(data)\n",
    "    # Quick look to see if it behaved as expected\n",
    "    scaled_df = pd.DataFrame(data=scaled_data,    # values\n",
    "                         columns=data.columns)  # 1st row as the column names\n",
    "    return scaled_df"
   ]
  },
  {
   "cell_type": "code",
   "execution_count": null,
   "metadata": {
    "ExecuteTime": {
     "end_time": "2019-04-07T12:17:52.530436Z",
     "start_time": "2019-04-07T12:17:52.368Z"
    }
   },
   "outputs": [],
   "source": [
    "def cross_validate_model(model, X, y, name=\"model\", folds=5, verbose=False):\n",
    "    '''Takes an sklearn or similar model, an X feature set, and a y label set.  \n",
    "    It performs crossvalidation across n folds and prints the results.'''\n",
    "    with warnings.catch_warnings(record=False):\n",
    "        np.random.seed(10)\n",
    "\n",
    "        reportFields = {'precision': [], 'recall': [], 'f1-score': []}\n",
    "        generalReport = {'micro avg': copy.deepcopy(reportFields), \n",
    "                         'macro avg': copy.deepcopy(reportFields), \n",
    "                         'weighted avg':copy.deepcopy(reportFields)}\n",
    "        for key in label_names:\n",
    "            generalReport[key] = copy.deepcopy(reportFields)\n",
    "\n",
    "        skf = StratifiedKFold(n_splits=folds, shuffle=True)\n",
    "        for train_indexes, valid_indexes in skf.split(X, y):\n",
    "            foldXTrain, foldYTrain = X.iloc[train_indexes], y.iloc[train_indexes]\n",
    "            foldXValid, foldYValid = X.iloc[valid_indexes], y.iloc[valid_indexes] \n",
    "\n",
    "            model.fit(foldXTrain, foldYTrain)\n",
    "            foldValidPred = model.predict(foldXValid)\n",
    "            foldReport = metrics.classification_report(foldValidPred, foldYValid, output_dict=True)\n",
    "\n",
    "            for key in foldReport:\n",
    "                for outputField in reportFields:\n",
    "                    generalReport[key][outputField].append(foldReport[key][outputField])\n",
    "        title = f'Model: {name}'\n",
    "        if verbose: title += f', with {folds} folds' \n",
    "        print(title)\n",
    "\n",
    "        fields = sorted(generalReport.keys()) if verbose else ['weighted avg']\n",
    "        fieldLabels = [label_names[field] if field in label_names.keys() else field for field in fields]\n",
    "\n",
    "        for i in range(len(fields)):\n",
    "            output = f'\\t\\t{fieldLabels[i]:<20} | '\n",
    "            for outputField in reportFields:\n",
    "                output += f'{outputField}: {np.mean(generalReport[fields[i]][outputField]):>5.2f} | '\n",
    "            print(output)\n",
    "        if verbose: print()"
   ]
  },
  {
   "cell_type": "code",
   "execution_count": null,
   "metadata": {
    "ExecuteTime": {
     "end_time": "2019-04-07T12:17:52.534435Z",
     "start_time": "2019-04-07T12:17:52.376Z"
    }
   },
   "outputs": [],
   "source": [
    "def test_model(model, X_train, y_train, X_test, y_test, name=\"model\", verbose=False):\n",
    "    with warnings.catch_warnings(record=False):\n",
    "        model.fit(X_train, y_train)\n",
    "        testPrediction = model.predict(X_test)\n",
    "        testReport = metrics.classification_report(testPrediction, y_test, output_dict=True)\n",
    "\n",
    "        print(f'Model: {name}')\n",
    "        reportFields = ['precision', 'recall', 'f1-score']\n",
    "        fields = sorted(testReport.keys()) if verbose else ['weighted avg']\n",
    "        fieldLabels = [label_names[field] if field in label_names.keys() else field for field in fields]\n",
    "        fieldLabels[-1] = \"Final\"\n",
    "        for i in range(len(fields)):\n",
    "            output = f'\\t\\t{fieldLabels[i]:<20} | '\n",
    "            for outputField in reportFields:\n",
    "                output += f'{outputField}: {np.mean(testReport[fields[i]][outputField]):>5.2f} | '\n",
    "            print(output)\n",
    "        if verbose: print()\n",
    "    "
   ]
  },
  {
   "cell_type": "code",
   "execution_count": null,
   "metadata": {
    "ExecuteTime": {
     "end_time": "2019-04-07T12:17:52.542970Z",
     "start_time": "2019-04-07T12:17:52.382Z"
    }
   },
   "outputs": [],
   "source": [
    "def show_photos(list_of_files, multiplier):\n",
    "    w, h = figaspect(0.5) * multiplier\n",
    "    file_ct = len(list_of_files)\n",
    "    fig = plt.figure(figsize=(w,h))\n",
    "    for i in range(file_ct):\n",
    "        a = fig.add_subplot(1, file_ct, i + 1)\n",
    "        image = imread(list_of_files[i])\n",
    "        plt.imshow(image)\n",
    "        plt.axis('off')"
   ]
  },
  {
   "cell_type": "code",
   "execution_count": null,
   "metadata": {
    "ExecuteTime": {
     "end_time": "2019-04-07T12:17:52.542970Z",
     "start_time": "2019-04-07T12:17:52.386Z"
    }
   },
   "outputs": [],
   "source": [
    "# show_photos(list_of_files = ['imgs/1_blue-spruce-tree.jpg',\n",
    "#                  'imgs/1_engelmann-spruce.jpg',\n",
    "#                 'imgs/1_subalpine-fir.jpg',\n",
    "#                 'imgs/1_white-fir-tree.jpg'], multiplier=4)"
   ]
  },
  {
   "cell_type": "code",
   "execution_count": null,
   "metadata": {
    "ExecuteTime": {
     "end_time": "2019-04-07T12:17:52.542970Z",
     "start_time": "2019-04-07T12:17:52.390Z"
    }
   },
   "outputs": [],
   "source": [
    "def get_ranges(df, label_column, range_column, verbose=False):\n",
    "    low_end = []\n",
    "    high_end = []\n",
    "    middle = []\n",
    "    labels = sorted(df[label_column].unique())\n",
    "    if verbose:\n",
    "        print(f'Labels: {labels}')\n",
    "    for label in labels:\n",
    "        low_end.append(df[range_column][df[label_column]==label].min())\n",
    "        high_end.append(df[range_column][df[label_column]==label].max())\n",
    "        middle.append(df[range_column][df[label_column]==label].mean())\n",
    "    return np.asarray(low_end), np.asarray(high_end), np.asarray(middle)"
   ]
  },
  {
   "cell_type": "code",
   "execution_count": null,
   "metadata": {
    "ExecuteTime": {
     "end_time": "2019-04-07T12:17:52.542970Z",
     "start_time": "2019-04-07T12:17:52.395Z"
    }
   },
   "outputs": [],
   "source": [
    "def get_quartiles(df, label_column, range_column, verbose=False):\n",
    "    q1 = []\n",
    "    q3 = []\n",
    "    q2 = []\n",
    "    labels = sorted(df[label_column].unique())\n",
    "    if verbose:\n",
    "        print(f'Labels: {labels}')\n",
    "    for label in labels:\n",
    "        q1.append(df[range_column][df[label_column]==label].quantile(q=0.25))\n",
    "        q2.append(df[range_column][df[label_column]==label].quantile(q=0.5))\n",
    "        q3.append(df[range_column][df[label_column]==label].quantile(q=0.75))\n",
    "        \n",
    "    return np.asarray(q1), np.asarray(q3), np.asarray(q2)"
   ]
  },
  {
   "cell_type": "code",
   "execution_count": null,
   "metadata": {
    "ExecuteTime": {
     "end_time": "2019-04-07T12:17:52.542970Z",
     "start_time": "2019-04-07T12:17:52.399Z"
    }
   },
   "outputs": [],
   "source": [
    "def make_range_chart(list_of_lists, color_mapping_dict, title_text_dict,\n",
    "                     aspect_ratio, share_y=True,\n",
    "                     category_ct=7, verbose=False,\n",
    "                     save=None):\n",
    "    if verbose:\n",
    "        print(f'Length of list of lists: {len(list_of_lists)}')\n",
    "    w, h = figaspect(aspect_ratio)\n",
    "    plt.figure(figsize=(w,h))\n",
    "    \n",
    "    if len(list_of_lists) > 1:\n",
    "        fig, axs = plt.subplots(ncols=len(list_of_lists), nrows=1, sharey=share_y)\n",
    "        i = 0\n",
    "        for data_list in list_of_lists:\n",
    "            base = np.asarray(data_list[0] - 0)\n",
    "            middle = np.asarray(data_list[1] - data_list[0])\n",
    "            top = int(math.ceil(data_list[1].max() / 100.0)) * 100\n",
    "            ceiling = np.asarray(top - data_list[1])\n",
    "            mean = np.asarray(data_list[2])\n",
    "\n",
    "            ind = range(1, category_ct + 1)\n",
    "            width = 0.4\n",
    "            coloration = [color_mapping_dict[x] for x in ind]\n",
    "\n",
    "            if len(list_of_lists) > 1:\n",
    "                if verbose:\n",
    "                    print(f'Selecting subplot {i}')\n",
    "                plt.sca(axs[i])\n",
    "            else:\n",
    "                if verbose:\n",
    "                    print(f'Selecting only subplot ({i})')\n",
    "                plt.sca(0)\n",
    "            p1 = plt.bar(ind, base, width, color='w')\n",
    "            p2 = plt.bar(ind, middle, width, bottom=base, color=coloration)\n",
    "            p3 = plt.bar(ind, ceiling, width, bottom=(base+middle), color='w')\n",
    "            p4 = plt.bar(ind, 3, bottom=mean, color='g')\n",
    "            plt.title(title_text_dict[i])\n",
    "            i += 1\n",
    "    else:\n",
    "        fig, axs = plt.subplots(ncols=len(list_of_lists), nrows=1, sharey=share_y)\n",
    "        data_list = list_of_lists[0]\n",
    "        base = np.asarray(data_list[0] - 0)\n",
    "        middle = np.asarray(data_list[1] - data_list[0])\n",
    "        top = int(math.ceil(data_list[1].max() / 100.0)) * 100\n",
    "        ceiling = np.asarray(top - data_list[1])\n",
    "        mean = np.asarray(data_list[2])\n",
    "\n",
    "        ind = range(1, category_ct + 1)\n",
    "        width = 0.4\n",
    "        coloration = [color_mapping_dict[x] for x in ind]\n",
    "        p1 = plt.bar(ind, base, width, color='w')\n",
    "        p2 = plt.bar(ind, middle, width, bottom=base, color=coloration)\n",
    "        p3 = plt.bar(ind, ceiling, width, bottom=(base+middle), color='w')\n",
    "        p4 = plt.bar(ind, 1, bottom=mean, color='g')\n",
    "        plt.title(title_text_dict[1])\n",
    "\n",
    "#     fig.set_title('Title', pad=20)\n",
    "    plt.subplots_adjust(top=0.75)\n",
    "    fig.suptitle(title_text_dict['figtitle'], fontsize=16)\n",
    "    lgd = plt.legend(handles=[cat_1, cat_2, cat_3, cat_4, cat_5, cat_6, cat_7],\n",
    "           bbox_to_anchor=(1, 1),\n",
    "           bbox_transform=plt.gcf().transFigure)\n",
    "    if save is not None:\n",
    "        plt.savefig(save, bbox_extra_artists=(lgd,), bbox_inches='tight')\n",
    "        if verbose:\n",
    "            print(f'File saved to {save}')\n",
    "    plt.show()  "
   ]
  },
  {
   "cell_type": "code",
   "execution_count": null,
   "metadata": {},
   "outputs": [],
   "source": []
  }
 ],
 "metadata": {
  "kernelspec": {
   "display_name": "Python 3",
   "language": "python",
   "name": "python3"
  },
  "language_info": {
   "codemirror_mode": {
    "name": "ipython",
    "version": 3
   },
   "file_extension": ".py",
   "mimetype": "text/x-python",
   "name": "python",
   "nbconvert_exporter": "python",
   "pygments_lexer": "ipython3",
   "version": "3.7.1"
  },
  "latex_envs": {
   "LaTeX_envs_menu_present": true,
   "autoclose": true,
   "autocomplete": true,
   "bibliofile": "biblio.bib",
   "cite_by": "apalike",
   "current_citInitial": 1,
   "eqLabelWithNumbers": true,
   "eqNumInitial": 1,
   "hotkeys": {
    "equation": "Ctrl-E",
    "itemize": "Ctrl-I"
   },
   "labels_anchors": false,
   "latex_user_defs": false,
   "report_style_numbering": false,
   "user_envs_cfg": false
  },
  "varInspector": {
   "cols": {
    "lenName": 16,
    "lenType": 16,
    "lenVar": 40
   },
   "kernels_config": {
    "python": {
     "delete_cmd_postfix": "",
     "delete_cmd_prefix": "del ",
     "library": "var_list.py",
     "varRefreshCmd": "print(var_dic_list())"
    },
    "r": {
     "delete_cmd_postfix": ") ",
     "delete_cmd_prefix": "rm(",
     "library": "var_list.r",
     "varRefreshCmd": "cat(var_dic_list()) "
    }
   },
   "types_to_exclude": [
    "module",
    "function",
    "builtin_function_or_method",
    "instance",
    "_Feature"
   ],
   "window_display": false
  }
 },
 "nbformat": 4,
 "nbformat_minor": 2
}
