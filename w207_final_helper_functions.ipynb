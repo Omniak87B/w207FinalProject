{
 "cells": [
  {
   "cell_type": "code",
   "execution_count": 2,
   "metadata": {},
   "outputs": [
    {
     "name": "stderr",
     "output_type": "stream",
     "text": [
      "C:\\ProgramData\\Anaconda3\\lib\\site-packages\\statsmodels\\compat\\pandas.py:56: FutureWarning: The pandas.core.datetools module is deprecated and will be removed in a future version. Please use the pandas.tseries module instead.\n",
      "  from pandas.core import datetools\n"
     ]
    }
   ],
   "source": [
    "%matplotlib inline\n",
    "\n",
    "# General libraries\n",
    "import pandas as pd\n",
    "import numpy as np\n",
    "import os\n",
    "import copy\n",
    "import warnings\n",
    "import statsmodels.api as sm\n",
    "from scipy import stats\n",
    "\n",
    "# Plotting and printing libraries\n",
    "import matplotlib.pyplot as plt\n",
    "import matplotlib.ticker as ticker\n",
    "import pprint\n",
    "\n",
    "# Model-building libraries\n",
    "from sklearn.model_selection import train_test_split, StratifiedKFold\n",
    "from sklearn.preprocessing import normalize, MinMaxScaler, StandardScaler, RobustScaler, Normalizer, scale\n",
    "\n",
    "# SK-learn libraries for learning\n",
    "from sklearn.pipeline import Pipeline\n",
    "from sklearn.neighbors import KNeighborsClassifier\n",
    "from sklearn.linear_model import LogisticRegression\n",
    "from sklearn.naive_bayes import BernoulliNB, GaussianNB, MultinomialNB\n",
    "from sklearn.model_selection import GridSearchCV\n",
    "from sklearn.svm import SVC, LinearSVC\n",
    "\n",
    "# SK-learn libraries for evaluation\n",
    "from sklearn.metrics import confusion_matrix, classification_report\n",
    "from sklearn import metrics"
   ]
  },
  {
   "cell_type": "code",
   "execution_count": 3,
   "metadata": {},
   "outputs": [],
   "source": [
    "label_names = {'1':'Spruce/Fir', \n",
    "               '2':'Lodgepole Pine', \n",
    "               '3':'Ponderosa Pine', \n",
    "               '4':'Cottonwood/Willow', \n",
    "               '5':'Aspen',\n",
    "               '6':'Douglas Fir',\n",
    "               '7':'Krummholz'}"
   ]
  },
  {
   "cell_type": "code",
   "execution_count": 4,
   "metadata": {},
   "outputs": [],
   "source": [
    "def CrossValidateModel(model, X, y, name=\"model\", folds=5, verbose=False):\n",
    "    '''Takes an sklearn or similar model, an X feature set, and a y label set.  \n",
    "    It performs crossvalidation across n folds and prints the results.'''\n",
    "    np.random.seed(10)\n",
    "    \n",
    "    reportFields = {'precision': [], 'recall': [], 'f1-score': [], 'support': []}\n",
    "    generalReport = {'micro avg': copy.deepcopy(reportFields), \n",
    "                     'macro avg': copy.deepcopy(reportFields), \n",
    "                     'weighted avg':copy.deepcopy(reportFields)}\n",
    "    for key in label_names:\n",
    "        generalReport[key] = copy.deepcopy(reportFields)\n",
    "    \n",
    "    skf = StratifiedKFold(n_splits=folds, shuffle=True)\n",
    "    for train_indexes, valid_indexes in skf.split(X, y):\n",
    "        foldXTrain, foldYTrain = X.iloc[train_indexes], y.iloc[train_indexes]\n",
    "        foldXValid, foldYValid = X.iloc[valid_indexes], y.iloc[valid_indexes] \n",
    "\n",
    "        model.fit(foldXTrain, foldYTrain)\n",
    "        foldValidPred = model.predict(foldXValid)\n",
    "        foldReport = metrics.classification_report(foldValidPred, foldYValid, output_dict=True)\n",
    "        \n",
    "        for key in foldReport:\n",
    "            for outputField in reportFields:\n",
    "                generalReport[key][outputField].append(foldReport[key][outputField])\n",
    "    title = f'Model: {name}'\n",
    "    if verbose: title += f', with {folds} folds' \n",
    "    print(title)\n",
    "    \n",
    "    fields = sorted(generalReport.keys()) if verbose else ['weighted avg']\n",
    "    fieldLabels = [label_names[field] if field in label_names.keys() else field for field in fields]\n",
    "    \n",
    "    for i in range(len(fields)):\n",
    "        output = f'\\t{fieldLabels[i]:<20} | '\n",
    "        for outputField in reportFields:\n",
    "            output += f'{outputField}: {np.mean(generalReport[fields[i]][outputField]):>5.2f} | '\n",
    "        print(output)\n",
    "    if verbose: print()"
   ]
  },
  {
   "cell_type": "code",
   "execution_count": null,
   "metadata": {},
   "outputs": [],
   "source": []
  }
 ],
 "metadata": {
  "kernelspec": {
   "display_name": "Python 3",
   "language": "python",
   "name": "python3"
  },
  "language_info": {
   "codemirror_mode": {
    "name": "ipython",
    "version": 3
   },
   "file_extension": ".py",
   "mimetype": "text/x-python",
   "name": "python",
   "nbconvert_exporter": "python",
   "pygments_lexer": "ipython3",
   "version": "3.6.4"
  }
 },
 "nbformat": 4,
 "nbformat_minor": 2
}
